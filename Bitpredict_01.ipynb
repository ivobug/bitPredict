{
  "nbformat": 4,
  "nbformat_minor": 0,
  "metadata": {
    "colab": {
      "provenance": []
    },
    "kernelspec": {
      "name": "python3",
      "display_name": "Python 3"
    },
    "language_info": {
      "name": "python"
    },
    "accelerator": "GPU",
    "gpuClass": "standard"
  },
  "cells": [
    {
      "cell_type": "code",
      "execution_count": null,
      "metadata": {
        "colab": {
          "base_uri": "https://localhost:8080/"
        },
        "id": "TQpI8NHwcdAC",
        "outputId": "a7624d69-3304-4f9b-8ed4-2b30b2a8616b"
      },
      "outputs": [
        {
          "output_type": "stream",
          "name": "stdout",
          "text": [
            "--2023-01-09 15:43:16--  https://raw.githubusercontent.com/mrdbourke/tensorflow-deep-learning/main/extras/BTC_USD_2013-10-01_2021-05-18-CoinDesk.csv\n",
            "Resolving raw.githubusercontent.com (raw.githubusercontent.com)... 185.199.111.133, 185.199.110.133, 185.199.108.133, ...\n",
            "Connecting to raw.githubusercontent.com (raw.githubusercontent.com)|185.199.111.133|:443... connected.\n",
            "HTTP request sent, awaiting response... 200 OK\n",
            "Length: 178509 (174K) [text/plain]\n",
            "Saving to: ‘BTC_USD_2013-10-01_2021-05-18-CoinDesk.csv’\n",
            "\n",
            "\r          BTC_USD_2   0%[                    ]       0  --.-KB/s               \rBTC_USD_2013-10-01_ 100%[===================>] 174.33K  --.-KB/s    in 0.02s   \n",
            "\n",
            "2023-01-09 15:43:16 (7.03 MB/s) - ‘BTC_USD_2013-10-01_2021-05-18-CoinDesk.csv’ saved [178509/178509]\n",
            "\n"
          ]
        }
      ],
      "source": [
        "!wget https://raw.githubusercontent.com/mrdbourke/tensorflow-deep-learning/main/extras/BTC_USD_2013-10-01_2021-05-18-CoinDesk.csv"
      ]
    },
    {
      "cell_type": "code",
      "source": [
        "import pandas as pd\n",
        "\n",
        "df=pd.read_csv('/content/BTC_USD_2013-10-01_2021-05-18-CoinDesk.csv',\n",
        "               parse_dates=[\"Date\"],\n",
        "               index_col=['Date'])\n",
        "\n",
        "df.head()"
      ],
      "metadata": {
        "colab": {
          "base_uri": "https://localhost:8080/",
          "height": 237
        },
        "id": "FIdQt54YdsWT",
        "outputId": "daf63929-0d5a-4dc2-e934-389b81e5dcd1"
      },
      "execution_count": null,
      "outputs": [
        {
          "output_type": "execute_result",
          "data": {
            "text/plain": [
              "           Currency  Closing Price (USD)  24h Open (USD)  24h High (USD)  \\\n",
              "Date                                                                       \n",
              "2013-10-01      BTC            123.65499       124.30466       124.75166   \n",
              "2013-10-02      BTC            125.45500       123.65499       125.75850   \n",
              "2013-10-03      BTC            108.58483       125.45500       125.66566   \n",
              "2013-10-04      BTC            118.67466       108.58483       118.67500   \n",
              "2013-10-05      BTC            121.33866       118.67466       121.93633   \n",
              "\n",
              "            24h Low (USD)  \n",
              "Date                       \n",
              "2013-10-01      122.56349  \n",
              "2013-10-02      123.63383  \n",
              "2013-10-03       83.32833  \n",
              "2013-10-04      107.05816  \n",
              "2013-10-05      118.00566  "
            ],
            "text/html": [
              "\n",
              "  <div id=\"df-8d8287ba-a5a7-444d-9e58-e375c75e575c\">\n",
              "    <div class=\"colab-df-container\">\n",
              "      <div>\n",
              "<style scoped>\n",
              "    .dataframe tbody tr th:only-of-type {\n",
              "        vertical-align: middle;\n",
              "    }\n",
              "\n",
              "    .dataframe tbody tr th {\n",
              "        vertical-align: top;\n",
              "    }\n",
              "\n",
              "    .dataframe thead th {\n",
              "        text-align: right;\n",
              "    }\n",
              "</style>\n",
              "<table border=\"1\" class=\"dataframe\">\n",
              "  <thead>\n",
              "    <tr style=\"text-align: right;\">\n",
              "      <th></th>\n",
              "      <th>Currency</th>\n",
              "      <th>Closing Price (USD)</th>\n",
              "      <th>24h Open (USD)</th>\n",
              "      <th>24h High (USD)</th>\n",
              "      <th>24h Low (USD)</th>\n",
              "    </tr>\n",
              "    <tr>\n",
              "      <th>Date</th>\n",
              "      <th></th>\n",
              "      <th></th>\n",
              "      <th></th>\n",
              "      <th></th>\n",
              "      <th></th>\n",
              "    </tr>\n",
              "  </thead>\n",
              "  <tbody>\n",
              "    <tr>\n",
              "      <th>2013-10-01</th>\n",
              "      <td>BTC</td>\n",
              "      <td>123.65499</td>\n",
              "      <td>124.30466</td>\n",
              "      <td>124.75166</td>\n",
              "      <td>122.56349</td>\n",
              "    </tr>\n",
              "    <tr>\n",
              "      <th>2013-10-02</th>\n",
              "      <td>BTC</td>\n",
              "      <td>125.45500</td>\n",
              "      <td>123.65499</td>\n",
              "      <td>125.75850</td>\n",
              "      <td>123.63383</td>\n",
              "    </tr>\n",
              "    <tr>\n",
              "      <th>2013-10-03</th>\n",
              "      <td>BTC</td>\n",
              "      <td>108.58483</td>\n",
              "      <td>125.45500</td>\n",
              "      <td>125.66566</td>\n",
              "      <td>83.32833</td>\n",
              "    </tr>\n",
              "    <tr>\n",
              "      <th>2013-10-04</th>\n",
              "      <td>BTC</td>\n",
              "      <td>118.67466</td>\n",
              "      <td>108.58483</td>\n",
              "      <td>118.67500</td>\n",
              "      <td>107.05816</td>\n",
              "    </tr>\n",
              "    <tr>\n",
              "      <th>2013-10-05</th>\n",
              "      <td>BTC</td>\n",
              "      <td>121.33866</td>\n",
              "      <td>118.67466</td>\n",
              "      <td>121.93633</td>\n",
              "      <td>118.00566</td>\n",
              "    </tr>\n",
              "  </tbody>\n",
              "</table>\n",
              "</div>\n",
              "      <button class=\"colab-df-convert\" onclick=\"convertToInteractive('df-8d8287ba-a5a7-444d-9e58-e375c75e575c')\"\n",
              "              title=\"Convert this dataframe to an interactive table.\"\n",
              "              style=\"display:none;\">\n",
              "        \n",
              "  <svg xmlns=\"http://www.w3.org/2000/svg\" height=\"24px\"viewBox=\"0 0 24 24\"\n",
              "       width=\"24px\">\n",
              "    <path d=\"M0 0h24v24H0V0z\" fill=\"none\"/>\n",
              "    <path d=\"M18.56 5.44l.94 2.06.94-2.06 2.06-.94-2.06-.94-.94-2.06-.94 2.06-2.06.94zm-11 1L8.5 8.5l.94-2.06 2.06-.94-2.06-.94L8.5 2.5l-.94 2.06-2.06.94zm10 10l.94 2.06.94-2.06 2.06-.94-2.06-.94-.94-2.06-.94 2.06-2.06.94z\"/><path d=\"M17.41 7.96l-1.37-1.37c-.4-.4-.92-.59-1.43-.59-.52 0-1.04.2-1.43.59L10.3 9.45l-7.72 7.72c-.78.78-.78 2.05 0 2.83L4 21.41c.39.39.9.59 1.41.59.51 0 1.02-.2 1.41-.59l7.78-7.78 2.81-2.81c.8-.78.8-2.07 0-2.86zM5.41 20L4 18.59l7.72-7.72 1.47 1.35L5.41 20z\"/>\n",
              "  </svg>\n",
              "      </button>\n",
              "      \n",
              "  <style>\n",
              "    .colab-df-container {\n",
              "      display:flex;\n",
              "      flex-wrap:wrap;\n",
              "      gap: 12px;\n",
              "    }\n",
              "\n",
              "    .colab-df-convert {\n",
              "      background-color: #E8F0FE;\n",
              "      border: none;\n",
              "      border-radius: 50%;\n",
              "      cursor: pointer;\n",
              "      display: none;\n",
              "      fill: #1967D2;\n",
              "      height: 32px;\n",
              "      padding: 0 0 0 0;\n",
              "      width: 32px;\n",
              "    }\n",
              "\n",
              "    .colab-df-convert:hover {\n",
              "      background-color: #E2EBFA;\n",
              "      box-shadow: 0px 1px 2px rgba(60, 64, 67, 0.3), 0px 1px 3px 1px rgba(60, 64, 67, 0.15);\n",
              "      fill: #174EA6;\n",
              "    }\n",
              "\n",
              "    [theme=dark] .colab-df-convert {\n",
              "      background-color: #3B4455;\n",
              "      fill: #D2E3FC;\n",
              "    }\n",
              "\n",
              "    [theme=dark] .colab-df-convert:hover {\n",
              "      background-color: #434B5C;\n",
              "      box-shadow: 0px 1px 3px 1px rgba(0, 0, 0, 0.15);\n",
              "      filter: drop-shadow(0px 1px 2px rgba(0, 0, 0, 0.3));\n",
              "      fill: #FFFFFF;\n",
              "    }\n",
              "  </style>\n",
              "\n",
              "      <script>\n",
              "        const buttonEl =\n",
              "          document.querySelector('#df-8d8287ba-a5a7-444d-9e58-e375c75e575c button.colab-df-convert');\n",
              "        buttonEl.style.display =\n",
              "          google.colab.kernel.accessAllowed ? 'block' : 'none';\n",
              "\n",
              "        async function convertToInteractive(key) {\n",
              "          const element = document.querySelector('#df-8d8287ba-a5a7-444d-9e58-e375c75e575c');\n",
              "          const dataTable =\n",
              "            await google.colab.kernel.invokeFunction('convertToInteractive',\n",
              "                                                     [key], {});\n",
              "          if (!dataTable) return;\n",
              "\n",
              "          const docLinkHtml = 'Like what you see? Visit the ' +\n",
              "            '<a target=\"_blank\" href=https://colab.research.google.com/notebooks/data_table.ipynb>data table notebook</a>'\n",
              "            + ' to learn more about interactive tables.';\n",
              "          element.innerHTML = '';\n",
              "          dataTable['output_type'] = 'display_data';\n",
              "          await google.colab.output.renderOutput(dataTable, element);\n",
              "          const docLink = document.createElement('div');\n",
              "          docLink.innerHTML = docLinkHtml;\n",
              "          element.appendChild(docLink);\n",
              "        }\n",
              "      </script>\n",
              "    </div>\n",
              "  </div>\n",
              "  "
            ]
          },
          "metadata": {},
          "execution_count": 2
        }
      ]
    },
    {
      "cell_type": "code",
      "source": [
        "df.info()"
      ],
      "metadata": {
        "colab": {
          "base_uri": "https://localhost:8080/"
        },
        "id": "yIwWcCPtfcOj",
        "outputId": "2a6718b2-9773-48a6-c391-48ead9390a23"
      },
      "execution_count": null,
      "outputs": [
        {
          "output_type": "stream",
          "name": "stdout",
          "text": [
            "<class 'pandas.core.frame.DataFrame'>\n",
            "DatetimeIndex: 2787 entries, 2013-10-01 to 2021-05-18\n",
            "Data columns (total 5 columns):\n",
            " #   Column               Non-Null Count  Dtype  \n",
            "---  ------               --------------  -----  \n",
            " 0   Currency             2787 non-null   object \n",
            " 1   Closing Price (USD)  2787 non-null   float64\n",
            " 2   24h Open (USD)       2787 non-null   float64\n",
            " 3   24h High (USD)       2787 non-null   float64\n",
            " 4   24h Low (USD)        2787 non-null   float64\n",
            "dtypes: float64(4), object(1)\n",
            "memory usage: 130.6+ KB\n"
          ]
        }
      ]
    },
    {
      "cell_type": "code",
      "source": [
        "bitcoin_prices= pd.DataFrame(df[\"Closing Price (USD)\"]).rename(columns={\"Closing Price (USD)\":\"Price\"})"
      ],
      "metadata": {
        "id": "An3YsbAIfhM0"
      },
      "execution_count": null,
      "outputs": []
    },
    {
      "cell_type": "code",
      "source": [],
      "metadata": {
        "id": "G3kLyRXdkZrp"
      },
      "execution_count": null,
      "outputs": []
    },
    {
      "cell_type": "code",
      "source": [
        "import matplotlib.pyplot as plt\n",
        "bitcoin_prices.plot(figsize=(10,7))\n",
        "plt.ylabel(\"BTC Price\")\n",
        "plt.title(\"Price of Bitcoin\")\n"
      ],
      "metadata": {
        "colab": {
          "base_uri": "https://localhost:8080/",
          "height": 475
        },
        "id": "thm38shLmacS",
        "outputId": "512d5a3d-e51d-418c-e951-735681141a49"
      },
      "execution_count": null,
      "outputs": [
        {
          "output_type": "execute_result",
          "data": {
            "text/plain": [
              "Text(0.5, 1.0, 'Price of Bitcoin')"
            ]
          },
          "metadata": {},
          "execution_count": 5
        },
        {
          "output_type": "display_data",
          "data": {
            "text/plain": [
              "<Figure size 720x504 with 1 Axes>"
            ],
            "image/png": "[encoded data removed]"
          },
          "metadata": {
            "needs_background": "light"
          }
        }
      ]
    },
    {
      "cell_type": "code",
      "source": [
        "import csv \n",
        "from datetime import datetime\n",
        "\n",
        "timesteps=[]\n",
        "btc_price=[]\n",
        "with open(\"/content/BTC_USD_2013-10-01_2021-05-18-CoinDesk.csv\", \"r\")as f:\n",
        "  csv_reader= csv.reader(f,delimiter=',')\n",
        "  next(csv_reader)\n",
        "  for line in csv_reader:\n",
        "    timesteps.append(datetime.strptime(line[1], \"%Y-%m-%d\"))\n",
        "    btc_price.append(float(line[2]))\n",
        "\n",
        "timesteps[:10], btc_price[:10]"
      ],
      "metadata": {
        "colab": {
          "base_uri": "https://localhost:8080/"
        },
        "id": "sEpIFcP_nchz",
        "outputId": "1e4bb82a-28b5-466a-d763-2de2f580e7a5"
      },
      "execution_count": null,
      "outputs": [
        {
          "output_type": "execute_result",
          "data": {
            "text/plain": [
              "([datetime.datetime(2013, 10, 1, 0, 0),\n",
              "  datetime.datetime(2013, 10, 2, 0, 0),\n",
              "  datetime.datetime(2013, 10, 3, 0, 0),\n",
              "  datetime.datetime(2013, 10, 4, 0, 0),\n",
              "  datetime.datetime(2013, 10, 5, 0, 0),\n",
              "  datetime.datetime(2013, 10, 6, 0, 0),\n",
              "  datetime.datetime(2013, 10, 7, 0, 0),\n",
              "  datetime.datetime(2013, 10, 8, 0, 0),\n",
              "  datetime.datetime(2013, 10, 9, 0, 0),\n",
              "  datetime.datetime(2013, 10, 10, 0, 0)],\n",
              " [123.65499,\n",
              "  125.455,\n",
              "  108.58483,\n",
              "  118.67466,\n",
              "  121.33866,\n",
              "  120.65533,\n",
              "  121.795,\n",
              "  123.033,\n",
              "  124.049,\n",
              "  125.96116])"
            ]
          },
          "metadata": {},
          "execution_count": 6
        }
      ]
    },
    {
      "cell_type": "code",
      "source": [
        "import numpy as np\n",
        "plt.figure(figsize=(10,7))\n",
        "plt.plot(timesteps,btc_price)\n",
        "plt.ylabel(\"BTC Price\")\n",
        "plt.title(\"Price of Bitcoin\")"
      ],
      "metadata": {
        "colab": {
          "base_uri": "https://localhost:8080/",
          "height": 461
        },
        "id": "4tdUyj4Uon-9",
        "outputId": "3140f1c1-070e-4f32-d5fd-29baa2761cfb"
      },
      "execution_count": null,
      "outputs": [
        {
          "output_type": "execute_result",
          "data": {
            "text/plain": [
              "Text(0.5, 1.0, 'Price of Bitcoin')"
            ]
          },
          "metadata": {},
          "execution_count": 7
        },
        {
          "output_type": "display_data",
          "data": {
            "text/plain": [
              "<Figure size 720x504 with 1 Axes>"
            ],
            "image/png": "[encoded data removed]"
          },
          "metadata": {
            "needs_background": "light"
          }
        }
      ]
    },
    {
      "cell_type": "code",
      "source": [
        "timesteps = bitcoin_prices.index.to_numpy()\n",
        "prices = bitcoin_prices[\"Price\"].to_numpy()"
      ],
      "metadata": {
        "id": "hxl9qtlJlIHx"
      },
      "execution_count": null,
      "outputs": []
    },
    {
      "cell_type": "code",
      "source": [
        "# Create train and test splits the right way for time series data\n",
        "split_size = int(0.8 * len(prices)) # 80% train, 20% test\n",
        "\n",
        "# Create train data splits (everything before the split)\n",
        "X_train, y_train = timesteps[:split_size], prices[:split_size]\n",
        "\n",
        "# Create test data splits (everything after the split)\n",
        "X_test, y_test = timesteps[split_size:], prices[split_size:]\n",
        "\n",
        "len(X_train), len(X_test), len(y_train), len(y_test)"
      ],
      "metadata": {
        "colab": {
          "base_uri": "https://localhost:8080/"
        },
        "id": "oGo_2fUiuLkj",
        "outputId": "86226de8-d8af-4351-e5c7-abfcf0faaa0b"
      },
      "execution_count": null,
      "outputs": [
        {
          "output_type": "execute_result",
          "data": {
            "text/plain": [
              "(2229, 558, 2229, 558)"
            ]
          },
          "metadata": {},
          "execution_count": 9
        }
      ]
    },
    {
      "cell_type": "code",
      "source": [
        "plt.figure(figsize=(10,7))\n",
        "plt.scatter(X_train, y_train, s=5, label=\"Train data\")\n",
        "plt.scatter(X_test, y_test, s=5, label=\"Test data\")\n",
        "\n",
        "plt.xlabel(\"Date\")\n",
        "plt.ylabel(\"BTC Price\")\n",
        "plt.show()"
      ],
      "metadata": {
        "colab": {
          "base_uri": "https://localhost:8080/",
          "height": 442
        },
        "id": "8jt2elypvj1X",
        "outputId": "5a9b1d52-9a8f-4405-a938-5a01523bd5ab"
      },
      "execution_count": null,
      "outputs": [
        {
          "output_type": "display_data",
          "data": {
            "text/plain": [
              "<Figure size 720x504 with 1 Axes>"
            ],
            "image/png": "[encoded data removed]"
          },
          "metadata": {
            "needs_background": "light"
          }
        }
      ]
    },
    {
      "cell_type": "code",
      "source": [
        "def plot_time_series(timesteps, values, format='.', start=0, end=None, label=None):\n",
        "  \"\"\"\n",
        "  Plots a timesteps (a series of points in time) against values (a series of values across timesteps).\n",
        "  \n",
        "  Parameters\n",
        "  ---------\n",
        "  timesteps : array of timesteps\n",
        "  values : array of values across time\n",
        "  format : style of plot, default \".\"\n",
        "  start : where to start the plot (setting a value will index from start of timesteps & values)\n",
        "  end : where to end the plot (setting a value will index from end of timesteps & values)\n",
        "  label : label to show on plot of values\n",
        "  \"\"\"\n",
        "  # Plot the series\n",
        "  plt.plot(timesteps[start:end], values[start:end], format, label=label)\n",
        "  plt.xlabel(\"Time\")\n",
        "  plt.ylabel(\"BTC Price\")\n",
        "  if label:\n",
        "    plt.legend(fontsize=14) # make label bigger\n",
        "  plt.grid(True)\n",
        "     "
      ],
      "metadata": {
        "id": "VDWx0VGGyMYv"
      },
      "execution_count": null,
      "outputs": []
    },
    {
      "cell_type": "code",
      "source": [
        "plt.figure(figsize=(10, 7))\n",
        "plot_time_series(timesteps=X_train, values=y_train, label=\"Train data\")\n",
        "plot_time_series(timesteps=X_test, values=y_test, label=\"Test data\")"
      ],
      "metadata": {
        "colab": {
          "base_uri": "https://localhost:8080/",
          "height": 442
        },
        "id": "BoAwXffiyly7",
        "outputId": "d69a309f-bebf-4dfa-e48a-948f1e46cf2a"
      },
      "execution_count": null,
      "outputs": [
        {
          "output_type": "display_data",
          "data": {
            "text/plain": [
              "<Figure size 720x504 with 1 Axes>"
            ],
            "image/png": "[encoded data removed]"
          },
          "metadata": {
            "needs_background": "light"
          }
        }
      ]
    },
    {
      "cell_type": "code",
      "source": [
        "naive_forecast= y_test[:-1]\n",
        "naive_forecast[-10:]"
      ],
      "metadata": {
        "colab": {
          "base_uri": "https://localhost:8080/"
        },
        "id": "Lh_37CZ75awP",
        "outputId": "beba5a49-62d2-4c83-bafe-babde599c55c"
      },
      "execution_count": null,
      "outputs": [
        {
          "output_type": "execute_result",
          "data": {
            "text/plain": [
              "array([57107.12067189, 58788.20967893, 58102.19142623, 55715.54665129,\n",
              "       56573.5554719 , 52147.82118698, 49764.1320816 , 50032.69313676,\n",
              "       47885.62525472, 45604.61575361])"
            ]
          },
          "metadata": {},
          "execution_count": 13
        }
      ]
    },
    {
      "cell_type": "code",
      "source": [
        "plt.figure(figsize=(10, 7))\n",
        "#plot_time_series(timesteps=X_train, values=y_train, label=\"Train data\")\n",
        "plot_time_series(timesteps=X_test, values=y_test,format=\"-\", label=\"Test data\")\n",
        "plot_time_series(timesteps=X_test[1:], values=naive_forecast,format=\"-\", label=\"Naive\")"
      ],
      "metadata": {
        "colab": {
          "base_uri": "https://localhost:8080/",
          "height": 442
        },
        "id": "6M2yGxFt5_sd",
        "outputId": "30c05933-64ce-4984-a4f6-7b3301714d6f"
      },
      "execution_count": null,
      "outputs": [
        {
          "output_type": "display_data",
          "data": {
            "text/plain": [
              "<Figure size 720x504 with 1 Axes>"
            ],
            "image/png": "[encoded data removed]"
          },
          "metadata": {
            "needs_background": "light"
          }
        }
      ]
    },
    {
      "cell_type": "code",
      "source": [
        "import tensorflow as tf"
      ],
      "metadata": {
        "id": "BmXJHaq9XS-z"
      },
      "execution_count": null,
      "outputs": []
    },
    {
      "cell_type": "code",
      "source": [
        "def mean_absolute_scaled_error(y_true, y_pred):\n",
        "  \"\"\"\n",
        "  Implement MASE (assuming no seasonality of data).\n",
        "  \"\"\"\n",
        "  mae = tf.reduce_mean(tf.abs(y_true - y_pred))\n",
        "\n",
        "  # Find MAE of naive forecast (no seasonality)\n",
        "  mae_naive_no_season = tf.reduce_mean(tf.abs(y_true[1:] - y_true[:-1])) # our seasonality is 1 day (hence the shifting of 1 day)\n",
        "\n",
        "  return mae / mae_naive_no_season"
      ],
      "metadata": {
        "id": "BbgDyJlEbASq"
      },
      "execution_count": null,
      "outputs": []
    },
    {
      "cell_type": "code",
      "source": [
        "naive_forecast"
      ],
      "metadata": {
        "colab": {
          "base_uri": "https://localhost:8080/"
        },
        "id": "ScYjmyujeJQD",
        "outputId": "db546b39-108d-44bf-cd5a-72df35c2647e"
      },
      "execution_count": null,
      "outputs": [
        {
          "output_type": "execute_result",
          "data": {
            "text/plain": [
              "array([ 9226.48582088,  8794.35864452,  8798.04205463,  9081.18687849,\n",
              "        8711.53433917,  8760.89271814,  8749.52059102,  8656.97092235,\n",
              "        8500.64355816,  8469.2608989 ,  8537.33965197,  8205.80636599,\n",
              "        8118.4885358 ,  8074.84317361,  7612.7405735 ,  7262.11053495,\n",
              "        7303.40575852,  7041.73293642,  7211.86180875,  7141.06944869,\n",
              "        7523.4806726 ,  7390.20746923,  7729.26593894,  7542.23560864,\n",
              "        7381.96300782,  7333.43293049,  7315.36776456,  7213.73376172,\n",
              "        7398.78704961,  7511.88058312,  7532.12351309,  7550.23919987,\n",
              "        7333.09604316,  7239.76257544,  7198.06667705,  7190.27236926,\n",
              "        7238.87432299,  7087.02498535,  7112.73147612,  6883.49639377,\n",
              "        6584.02884335,  7424.01540023,  7147.56832379,  7139.93337053,\n",
              "        7286.33508116,  7236.98620461,  7166.17237853,  7235.6266505 ,\n",
              "        7212.80939522,  7183.70653603,  7227.29371168,  7311.56064392,\n",
              "        7385.46484791,  7251.27679432,  7179.95781929,  7174.74401195,\n",
              "        6955.48757967,  7291.21950532,  7337.63667014,  7347.43326444,\n",
              "        7713.86075365,  8039.60370082,  8067.60636906,  7808.70136382,\n",
              "        8087.45288524,  8078.99353199,  8149.31371715,  8116.96100795,\n",
              "        8735.14243914,  8843.67573222,  8711.6375779 ,  8925.29902845,\n",
              "        8939.86430025,  8638.18144046,  8652.68376299,  8708.78601343,\n",
              "        8635.07435696,  8384.08877677,  8451.23229602,  8347.56750541,\n",
              "        8562.30747044,  8881.96239146,  9131.11498806,  9320.97840625,\n",
              "        9545.07795659,  9388.88075189,  9363.19338276,  9385.26038584,\n",
              "        9269.70703484,  9177.89463721,  9625.4566372 ,  9681.37741131,\n",
              "        9795.34406595,  9927.77825642, 10132.70649911,  9838.90001628,\n",
              "       10236.63514823, 10364.92628823, 10218.0997373 , 10367.52799811,\n",
              "        9926.35369057,  9876.23496321,  9636.62409482, 10189.99598297,\n",
              "        9701.0371915 ,  9631.48494596,  9670.85865437,  9689.08674285,\n",
              "        9919.55144784,  9640.46950506,  9392.86962872,  8787.97836316,\n",
              "        8784.99535244,  8778.4705108 ,  8639.5914173 ,  8548.94832242,\n",
              "        8923.04439826,  8791.11205813,  8756.96106241,  9078.57877713,\n",
              "        9126.63682222,  8925.21348778,  8166.31389402,  7875.75087522,\n",
              "        7959.22827421,  7955.30628418,  5800.20890483,  5672.68120103,\n",
              "        5304.14995219,  5355.18737353,  4944.70233598,  5465.58259412,\n",
              "        5363.82285325,  6301.06340407,  6185.27983852,  6187.05375022,\n",
              "        5884.34013347,  6455.45468825,  6784.31801143,  6706.98508913,\n",
              "        6721.49539238,  6682.7800492 ,  6229.48834283,  5922.48983509,\n",
              "        6483.73944553,  6446.42134684,  6537.3364615 ,  6850.55871169,\n",
              "        6776.37009357,  6855.93326446,  6805.3622869 ,  7278.24396977,\n",
              "        7175.66747656,  7367.29339845,  7321.81661389,  6866.39818901,\n",
              "        6873.84849516,  7043.43886352,  6889.86377235,  6887.55490783,\n",
              "        6718.79995028,  7166.58281714,  7065.08238904,  7277.14058556,\n",
              "        7185.87030343,  6856.14643454,  6904.4757727 ,  7118.38874792,\n",
              "        7562.03283175,  7497.86176383,  7542.3034007 ,  7624.85378592,\n",
              "        7776.50754257,  7761.75878408,  8773.10648796,  8767.67262337,\n",
              "        8853.77448401,  8963.0575578 ,  8904.71381654,  8887.50589259,\n",
              "        8978.28358712,  9371.68427279,  9900.67886662,  9917.24841434,\n",
              "        9617.51819493,  8786.65518165,  8608.12524504,  8815.2312449 ,\n",
              "        9330.9864847 ,  9757.29658559,  9362.63555697,  9418.91855051,\n",
              "        9684.70195935,  9723.68015045,  9719.48085448,  9540.88656658,\n",
              "        9141.15063742,  9192.84513581,  9220.07588747,  9048.71511916,\n",
              "        8905.78160454,  8835.72722404,  9112.97917559,  9507.52466466,\n",
              "        9425.28186919,  9688.32439037,  9427.67008414, 10268.58198473,\n",
              "        9516.13544309,  9667.06075426,  9811.3670946 ,  9659.66129819,\n",
              "        9677.05099451,  9737.45855879,  9791.92789977,  9786.14202048,\n",
              "        9874.96704752,  9260.83264099,  9464.22809682,  9458.6597544 ,\n",
              "        9351.95372801,  9441.76899555,  9510.66063729,  9457.62707441,\n",
              "        9398.64209362,  9279.76076517,  9353.07819619,  9289.10449144,\n",
              "        9680.9471279 ,  9609.68024553,  9311.13631832,  9252.63337177,\n",
              "        9171.73208577,  9022.153768  ,  9101.85005736,  9188.06137546,\n",
              "        9148.44485856,  9236.31677043,  9097.79736639,  9094.32456102,\n",
              "        9124.6535344 ,  9055.46448252,  9278.80563704,  9244.41581454,\n",
              "        9471.75997342,  9236.14325371,  9243.17525915,  9229.85975494,\n",
              "        9286.73704209,  9238.99375486,  9260.47098018,  9211.02643289,\n",
              "        9133.77783034,  9160.41059149,  9176.6863901 ,  9190.2715342 ,\n",
              "        9172.58833257,  9395.06444588,  9530.79088535,  9617.37786138,\n",
              "        9568.97472596,  9708.9491401 ,  9938.95122286, 11187.77972696,\n",
              "       10939.67014155, 11284.45898685, 11118.91841243, 11373.31725664,\n",
              "       11766.74829709, 11139.09838035, 11261.80633174, 11228.02632402,\n",
              "       11653.40758556, 11796.81736499, 11639.93541013, 11744.9120755 ,\n",
              "       11673.12323754, 11832.22730813, 11340.58234064, 11549.54631437,\n",
              "       11752.16865623, 11783.28341126, 11895.62694989, 11896.94717019,\n",
              "       12399.11188466, 12071.73890908, 11749.82950876, 11833.8973487 ,\n",
              "       11583.13894263, 11674.62435391, 11666.41012224, 11744.01269665,\n",
              "       11378.72602981, 11458.82259649, 11302.1209645 , 11482.22568651,\n",
              "       11515.04443069, 11657.00393423, 11678.37325542, 11964.20867246,\n",
              "       11427.70260497, 10712.92064607, 10563.89693862, 10042.85485437,\n",
              "       10207.60500296, 10381.77610693, 10043.19644129, 10268.46091575,\n",
              "       10341.01598385, 10380.53959723, 10436.36540836, 10313.06857949,\n",
              "       10680.29756117, 10829.5053072 , 11033.38352648, 10937.1112591 ,\n",
              "       10933.9311624 , 11048.87927816, 10852.91013894, 10526.2028872 ,\n",
              "       10531.16456263, 10260.03301241, 10672.95680806, 10729.06960742,\n",
              "       10741.47646752, 10752.34544975, 10863.06572391, 10764.28437072,\n",
              "       10741.5795495 , 10626.6009565 , 10567.33019523, 10555.02867878,\n",
              "       10660.61118264, 10756.40458492, 10589.62639353, 10645.75478678,\n",
              "       10897.59543151, 11052.39508367, 11360.85271687, 11334.02674203,\n",
              "       11666.21170032, 11443.73279182, 11395.54736637, 11504.54900671,\n",
              "       11355.16043945, 11358.70637963, 11471.00254779, 11776.59299733,\n",
              "       11936.36291334, 13102.93446155, 13140.66928406, 12933.82356549,\n",
              "       13081.67255949, 13008.45325775, 13033.52427008, 13721.28222485,\n",
              "       13282.26034792, 13467.73178281, 13573.71050315, 13891.21683316,\n",
              "       13730.19731094, 13633.69821689, 13832.93840977, 14163.9768155 ,\n",
              "       15424.52767669, 15540.59659081, 14783.98167853, 15500.33425474,\n",
              "       15283.78013873, 15374.04438576, 15820.49524108, 16253.31027194,\n",
              "       16347.04492035, 15991.8330244 , 15918.08012811, 16752.00298996,\n",
              "       17593.48641493, 17834.63653371, 17954.8580091 , 18612.87067218,\n",
              "       18591.85660475, 18629.99553726, 18469.20046948, 19045.73646565,\n",
              "       18746.9348067 , 17187.40627633, 17023.96140009, 17814.78027844,\n",
              "       18114.41434928, 19382.36058587, 18980.97745012, 19184.89784774,\n",
              "       19464.53170456, 18813.12476029, 19045.0202726 , 19113.93339509,\n",
              "       19107.59979531, 18682.45783321, 18543.00704922, 18359.47660034,\n",
              "       18137.31937461, 18882.26017106, 19060.27690128, 19251.22400471,\n",
              "       19443.47635283, 21310.65626223, 22895.97623755, 23008.77625674,\n",
              "       23890.82264887, 23537.36989089, 23177.27099799, 23433.98075814,\n",
              "       23224.45413785, 23623.88553323, 24581.00617127, 26381.29623292,\n",
              "       26389.29026494, 26718.0294634 , 26975.72956452, 28768.83620753,\n",
              "       29111.52156712, 29333.60512062, 32154.16736327, 33002.53642704,\n",
              "       31431.61227972, 34433.60651384, 36275.75634767, 39713.50785672,\n",
              "       40519.44859753, 40258.92398866, 38709.76537488, 34409.64237522,\n",
              "       34214.61026205, 37017.00750345, 38435.86351466, 36751.58497369,\n",
              "       36016.77960594, 36375.81137926, 36346.60950223, 36577.51964639,\n",
              "       35004.53262688, 30606.18267565, 33368.36593189, 32070.0974252 ,\n",
              "       32285.72613244, 32500.25596269, 32324.55565073, 30534.99937302,\n",
              "       33408.21833739, 34842.55739312, 34622.37323153, 33087.36986452,\n",
              "       33613.32076431, 35632.90195152, 37397.42636409, 37256.25211087,\n",
              "       37851.59659008, 40302.79979284, 38461.6814033 , 44716.68546906,\n",
              "       46674.85168811, 45237.47568925, 47500.8975242 , 47884.1828623 ,\n",
              "       47005.1906489 , 49151.16757632, 48125.99219541, 48840.41447458,\n",
              "       52165.30255522, 51728.50879673, 55719.2043617 , 54801.64864399,\n",
              "       57128.64260647, 54181.91464919, 48172.87747693, 48745.43298434,\n",
              "       48291.41208335, 45752.11491941, 46642.60607658, 45092.8065726 ,\n",
              "       49248.91401331, 47900.77687833, 50811.85517444, 48259.48707666,\n",
              "       49149.73082884, 48879.15190416, 50594.69857451, 51503.25813218,\n",
              "       54458.03781142, 56915.17393505, 57636.75796197, 57306.16626299,\n",
              "       60743.04182491, 60197.9019918 , 56300.33410863, 56639.78394967,\n",
              "       58567.28378106, 57983.09474357, 58451.73146595, 58593.60245406,\n",
              "       57796.46737122, 54329.35863463, 54794.29771371, 52787.74552575,\n",
              "       52173.86798025, 54483.0457323 , 56234.356105  , 55343.92581533,\n",
              "       57627.6792491 , 58734.47543372, 58724.66451663, 58984.61292993,\n",
              "       58821.62699444, 57517.79877314, 58177.40276373, 58843.55954021,\n",
              "       58040.18760188, 56508.94286388, 57880.90568386, 58171.9090187 ,\n",
              "       59295.95004401, 59822.90167743, 59853.19724227, 63223.88439079,\n",
              "       62926.5571759 , 63346.78903511, 61965.7825981 , 60574.44472823,\n",
              "       56850.83016569, 56224.10158771, 56608.76974839, 54144.42747606,\n",
              "       51965.05955941, 50669.14438218, 50733.76950364, 48542.95220298,\n",
              "       53558.70784462, 55123.86198142, 54591.51532554, 53260.29534115,\n",
              "       57302.64642408, 57677.9752219 , 56427.04312502, 57255.30683756,\n",
              "       53658.84312082, 57252.7021845 , 56583.84987917, 57107.12067189,\n",
              "       58788.20967893, 58102.19142623, 55715.54665129, 56573.5554719 ,\n",
              "       52147.82118698, 49764.1320816 , 50032.69313676, 47885.62525472,\n",
              "       45604.61575361])"
            ]
          },
          "metadata": {},
          "execution_count": 17
        }
      ]
    },
    {
      "cell_type": "code",
      "source": [
        "mean_absolute_scaled_error(y_true= y_test[1:], y_pred=naive_forecast)"
      ],
      "metadata": {
        "colab": {
          "base_uri": "https://localhost:8080/"
        },
        "id": "8QeXpOT2dQPQ",
        "outputId": "6fbc7bad-9973-43c9-a2c2-11e2f8f8dcae"
      },
      "execution_count": null,
      "outputs": [
        {
          "output_type": "execute_result",
          "data": {
            "text/plain": [
              "<tf.Tensor: shape=(), dtype=float64, numpy=0.9995699939182624>"
            ]
          },
          "metadata": {},
          "execution_count": 18
        }
      ]
    },
    {
      "cell_type": "code",
      "source": [
        "def evaluate_preds(y_true, y_pred):\n",
        "  # Make sure float32 (for metric calculations)\n",
        "  # y_true = tf.cast(y_true, dtype=tf.float32)\n",
        "  # y_pred = tf.cast(y_pred, dtype=tf.float32)\n",
        "\n",
        "  # Calculate various metrics\n",
        "  mae = tf.keras.metrics.mean_absolute_error(y_true, y_pred)\n",
        "  mse = tf.keras.metrics.mean_squared_error(y_true, y_pred) # puts and emphasis on outliers (all errors get squared)\n",
        "  rmse = tf.sqrt(mse)\n",
        "  mape = tf.keras.metrics.mean_absolute_percentage_error(y_true, y_pred)\n",
        "  mase = mean_absolute_scaled_error(y_true, y_pred)\n",
        "  \n",
        "  if mae.ndim>0:\n",
        "    mae=tf.reduce_mean(mae)\n",
        "    mse=tf.reduce_mean(mse)\n",
        "    rmse=tf.reduce_mean(rmse)\n",
        "    mape=tf.reduce_mean(mape)\n",
        "    mase=tf.reduce_mean(mase)\n",
        "\n",
        "  return {\"mae\": mae.numpy(),\n",
        "          \"mse\": mse.numpy(),\n",
        "          \"rmse\": rmse.numpy(),\n",
        "          \"mape\": mape.numpy(),\n",
        "          \"mase\": mase.numpy()}"
      ],
      "metadata": {
        "id": "Z7JdAvOniFD5"
      },
      "execution_count": null,
      "outputs": []
    },
    {
      "cell_type": "code",
      "source": [
        "naive_results = evaluate_preds(y_true=y_test[1:],\n",
        "                               y_pred=naive_forecast)\n",
        "naive_results"
      ],
      "metadata": {
        "colab": {
          "base_uri": "https://localhost:8080/"
        },
        "id": "C-EGEYmViLD9",
        "outputId": "a7e10e5f-0739-42b6-d65a-4bcfa3ef25fe"
      },
      "execution_count": null,
      "outputs": [
        {
          "output_type": "execute_result",
          "data": {
            "text/plain": [
              "{'mae': 567.9802273457541,\n",
              " 'mse': 1147547.1250238959,\n",
              " 'rmse': 1071.2362601330744,\n",
              " 'mape': 2.516524929982267,\n",
              " 'mase': 0.9995699939182624}"
            ]
          },
          "metadata": {},
          "execution_count": 20
        }
      ]
    },
    {
      "cell_type": "code",
      "source": [
        "HORIZON= 1\n",
        "WINDOW_SIZE= 7"
      ],
      "metadata": {
        "id": "tKF_BsZztR2K"
      },
      "execution_count": null,
      "outputs": []
    },
    {
      "cell_type": "code",
      "source": [
        "def get_labelled_windows(x, horizon=HORIZON):\n",
        "  return x[:,:-horizon], x[:,-horizon:]\n"
      ],
      "metadata": {
        "id": "amZNBVBDtyP6"
      },
      "execution_count": null,
      "outputs": []
    },
    {
      "cell_type": "code",
      "source": [
        "import numpy as np\n",
        "def make_windows(x, window_size=WINDOW_SIZE, horizon=HORIZON):\n",
        "  window_step=np.expand_dims(np.arange(window_size+horizon),axis=0)\n",
        "  window_indexes= window_step + np.expand_dims(np.arange(len(x)- (window_size+horizon-1)),axis=0).T\n",
        "  #print(window_step, np.expand_dims(np.arange(len(x)- (window_size+horizon-1)),axis=0).T)\n",
        "  windowed_array= x[window_indexes]\n",
        "  #print(windowed_array)\n",
        "\n",
        "  windows, labels= get_labelled_windows(windowed_array, horizon)\n",
        "  #print(windows,labels)\n",
        "  return windows, labels\n",
        "\n",
        "full_windows, full_labels= make_windows(prices)\n",
        "len(full_windows), len(full_labels)\n"
      ],
      "metadata": {
        "id": "QbhridSz5QRp",
        "colab": {
          "base_uri": "https://localhost:8080/"
        },
        "outputId": "9ae8701a-09ea-49fd-82a8-fd68db2247c8"
      },
      "execution_count": null,
      "outputs": [
        {
          "output_type": "execute_result",
          "data": {
            "text/plain": [
              "(2780, 2780)"
            ]
          },
          "metadata": {},
          "execution_count": 23
        }
      ]
    },
    {
      "cell_type": "code",
      "source": [
        "for i in range(3):\n",
        "  print(full_windows[i],full_labels[i])"
      ],
      "metadata": {
        "colab": {
          "base_uri": "https://localhost:8080/"
        },
        "id": "UlMJQFNKOXlK",
        "outputId": "d42e9a43-656f-4ab6-f13c-be4aaff94cf6"
      },
      "execution_count": null,
      "outputs": [
        {
          "output_type": "stream",
          "name": "stdout",
          "text": [
            "[123.65499 125.455   108.58483 118.67466 121.33866 120.65533 121.795  ] [123.033]\n",
            "[125.455   108.58483 118.67466 121.33866 120.65533 121.795   123.033  ] [124.049]\n",
            "[108.58483 118.67466 121.33866 120.65533 121.795   123.033   124.049  ] [125.96116]\n"
          ]
        }
      ]
    },
    {
      "cell_type": "code",
      "source": [
        "def make_train_test_splits(windows, labels, test_split=0.2):\n",
        "  splits_size= int(len(windows)*(1-test_split))\n",
        "  train_windows= windows[:split_size]\n",
        "  train_labels=labels[:split_size]\n",
        "  test_windows= windows[split_size:]\n",
        "  test_labels= labels[split_size:]\n",
        "  return train_windows, test_windows, train_labels, test_labels"
      ],
      "metadata": {
        "id": "btScPlP3QbGc"
      },
      "execution_count": null,
      "outputs": []
    },
    {
      "cell_type": "code",
      "source": [
        "train_windows, test_windows, train_labels, test_labels = make_train_test_splits(full_windows, full_labels)\n",
        "len(train_windows), len(test_windows), len(train_labels), len(test_labels)\n"
      ],
      "metadata": {
        "colab": {
          "base_uri": "https://localhost:8080/"
        },
        "id": "bT0xCSGQzcvo",
        "outputId": "d41c7f96-97a7-4017-c5bf-2ac6bde203a7"
      },
      "execution_count": null,
      "outputs": [
        {
          "output_type": "execute_result",
          "data": {
            "text/plain": [
              "(2229, 551, 2229, 551)"
            ]
          },
          "metadata": {},
          "execution_count": 26
        }
      ]
    },
    {
      "cell_type": "code",
      "source": [
        "train_windows"
      ],
      "metadata": {
        "colab": {
          "base_uri": "https://localhost:8080/"
        },
        "id": "xWiQ6bjp2lRp",
        "outputId": "8ae3f0f5-4d94-4569-efdb-e7829d027694"
      },
      "execution_count": null,
      "outputs": [
        {
          "output_type": "execute_result",
          "data": {
            "text/plain": [
              "array([[ 123.65499   ,  125.455     ,  108.58483   , ...,  121.33866   ,\n",
              "         120.65533   ,  121.795     ],\n",
              "       [ 125.455     ,  108.58483   ,  118.67466   , ...,  120.65533   ,\n",
              "         121.795     ,  123.033     ],\n",
              "       [ 108.58483   ,  118.67466   ,  121.33866   , ...,  121.795     ,\n",
              "         123.033     ,  124.049     ],\n",
              "       ...,\n",
              "       [9369.62808116, 9326.59962378, 9335.75240233, ..., 8794.35864452,\n",
              "        8798.04205463, 9081.18687849],\n",
              "       [9326.59962378, 9335.75240233, 9226.48582088, ..., 8798.04205463,\n",
              "        9081.18687849, 8711.53433917],\n",
              "       [9335.75240233, 9226.48582088, 8794.35864452, ..., 9081.18687849,\n",
              "        8711.53433917, 8760.89271814]])"
            ]
          },
          "metadata": {},
          "execution_count": 27
        }
      ]
    },
    {
      "cell_type": "code",
      "source": [
        "import os\n",
        "\n",
        "def create_model_checkpoint(model_name, save_path=\"model_experiments\"):\n",
        "  return tf.keras.callbacks.ModelCheckpoint(filepath=os.path.join(save_path,model_name),\n",
        "                                            monitor=\"val_loss\",\n",
        "                                            verbose=0,\n",
        "                                            save_best_only=True)\n",
        "  \n",
        "\n"
      ],
      "metadata": {
        "id": "euju3BDB5iZB"
      },
      "execution_count": null,
      "outputs": []
    },
    {
      "cell_type": "code",
      "source": [
        "from tensorflow.keras import layers\n",
        "\n",
        "tf.random.set_seed(42)\n",
        "\n",
        "# Construct model\n",
        "model_1 = tf.keras.Sequential([\n",
        "  layers.Dense(128, activation=\"relu\"),\n",
        "  layers.Dense(HORIZON, activation=\"linear\") # linear activation is the same as having no activation                        \n",
        "], name=\"model_1_dense\") # give the model a name so we can save it\n",
        "\n",
        "# Compile model\n",
        "model_1.compile(loss=\"mae\",\n",
        "                optimizer=tf.keras.optimizers.Adam(),\n",
        "                metrics=[\"mae\"]) # we don't necessarily need this when the loss function is already MAE\n",
        "\n",
        "# Fit model\n",
        "model_1.fit(x=train_windows, # train windows of 7 timesteps of Bitcoin prices\n",
        "            y=train_labels, # horizon value of 1 (using the previous 7 timesteps to predict next day)\n",
        "            epochs=100,\n",
        "            verbose=1,\n",
        "            batch_size=128,\n",
        "            validation_data=(test_windows, test_labels),\n",
        "            callbacks=[create_model_checkpoint(model_name=model_1.name)]) "
      ],
      "metadata": {
        "colab": {
          "base_uri": "https://localhost:8080/"
        },
        "id": "DsbSVFYn6elZ",
        "outputId": "5f2523b7-aad3-4c8a-ab12-877731402ff3"
      },
      "execution_count": null,
      "outputs": [
        {
          "output_type": "stream",
          "name": "stdout",
          "text": [
            "Epoch 1/100\n",
            "18/18 [==============================] - 5s 94ms/step - loss: 770.8699 - mae: 770.8699 - val_loss: 2211.9968 - val_mae: 2211.9968\n",
            "Epoch 2/100\n",
            "18/18 [==============================] - 1s 66ms/step - loss: 231.9996 - mae: 231.9996 - val_loss: 1010.5925 - val_mae: 1010.5925\n",
            "Epoch 3/100\n",
            "18/18 [==============================] - 1s 49ms/step - loss: 176.6515 - mae: 176.6515 - val_loss: 936.3781 - val_mae: 936.3781\n",
            "Epoch 4/100\n",
            "18/18 [==============================] - 1s 56ms/step - loss: 163.9299 - mae: 163.9299 - val_loss: 914.9297 - val_mae: 914.9297\n",
            "Epoch 5/100\n",
            "18/18 [==============================] - 0s 12ms/step - loss: 158.4962 - mae: 158.4962 - val_loss: 916.9711 - val_mae: 916.9711\n",
            "Epoch 6/100\n",
            "18/18 [==============================] - 1s 56ms/step - loss: 152.1268 - mae: 152.1268 - val_loss: 824.4700 - val_mae: 824.4700\n",
            "Epoch 7/100\n",
            "18/18 [==============================] - 0s 6ms/step - loss: 151.1029 - mae: 151.1029 - val_loss: 843.7176 - val_mae: 843.7176\n",
            "Epoch 8/100\n",
            "18/18 [==============================] - 1s 61ms/step - loss: 145.4550 - mae: 145.4550 - val_loss: 823.1642 - val_mae: 823.1642\n",
            "Epoch 9/100\n",
            "18/18 [==============================] - 1s 43ms/step - loss: 141.6236 - mae: 141.6236 - val_loss: 805.5374 - val_mae: 805.5374\n",
            "Epoch 10/100\n",
            "18/18 [==============================] - 1s 81ms/step - loss: 137.7070 - mae: 137.7070 - val_loss: 772.1919 - val_mae: 772.1919\n",
            "Epoch 11/100\n",
            "18/18 [==============================] - 0s 11ms/step - loss: 137.1022 - mae: 137.1022 - val_loss: 803.9778 - val_mae: 803.9778\n",
            "Epoch 12/100\n",
            "18/18 [==============================] - 1s 52ms/step - loss: 139.8881 - mae: 139.8881 - val_loss: 771.2836 - val_mae: 771.2836\n",
            "Epoch 13/100\n",
            "18/18 [==============================] - 1s 68ms/step - loss: 133.6321 - mae: 133.6321 - val_loss: 745.5910 - val_mae: 745.5910\n",
            "Epoch 14/100\n",
            "18/18 [==============================] - 1s 50ms/step - loss: 129.4317 - mae: 129.4317 - val_loss: 715.7496 - val_mae: 715.7496\n",
            "Epoch 15/100\n",
            "18/18 [==============================] - 1s 45ms/step - loss: 127.8532 - mae: 127.8532 - val_loss: 702.4958 - val_mae: 702.4958\n",
            "Epoch 16/100\n",
            "18/18 [==============================] - 1s 55ms/step - loss: 135.5431 - mae: 135.5431 - val_loss: 693.3616 - val_mae: 693.3616\n",
            "Epoch 17/100\n",
            "18/18 [==============================] - 1s 32ms/step - loss: 132.0144 - mae: 132.0144 - val_loss: 676.5863 - val_mae: 676.5863\n",
            "Epoch 18/100\n",
            "18/18 [==============================] - 0s 26ms/step - loss: 127.4967 - mae: 127.4967 - val_loss: 668.2440 - val_mae: 668.2440\n",
            "Epoch 19/100\n",
            "18/18 [==============================] - 0s 4ms/step - loss: 125.0188 - mae: 125.0188 - val_loss: 687.1478 - val_mae: 687.1478\n",
            "Epoch 20/100\n",
            "18/18 [==============================] - 0s 5ms/step - loss: 122.1832 - mae: 122.1832 - val_loss: 712.6318 - val_mae: 712.6318\n",
            "Epoch 21/100\n",
            "18/18 [==============================] - 0s 25ms/step - loss: 122.1822 - mae: 122.1822 - val_loss: 654.6014 - val_mae: 654.6014\n",
            "Epoch 22/100\n",
            "18/18 [==============================] - 0s 4ms/step - loss: 118.8805 - mae: 118.8805 - val_loss: 689.8746 - val_mae: 689.8746\n",
            "Epoch 23/100\n",
            "18/18 [==============================] - 0s 4ms/step - loss: 120.2470 - mae: 120.2470 - val_loss: 667.1641 - val_mae: 667.1641\n",
            "Epoch 24/100\n",
            "18/18 [==============================] - 0s 24ms/step - loss: 117.8695 - mae: 117.8695 - val_loss: 652.8718 - val_mae: 652.8718\n",
            "Epoch 25/100\n",
            "18/18 [==============================] - 0s 25ms/step - loss: 118.9365 - mae: 118.9365 - val_loss: 640.1989 - val_mae: 640.1989\n",
            "Epoch 26/100\n",
            "18/18 [==============================] - 0s 5ms/step - loss: 120.9143 - mae: 120.9143 - val_loss: 661.4721 - val_mae: 661.4721\n",
            "Epoch 27/100\n",
            "18/18 [==============================] - 0s 4ms/step - loss: 119.2047 - mae: 119.2047 - val_loss: 660.1513 - val_mae: 660.1513\n",
            "Epoch 28/100\n",
            "18/18 [==============================] - 0s 3ms/step - loss: 119.6818 - mae: 119.6818 - val_loss: 714.4363 - val_mae: 714.4363\n",
            "Epoch 29/100\n",
            "18/18 [==============================] - 0s 25ms/step - loss: 118.8051 - mae: 118.8051 - val_loss: 625.0818 - val_mae: 625.0818\n",
            "Epoch 30/100\n",
            "18/18 [==============================] - 0s 4ms/step - loss: 115.9558 - mae: 115.9558 - val_loss: 646.6990 - val_mae: 646.6990\n",
            "Epoch 31/100\n",
            "18/18 [==============================] - 0s 25ms/step - loss: 118.7403 - mae: 118.7403 - val_loss: 619.1091 - val_mae: 619.1091\n",
            "Epoch 32/100\n",
            "18/18 [==============================] - 0s 5ms/step - loss: 115.0381 - mae: 115.0381 - val_loss: 674.4619 - val_mae: 674.4619\n",
            "Epoch 33/100\n",
            "18/18 [==============================] - 0s 4ms/step - loss: 124.5044 - mae: 124.5044 - val_loss: 623.3522 - val_mae: 623.3522\n",
            "Epoch 34/100\n",
            "18/18 [==============================] - 0s 5ms/step - loss: 124.9662 - mae: 124.9662 - val_loss: 695.9382 - val_mae: 695.9382\n",
            "Epoch 35/100\n",
            "18/18 [==============================] - 0s 5ms/step - loss: 123.1959 - mae: 123.1959 - val_loss: 798.4661 - val_mae: 798.4661\n",
            "Epoch 36/100\n",
            "18/18 [==============================] - 0s 24ms/step - loss: 119.4677 - mae: 119.4677 - val_loss: 607.1290 - val_mae: 607.1290\n",
            "Epoch 37/100\n",
            "18/18 [==============================] - 0s 4ms/step - loss: 116.4575 - mae: 116.4575 - val_loss: 620.8242 - val_mae: 620.8242\n",
            "Epoch 38/100\n",
            "18/18 [==============================] - 0s 4ms/step - loss: 111.9723 - mae: 111.9723 - val_loss: 607.5123 - val_mae: 607.5123\n",
            "Epoch 39/100\n",
            "18/18 [==============================] - 0s 4ms/step - loss: 114.9677 - mae: 114.9677 - val_loss: 616.2855 - val_mae: 616.2855\n",
            "Epoch 40/100\n",
            "18/18 [==============================] - 0s 5ms/step - loss: 112.9476 - mae: 112.9476 - val_loss: 609.4993 - val_mae: 609.4993\n",
            "Epoch 41/100\n",
            "18/18 [==============================] - 1s 35ms/step - loss: 111.9874 - mae: 111.9874 - val_loss: 603.7142 - val_mae: 603.7142\n",
            "Epoch 42/100\n",
            "18/18 [==============================] - 0s 4ms/step - loss: 111.9329 - mae: 111.9329 - val_loss: 630.3672 - val_mae: 630.3672\n",
            "Epoch 43/100\n",
            "18/18 [==============================] - 0s 5ms/step - loss: 119.9082 - mae: 119.9082 - val_loss: 620.4564 - val_mae: 620.4564\n",
            "Epoch 44/100\n",
            "18/18 [==============================] - 0s 26ms/step - loss: 113.0977 - mae: 113.0977 - val_loss: 599.8444 - val_mae: 599.8444\n",
            "Epoch 45/100\n",
            "18/18 [==============================] - 0s 5ms/step - loss: 110.4809 - mae: 110.4809 - val_loss: 602.2423 - val_mae: 602.2423\n",
            "Epoch 46/100\n",
            "18/18 [==============================] - 0s 4ms/step - loss: 112.4732 - mae: 112.4732 - val_loss: 614.0244 - val_mae: 614.0244\n",
            "Epoch 47/100\n",
            "18/18 [==============================] - 0s 5ms/step - loss: 111.8968 - mae: 111.8968 - val_loss: 614.5834 - val_mae: 614.5834\n",
            "Epoch 48/100\n",
            "18/18 [==============================] - 0s 4ms/step - loss: 110.7774 - mae: 110.7774 - val_loss: 622.9403 - val_mae: 622.9403\n",
            "Epoch 49/100\n",
            "18/18 [==============================] - 0s 4ms/step - loss: 110.0682 - mae: 110.0682 - val_loss: 658.2894 - val_mae: 658.2894\n",
            "Epoch 50/100\n",
            "18/18 [==============================] - 0s 5ms/step - loss: 113.7557 - mae: 113.7557 - val_loss: 615.9753 - val_mae: 615.9753\n",
            "Epoch 51/100\n",
            "18/18 [==============================] - 0s 26ms/step - loss: 110.9618 - mae: 110.9618 - val_loss: 589.2384 - val_mae: 589.2384\n",
            "Epoch 52/100\n",
            "18/18 [==============================] - 0s 4ms/step - loss: 111.1351 - mae: 111.1351 - val_loss: 609.0529 - val_mae: 609.0529\n",
            "Epoch 53/100\n",
            "18/18 [==============================] - 0s 4ms/step - loss: 110.6712 - mae: 110.6712 - val_loss: 610.3974 - val_mae: 610.3974\n",
            "Epoch 54/100\n",
            "18/18 [==============================] - 0s 4ms/step - loss: 109.9761 - mae: 109.9761 - val_loss: 651.5889 - val_mae: 651.5889\n",
            "Epoch 55/100\n",
            "18/18 [==============================] - 0s 4ms/step - loss: 116.1261 - mae: 116.1261 - val_loss: 642.3737 - val_mae: 642.3737\n",
            "Epoch 56/100\n",
            "18/18 [==============================] - 0s 4ms/step - loss: 112.1782 - mae: 112.1782 - val_loss: 645.3133 - val_mae: 645.3133\n",
            "Epoch 57/100\n",
            "18/18 [==============================] - 0s 4ms/step - loss: 111.4797 - mae: 111.4797 - val_loss: 606.6862 - val_mae: 606.6862\n",
            "Epoch 58/100\n",
            "18/18 [==============================] - 0s 4ms/step - loss: 109.3210 - mae: 109.3210 - val_loss: 608.4901 - val_mae: 608.4901\n",
            "Epoch 59/100\n",
            "18/18 [==============================] - 0s 4ms/step - loss: 113.3875 - mae: 113.3875 - val_loss: 687.6492 - val_mae: 687.6493\n",
            "Epoch 60/100\n",
            "18/18 [==============================] - 0s 4ms/step - loss: 123.5508 - mae: 123.5508 - val_loss: 653.4996 - val_mae: 653.4996\n",
            "Epoch 61/100\n",
            "18/18 [==============================] - 0s 4ms/step - loss: 119.0901 - mae: 119.0901 - val_loss: 597.5564 - val_mae: 597.5564\n",
            "Epoch 62/100\n",
            "18/18 [==============================] - 0s 4ms/step - loss: 116.2163 - mae: 116.2163 - val_loss: 644.1428 - val_mae: 644.1428\n",
            "Epoch 63/100\n",
            "18/18 [==============================] - 0s 4ms/step - loss: 120.3185 - mae: 120.3185 - val_loss: 705.9057 - val_mae: 705.9057\n",
            "Epoch 64/100\n",
            "18/18 [==============================] - 0s 27ms/step - loss: 115.6261 - mae: 115.6261 - val_loss: 580.0803 - val_mae: 580.0803\n",
            "Epoch 65/100\n",
            "18/18 [==============================] - 0s 4ms/step - loss: 108.1841 - mae: 108.1841 - val_loss: 586.7431 - val_mae: 586.7431\n",
            "Epoch 66/100\n",
            "18/18 [==============================] - 0s 4ms/step - loss: 107.5778 - mae: 107.5778 - val_loss: 598.9053 - val_mae: 598.9053\n",
            "Epoch 67/100\n",
            "18/18 [==============================] - 0s 4ms/step - loss: 109.3115 - mae: 109.3115 - val_loss: 602.5121 - val_mae: 602.5121\n",
            "Epoch 68/100\n",
            "18/18 [==============================] - 0s 4ms/step - loss: 108.3196 - mae: 108.3196 - val_loss: 587.8019 - val_mae: 587.8019\n",
            "Epoch 69/100\n",
            "18/18 [==============================] - 0s 4ms/step - loss: 108.1383 - mae: 108.1383 - val_loss: 590.3058 - val_mae: 590.3058\n",
            "Epoch 70/100\n",
            "18/18 [==============================] - 0s 26ms/step - loss: 112.5549 - mae: 112.5549 - val_loss: 579.4527 - val_mae: 579.4527\n",
            "Epoch 71/100\n",
            "18/18 [==============================] - 0s 4ms/step - loss: 109.3778 - mae: 109.3778 - val_loss: 583.6893 - val_mae: 583.6893\n",
            "Epoch 72/100\n",
            "18/18 [==============================] - 0s 24ms/step - loss: 107.9747 - mae: 107.9747 - val_loss: 578.1669 - val_mae: 578.1669\n",
            "Epoch 73/100\n",
            "18/18 [==============================] - 0s 4ms/step - loss: 108.6426 - mae: 108.6426 - val_loss: 583.2120 - val_mae: 583.2120\n",
            "Epoch 74/100\n",
            "18/18 [==============================] - 0s 4ms/step - loss: 108.2609 - mae: 108.2609 - val_loss: 595.7450 - val_mae: 595.7450\n",
            "Epoch 75/100\n",
            "18/18 [==============================] - 0s 4ms/step - loss: 113.4194 - mae: 113.4194 - val_loss: 718.2300 - val_mae: 718.2300\n",
            "Epoch 76/100\n",
            "18/18 [==============================] - 0s 25ms/step - loss: 114.3277 - mae: 114.3277 - val_loss: 575.4799 - val_mae: 575.4799\n",
            "Epoch 77/100\n",
            "18/18 [==============================] - 0s 4ms/step - loss: 111.2336 - mae: 111.2336 - val_loss: 614.3445 - val_mae: 614.3445\n",
            "Epoch 78/100\n",
            "18/18 [==============================] - 0s 24ms/step - loss: 109.0535 - mae: 109.0535 - val_loss: 574.8717 - val_mae: 574.8717\n",
            "Epoch 79/100\n",
            "18/18 [==============================] - 0s 4ms/step - loss: 111.6052 - mae: 111.6052 - val_loss: 585.4155 - val_mae: 585.4155\n",
            "Epoch 80/100\n",
            "18/18 [==============================] - 0s 5ms/step - loss: 109.5600 - mae: 109.5600 - val_loss: 682.0407 - val_mae: 682.0407\n",
            "Epoch 81/100\n",
            "18/18 [==============================] - 0s 4ms/step - loss: 113.8149 - mae: 113.8149 - val_loss: 609.5000 - val_mae: 609.5000\n",
            "Epoch 82/100\n",
            "18/18 [==============================] - 0s 24ms/step - loss: 108.0778 - mae: 108.0778 - val_loss: 572.9421 - val_mae: 572.9421\n",
            "Epoch 83/100\n",
            "18/18 [==============================] - 0s 4ms/step - loss: 107.0427 - mae: 107.0427 - val_loss: 603.1334 - val_mae: 603.1334\n",
            "Epoch 84/100\n",
            "18/18 [==============================] - 0s 4ms/step - loss: 108.9046 - mae: 108.9046 - val_loss: 573.4498 - val_mae: 573.4498\n",
            "Epoch 85/100\n",
            "18/18 [==============================] - 0s 4ms/step - loss: 106.4943 - mae: 106.4943 - val_loss: 593.9437 - val_mae: 593.9437\n",
            "Epoch 86/100\n",
            "18/18 [==============================] - 0s 4ms/step - loss: 107.7657 - mae: 107.7657 - val_loss: 573.4718 - val_mae: 573.4718\n",
            "Epoch 87/100\n",
            "18/18 [==============================] - 0s 4ms/step - loss: 106.5699 - mae: 106.5699 - val_loss: 580.8484 - val_mae: 580.8484\n",
            "Epoch 88/100\n",
            "18/18 [==============================] - 0s 5ms/step - loss: 108.1026 - mae: 108.1026 - val_loss: 635.8254 - val_mae: 635.8254\n",
            "Epoch 89/100\n",
            "18/18 [==============================] - 0s 4ms/step - loss: 106.8276 - mae: 106.8276 - val_loss: 593.5298 - val_mae: 593.5298\n",
            "Epoch 90/100\n",
            "18/18 [==============================] - 0s 4ms/step - loss: 110.7503 - mae: 110.7503 - val_loss: 579.5698 - val_mae: 579.5698\n",
            "Epoch 91/100\n",
            "18/18 [==============================] - 0s 5ms/step - loss: 107.6671 - mae: 107.6671 - val_loss: 645.6286 - val_mae: 645.6286\n",
            "Epoch 92/100\n",
            "18/18 [==============================] - 0s 4ms/step - loss: 109.7847 - mae: 109.7847 - val_loss: 655.9661 - val_mae: 655.9661\n",
            "Epoch 93/100\n",
            "18/18 [==============================] - 0s 24ms/step - loss: 109.9779 - mae: 109.9779 - val_loss: 570.3398 - val_mae: 570.3398\n",
            "Epoch 94/100\n",
            "18/18 [==============================] - 0s 4ms/step - loss: 107.6678 - mae: 107.6678 - val_loss: 585.1858 - val_mae: 585.1858\n",
            "Epoch 95/100\n",
            "18/18 [==============================] - 0s 5ms/step - loss: 106.1289 - mae: 106.1289 - val_loss: 586.8934 - val_mae: 586.8934\n",
            "Epoch 96/100\n",
            "18/18 [==============================] - 0s 4ms/step - loss: 113.1067 - mae: 113.1067 - val_loss: 629.8881 - val_mae: 629.8881\n",
            "Epoch 97/100\n",
            "18/18 [==============================] - 0s 4ms/step - loss: 109.7401 - mae: 109.7401 - val_loss: 607.0674 - val_mae: 607.0674\n",
            "Epoch 98/100\n",
            "18/18 [==============================] - 0s 4ms/step - loss: 107.2840 - mae: 107.2840 - val_loss: 623.4983 - val_mae: 623.4983\n",
            "Epoch 99/100\n",
            "18/18 [==============================] - 0s 4ms/step - loss: 114.1778 - mae: 114.1778 - val_loss: 597.1406 - val_mae: 597.1406\n",
            "Epoch 100/100\n",
            "18/18 [==============================] - 0s 4ms/step - loss: 112.5977 - mae: 112.5977 - val_loss: 602.2151 - val_mae: 602.2151\n"
          ]
        },
        {
          "output_type": "execute_result",
          "data": {
            "text/plain": [
              "<keras.callbacks.History at 0x7f2980053970>"
            ]
          },
          "metadata": {},
          "execution_count": 29
        }
      ]
    },
    {
      "cell_type": "code",
      "source": [
        "naive_results"
      ],
      "metadata": {
        "colab": {
          "base_uri": "https://localhost:8080/"
        },
        "id": "_pdyI-8A_BwF",
        "outputId": "45c5138b-c115-4952-f4ae-354d20e40019"
      },
      "execution_count": null,
      "outputs": [
        {
          "output_type": "execute_result",
          "data": {
            "text/plain": [
              "{'mae': 567.9802273457541,\n",
              " 'mse': 1147547.1250238959,\n",
              " 'rmse': 1071.2362601330744,\n",
              " 'mape': 2.516524929982267,\n",
              " 'mase': 0.9995699939182624}"
            ]
          },
          "metadata": {},
          "execution_count": 30
        }
      ]
    },
    {
      "cell_type": "code",
      "source": [
        "model_1.evaluate(test_windows, test_labels)"
      ],
      "metadata": {
        "colab": {
          "base_uri": "https://localhost:8080/"
        },
        "id": "og12wtrh_4Yr",
        "outputId": "e67323e7-f948-437f-c1c3-259b130fcd73"
      },
      "execution_count": null,
      "outputs": [
        {
          "output_type": "stream",
          "name": "stdout",
          "text": [
            "18/18 [==============================] - 0s 2ms/step - loss: 602.2151 - mae: 602.2151\n"
          ]
        },
        {
          "output_type": "execute_result",
          "data": {
            "text/plain": [
              "[602.215087890625, 602.215087890625]"
            ]
          },
          "metadata": {},
          "execution_count": 31
        }
      ]
    },
    {
      "cell_type": "code",
      "source": [
        "model_1 = tf.keras.models.load_model(\"model_experiments/model_1_dense\")\n",
        "model_1.evaluate(test_windows, test_labels)"
      ],
      "metadata": {
        "colab": {
          "base_uri": "https://localhost:8080/"
        },
        "id": "R_XZgyD8KWS2",
        "outputId": "afc62dc6-703b-4e99-e472-e75bf61940c7"
      },
      "execution_count": null,
      "outputs": [
        {
          "output_type": "stream",
          "name": "stdout",
          "text": [
            "18/18 [==============================] - 0s 2ms/step - loss: 570.3397 - mae: 570.3397\n"
          ]
        },
        {
          "output_type": "execute_result",
          "data": {
            "text/plain": [
              "[570.3397216796875, 570.3397216796875]"
            ]
          },
          "metadata": {},
          "execution_count": 32
        }
      ]
    },
    {
      "cell_type": "code",
      "source": [
        "def make_preds(model, input_data):\n",
        "  forecast = model.predict(input_data)\n",
        "  return tf.squeeze(forecast) # return 1D array of predictions\n",
        "\n"
      ],
      "metadata": {
        "id": "EFzAELw0G6Fn"
      },
      "execution_count": null,
      "outputs": []
    },
    {
      "cell_type": "code",
      "source": [
        "model_1_preds = make_preds(model_1, test_windows)\n",
        "len(model_1_preds), model_1_preds[:10]"
      ],
      "metadata": {
        "colab": {
          "base_uri": "https://localhost:8080/"
        },
        "id": "dIGYMsYBL08d",
        "outputId": "9249ddac-41d6-4905-94de-83dc542c6cd6"
      },
      "execution_count": null,
      "outputs": [
        {
          "output_type": "stream",
          "name": "stdout",
          "text": [
            "18/18 [==============================] - 0s 2ms/step\n"
          ]
        },
        {
          "output_type": "execute_result",
          "data": {
            "text/plain": [
              "(551, <tf.Tensor: shape=(10,), dtype=float32, numpy=\n",
              " array([8753.917 , 8694.883 , 8529.391 , 8478.01  , 8532.248 , 8275.484 ,\n",
              "        8132.8237, 8078.055 , 7702.991 , 7311.736 ], dtype=float32)>)"
            ]
          },
          "metadata": {},
          "execution_count": 34
        }
      ]
    },
    {
      "cell_type": "code",
      "source": [
        "#layer = tf.keras.layers.experimental.preprocessing.Normalization(dtype='float32')\n",
        "model_1_preds= np.float64(model_1_preds)"
      ],
      "metadata": {
        "id": "yBFh4sxZtN67"
      },
      "execution_count": null,
      "outputs": []
    },
    {
      "cell_type": "code",
      "source": [
        "model_1_results = evaluate_preds(y_true=tf.squeeze(test_labels), # reduce to right shape\n",
        "                                 y_pred=model_1_preds)\n",
        "model_1_results"
      ],
      "metadata": {
        "colab": {
          "base_uri": "https://localhost:8080/"
        },
        "id": "UHU-pUIrHYAR",
        "outputId": "726d791d-da1d-49e8-def8-f41dc87ecadf"
      },
      "execution_count": null,
      "outputs": [
        {
          "output_type": "execute_result",
          "data": {
            "text/plain": [
              "{'mae': 570.3397368514985,\n",
              " 'mse': 1180294.7576910225,\n",
              " 'rmse': 1086.4137138728609,\n",
              " 'mape': 2.539222681957394,\n",
              " 'mase': 0.9954422787613826}"
            ]
          },
          "metadata": {},
          "execution_count": 36
        }
      ]
    },
    {
      "cell_type": "code",
      "source": [
        "naive_results"
      ],
      "metadata": {
        "colab": {
          "base_uri": "https://localhost:8080/"
        },
        "id": "KL24FSqht1Cr",
        "outputId": "d9ce2cec-246e-43b9-da46-c79c3dfbabee"
      },
      "execution_count": null,
      "outputs": [
        {
          "output_type": "execute_result",
          "data": {
            "text/plain": [
              "{'mae': 567.9802273457541,\n",
              " 'mse': 1147547.1250238959,\n",
              " 'rmse': 1071.2362601330744,\n",
              " 'mape': 2.516524929982267,\n",
              " 'mase': 0.9995699939182624}"
            ]
          },
          "metadata": {},
          "execution_count": 37
        }
      ]
    },
    {
      "cell_type": "code",
      "source": [
        "offset= 450\n",
        "plt.figure(figsize=(10,7))\n",
        "plot_time_series(timesteps= X_test[-len(test_windows):], values=test_labels[:,0], start=offset, label='Test Data')\n",
        "\n",
        "plot_time_series(timesteps=X_test[-len(test_windows):],\n",
        "                 values=model_1_preds,\n",
        "                 start=offset,\n",
        "                 format='-',\n",
        "                 label=\"model_1_preds\")"
      ],
      "metadata": {
        "colab": {
          "base_uri": "https://localhost:8080/",
          "height": 442
        },
        "id": "0S2Jb3leuObY",
        "outputId": "9e59fc3e-cc01-4884-e017-8aa613d8a854"
      },
      "execution_count": null,
      "outputs": [
        {
          "output_type": "display_data",
          "data": {
            "text/plain": [
              "<Figure size 720x504 with 1 Axes>"
            ],
            "image/png": "[encoded data removed]"
          },
          "metadata": {
            "needs_background": "light"
          }
        }
      ]
    },
    {
      "cell_type": "code",
      "source": [
        "HORIZON=1\n",
        "WINDOW_SIZE=30"
      ],
      "metadata": {
        "id": "NIZrcrKT0Fij"
      },
      "execution_count": null,
      "outputs": []
    },
    {
      "cell_type": "code",
      "source": [
        "full_windows, full_labels=make_windows(prices, window_size=WINDOW_SIZE, horizon=HORIZON)\n",
        "len(full_windows), len(full_labels)"
      ],
      "metadata": {
        "colab": {
          "base_uri": "https://localhost:8080/"
        },
        "id": "HukiCPYS0L8j",
        "outputId": "47da9255-b681-4e44-e264-bbce59d0d987"
      },
      "execution_count": null,
      "outputs": [
        {
          "output_type": "execute_result",
          "data": {
            "text/plain": [
              "(2757, 2757)"
            ]
          },
          "metadata": {},
          "execution_count": 40
        }
      ]
    },
    {
      "cell_type": "code",
      "source": [
        "train_windows, test_windows, train_labels, test_labels = make_train_test_splits(full_windows, full_labels)"
      ],
      "metadata": {
        "id": "jg5TQjnh1NG4"
      },
      "execution_count": null,
      "outputs": []
    },
    {
      "cell_type": "code",
      "source": [
        "model_2=tf.keras.Sequential([\n",
        "    layers.Dense(128, activation='relu'),\n",
        "    layers.Dense(HORIZON)\n",
        "], name='model_2_dense')\n",
        "\n",
        "model_2.compile(loss='mae',\n",
        "                optimizer= tf.keras.optimizers.Adam())\n",
        "\n",
        "model_2.fit(train_windows,\n",
        "            train_labels,\n",
        "            epochs=100,\n",
        "            batch_size=128,\n",
        "            verbose=0,\n",
        "            validation_data=(test_windows, test_labels),\n",
        "            callbacks=[create_model_checkpoint(model_name=model_2.name)])"
      ],
      "metadata": {
        "colab": {
          "base_uri": "https://localhost:8080/"
        },
        "id": "BfAfqGmz1OD0",
        "outputId": "0a1326e8-2153-4888-9c32-aa11adce48dc"
      },
      "execution_count": null,
      "outputs": [
        {
          "output_type": "execute_result",
          "data": {
            "text/plain": [
              "<keras.callbacks.History at 0x7f29320c79a0>"
            ]
          },
          "metadata": {},
          "execution_count": 42
        }
      ]
    },
    {
      "cell_type": "code",
      "source": [
        "model_2.evaluate(test_windows, test_labels)"
      ],
      "metadata": {
        "colab": {
          "base_uri": "https://localhost:8080/"
        },
        "id": "Q9YPPJzQ2M0_",
        "outputId": "8046ed7e-b178-483e-e940-01536e6d001d"
      },
      "execution_count": null,
      "outputs": [
        {
          "output_type": "stream",
          "name": "stdout",
          "text": [
            "17/17 [==============================] - 0s 2ms/step - loss: 801.5410\n"
          ]
        },
        {
          "output_type": "execute_result",
          "data": {
            "text/plain": [
              "801.5409545898438"
            ]
          },
          "metadata": {},
          "execution_count": 43
        }
      ]
    },
    {
      "cell_type": "code",
      "source": [
        "model_2=tf.keras.models.load_model('/content/model_experiments/model_2_dense')\n",
        "model_2.evaluate(test_windows, test_labels)"
      ],
      "metadata": {
        "colab": {
          "base_uri": "https://localhost:8080/"
        },
        "id": "IV62REUB2ats",
        "outputId": "2bbd85b2-c1fa-4ccf-d212-c03c554a082a"
      },
      "execution_count": null,
      "outputs": [
        {
          "output_type": "stream",
          "name": "stdout",
          "text": [
            "17/17 [==============================] - 0s 2ms/step - loss: 615.4113\n"
          ]
        },
        {
          "output_type": "execute_result",
          "data": {
            "text/plain": [
              "615.4112548828125"
            ]
          },
          "metadata": {},
          "execution_count": 44
        }
      ]
    },
    {
      "cell_type": "code",
      "source": [
        "model_2_preds= make_preds(model_2,\n",
        "                         input_data=test_windows)\n",
        "model_2_preds= np.float64(model_2_preds)"
      ],
      "metadata": {
        "colab": {
          "base_uri": "https://localhost:8080/"
        },
        "id": "PdnREt912yQY",
        "outputId": "554585ec-2a86-45a9-944c-11b889e01cd3"
      },
      "execution_count": null,
      "outputs": [
        {
          "output_type": "stream",
          "name": "stdout",
          "text": [
            "17/17 [==============================] - 0s 1ms/step\n"
          ]
        }
      ]
    },
    {
      "cell_type": "code",
      "source": [
        "model_2_results= evaluate_preds(y_true=tf.squeeze(test_labels),\n",
        "                                y_pred=model_2_preds)\n",
        "model_2_results"
      ],
      "metadata": {
        "colab": {
          "base_uri": "https://localhost:8080/"
        },
        "id": "HX-2yTRY2_dG",
        "outputId": "3e9258dd-742c-40dc-ecf8-73b1cf1ff534"
      },
      "execution_count": null,
      "outputs": [
        {
          "output_type": "execute_result",
          "data": {
            "text/plain": [
              "{'mae': 615.4112902614273,\n",
              " 'mse': 1259358.6024202718,\n",
              " 'rmse': 1122.2114784746555,\n",
              " 'mape': 2.735659888797798,\n",
              " 'mase': 1.0416310482067357}"
            ]
          },
          "metadata": {},
          "execution_count": 46
        }
      ]
    },
    {
      "cell_type": "code",
      "source": [
        "HORIZON=7\n",
        "WINDOW_SIZE=30\n",
        "\n",
        "full_windows, full_labels=make_windows(prices, window_size=WINDOW_SIZE, horizon=HORIZON)\n",
        "len(full_windows), len(full_labels)\n",
        "\n",
        "train_windows, test_windows, train_labels, test_labels = make_train_test_splits(full_windows, full_labels)\n",
        "\n",
        "model_3=tf.keras.Sequential([\n",
        "    layers.Dense(128, activation='relu'),\n",
        "    layers.Dense(HORIZON)\n",
        "], name='model_3_dense')\n",
        "\n",
        "model_3.compile(loss='mae',\n",
        "                optimizer= tf.keras.optimizers.Adam())\n",
        "\n",
        "model_3.fit(train_windows,\n",
        "            train_labels,\n",
        "            epochs=100,\n",
        "            batch_size=128,\n",
        "            verbose=0,\n",
        "            validation_data=(test_windows, test_labels),\n",
        "            callbacks=[create_model_checkpoint(model_name=model_3.name)])\n",
        "\n",
        "model_3.evaluate(test_windows, test_labels)\n",
        "\n",
        "model_3=tf.keras.models.load_model('/content/model_experiments/model_3_dense')\n",
        "model_3.evaluate(test_windows, test_labels)\n",
        "\n",
        "model_3_preds= make_preds(model_3,\n",
        "                         input_data=test_windows)\n",
        "model_3_preds= np.float64(model_3_preds)\n",
        "\n",
        "model_3_results= evaluate_preds(y_true=tf.squeeze(test_labels),\n",
        "                                y_pred=model_3_preds)"
      ],
      "metadata": {
        "colab": {
          "base_uri": "https://localhost:8080/"
        },
        "id": "PnipgNRn45fo",
        "outputId": "0720669d-da18-4d86-b628-8fac336c0691"
      },
      "execution_count": null,
      "outputs": [
        {
          "output_type": "stream",
          "name": "stdout",
          "text": [
            "17/17 [==============================] - 0s 4ms/step - loss: 1326.5936\n",
            "17/17 [==============================] - 0s 2ms/step - loss: 1280.6248\n",
            "17/17 [==============================] - 0s 1ms/step\n"
          ]
        }
      ]
    },
    {
      "cell_type": "code",
      "source": [
        "model_3_results"
      ],
      "metadata": {
        "colab": {
          "base_uri": "https://localhost:8080/"
        },
        "id": "FHXqcRNzOYGk",
        "outputId": "0551a7f2-9a1e-484e-b336-4cfab5af7f75"
      },
      "execution_count": null,
      "outputs": [
        {
          "output_type": "execute_result",
          "data": {
            "text/plain": [
              "{'mae': 1280.6247972973574,\n",
              " 'mse': 5551059.890625789,\n",
              " 'rmse': 1471.5048174107078,\n",
              " 'mape': 5.53060016417983,\n",
              " 'mase': 2.189603377723658}"
            ]
          },
          "metadata": {},
          "execution_count": 48
        }
      ]
    },
    {
      "cell_type": "code",
      "source": [
        "offset= 300\n",
        "plt.figure(figsize=(10,7))\n",
        "plot_time_series(timesteps= X_test[-len(test_windows):], values=test_labels[:,0], start=offset, label='Test Data')\n",
        "\n",
        "plot_time_series(timesteps=X_test[-len(test_windows):],\n",
        "                 values=tf.reduce_mean(model_3_preds, axis=1),\n",
        "                 start=offset,\n",
        "                 format='-',\n",
        "                 label=\"model_3_preds\")"
      ],
      "metadata": {
        "colab": {
          "base_uri": "https://localhost:8080/",
          "height": 442
        },
        "id": "Ah8whlVC5csU",
        "outputId": "d76bf4f5-ad40-42d5-e80a-271a15ce064b"
      },
      "execution_count": null,
      "outputs": [
        {
          "output_type": "display_data",
          "data": {
            "text/plain": [
              "<Figure size 720x504 with 1 Axes>"
            ],
            "image/png": "[encoded data removed]"
          },
          "metadata": {
            "needs_background": "light"
          }
        }
      ]
    },
    {
      "cell_type": "markdown",
      "source": [
        "##CONV1D"
      ],
      "metadata": {
        "id": "SJsARAUGVWPU"
      }
    },
    {
      "cell_type": "code",
      "source": [
        "HORIZON=1\n",
        "WINDOW_SIZE=7\n",
        "\n",
        "full_windows, full_labels=make_windows(prices, window_size=WINDOW_SIZE, horizon=HORIZON)\n",
        "train_windows, test_windows, train_labels, test_labels = make_train_test_splits(full_windows, full_labels)\n"
      ],
      "metadata": {
        "id": "uzrSaokZVZ_a"
      },
      "execution_count": null,
      "outputs": []
    },
    {
      "cell_type": "code",
      "source": [
        "x=tf.constant(train_windows[0])\n",
        "x"
      ],
      "metadata": {
        "colab": {
          "base_uri": "https://localhost:8080/"
        },
        "id": "Ewt4qiIsVd1C",
        "outputId": "280d8605-0b44-44be-a19d-a544bcb1e97b"
      },
      "execution_count": null,
      "outputs": [
        {
          "output_type": "execute_result",
          "data": {
            "text/plain": [
              "<tf.Tensor: shape=(7,), dtype=float64, numpy=\n",
              "array([123.65499, 125.455  , 108.58483, 118.67466, 121.33866, 120.65533,\n",
              "       121.795  ])>"
            ]
          },
          "metadata": {},
          "execution_count": 51
        }
      ]
    },
    {
      "cell_type": "code",
      "source": [
        "expand_dims_layer=layers.Lambda(lambda x: tf.expand_dims(x,axis=1))\n",
        "expand_dims_layer(x)"
      ],
      "metadata": {
        "colab": {
          "base_uri": "https://localhost:8080/"
        },
        "id": "PEJ3uelqYfL6",
        "outputId": "50d4b2d6-6d33-4297-bf7d-a7dd2897a9e3"
      },
      "execution_count": null,
      "outputs": [
        {
          "output_type": "execute_result",
          "data": {
            "text/plain": [
              "<tf.Tensor: shape=(7, 1), dtype=float32, numpy=\n",
              "array([[123.65499],\n",
              "       [125.455  ],\n",
              "       [108.58483],\n",
              "       [118.67466],\n",
              "       [121.33866],\n",
              "       [120.65533],\n",
              "       [121.795  ]], dtype=float32)>"
            ]
          },
          "metadata": {},
          "execution_count": 52
        }
      ]
    },
    {
      "cell_type": "code",
      "source": [
        "model_4= tf.keras.Sequential([\n",
        "    layers.Lambda(lambda x: tf.expand_dims(x, axis=1)),\n",
        "    layers.Conv1D(filters=128, kernel_size=7, padding='causal', activation='relu'),\n",
        "    layers.Dense(HORIZON)\n",
        "],name='model_4_conv1D')\n",
        "\n",
        "model_4.compile(loss='mae',\n",
        "                optimizer= tf.keras.optimizers.Adam())\n",
        "\n",
        "model_4.fit(train_windows,\n",
        "            train_labels,\n",
        "            epochs=100,\n",
        "            batch_size=128,\n",
        "            verbose=1,\n",
        "            validation_data=(test_windows, test_labels),\n",
        "            callbacks=[create_model_checkpoint(model_name=model_4.name)])\n",
        "\n",
        "# model_4.evaluate(test_windows, test_labels)\n",
        "\n",
        "# model_4=tf.keras.models.load_model('/content/model_experiments/model_4_dense')\n",
        "# model_4.evaluate(test_windows, test_labels)\n",
        "\n",
        "# model_4_preds= make_preds(model_4,\n",
        "#                          input_data=test_windows)\n",
        "# model_4_preds= np.float64(model_4_preds)\n",
        "\n",
        "# model_4_results= evaluate_preds(y_true=tf.squeeze(test_labels),\n",
        "#                                 y_pred=model_4_preds)"
      ],
      "metadata": {
        "colab": {
          "base_uri": "https://localhost:8080/"
        },
        "id": "FwdrNdxLag3F",
        "outputId": "91f652b5-6276-4364-94af-f8daf6dc31db"
      },
      "execution_count": null,
      "outputs": [
        {
          "output_type": "stream",
          "name": "stdout",
          "text": [
            "Epoch 1/100\n",
            "16/18 [=========================>....] - ETA: 0s - loss: 1807.6541  "
          ]
        },
        {
          "output_type": "stream",
          "name": "stderr",
          "text": [
            "WARNING:absl:Found untraced functions such as _jit_compiled_convolution_op while saving (showing 1 of 1). These functions will not be directly callable after loading.\n"
          ]
        },
        {
          "output_type": "stream",
          "name": "stdout",
          "text": [
            "\b\b\b\b\b\b\b\b\b\b\b\b\b\b\b\b\b\b\b\b\b\b\b\b\b\b\b\b\b\b\b\b\b\b\b\b\b\b\b\b\b\b\b\b\b\b\b\b\b\b\b\b\b\b\b\b\b\b\b\b\b\b\b\b\b\b\r18/18 [==============================] - 6s 53ms/step - loss: 1709.9159 - val_loss: 2025.3469\n",
            "Epoch 2/100\n",
            "15/18 [========================>.....] - ETA: 0s - loss: 334.6709"
          ]
        },
        {
          "output_type": "stream",
          "name": "stderr",
          "text": [
            "WARNING:absl:Found untraced functions such as _jit_compiled_convolution_op while saving (showing 1 of 1). These functions will not be directly callable after loading.\n"
          ]
        },
        {
          "output_type": "stream",
          "name": "stdout",
          "text": [
            "\b\b\b\b\b\b\b\b\b\b\b\b\b\b\b\b\b\b\b\b\b\b\b\b\b\b\b\b\b\b\b\b\b\b\b\b\b\b\b\b\b\b\b\b\b\b\b\b\b\b\b\b\b\b\b\b\b\b\b\b\b\b\b\b\b\r18/18 [==============================] - 1s 35ms/step - loss: 315.9241 - val_loss: 1297.6536\n",
            "Epoch 3/100\n",
            "17/18 [===========================>..] - ETA: 0s - loss: 211.9921"
          ]
        },
        {
          "output_type": "stream",
          "name": "stderr",
          "text": [
            "WARNING:absl:Found untraced functions such as _jit_compiled_convolution_op while saving (showing 1 of 1). These functions will not be directly callable after loading.\n"
          ]
        },
        {
          "output_type": "stream",
          "name": "stdout",
          "text": [
            "\b\b\b\b\b\b\b\b\b\b\b\b\b\b\b\b\b\b\b\b\b\b\b\b\b\b\b\b\b\b\b\b\b\b\b\b\b\b\b\b\b\b\b\b\b\b\b\b\b\b\b\b\b\b\b\b\b\b\b\b\b\b\b\b\b\r18/18 [==============================] - 1s 36ms/step - loss: 211.4451 - val_loss: 1032.3693\n",
            "Epoch 4/100\n",
            "17/18 [===========================>..] - ETA: 0s - loss: 185.2318"
          ]
        },
        {
          "output_type": "stream",
          "name": "stderr",
          "text": [
            "WARNING:absl:Found untraced functions such as _jit_compiled_convolution_op while saving (showing 1 of 1). These functions will not be directly callable after loading.\n"
          ]
        },
        {
          "output_type": "stream",
          "name": "stdout",
          "text": [
            "\b\b\b\b\b\b\b\b\b\b\b\b\b\b\b\b\b\b\b\b\b\b\b\b\b\b\b\b\b\b\b\b\b\b\b\b\b\b\b\b\b\b\b\b\b\b\b\b\b\b\b\b\b\b\b\b\b\b\b\b\b\b\b\b\b\r18/18 [==============================] - 1s 47ms/step - loss: 184.0401 - val_loss: 1021.2042\n",
            "Epoch 5/100\n",
            "18/18 [==============================] - ETA: 0s - loss: 181.7460"
          ]
        },
        {
          "output_type": "stream",
          "name": "stderr",
          "text": [
            "WARNING:absl:Found untraced functions such as _jit_compiled_convolution_op while saving (showing 1 of 1). These functions will not be directly callable after loading.\n"
          ]
        },
        {
          "output_type": "stream",
          "name": "stdout",
          "text": [
            "\b\b\b\b\b\b\b\b\b\b\b\b\b\b\b\b\b\b\b\b\b\b\b\b\b\b\b\b\b\b\b\b\b\b\b\b\b\b\b\b\b\b\b\b\b\b\b\b\b\b\b\b\b\b\b\b\b\b\b\b\b\b\b\b\b\r18/18 [==============================] - 1s 36ms/step - loss: 181.7460 - val_loss: 1017.3105\n",
            "Epoch 6/100\n",
            " 1/18 [>.............................] - ETA: 0s - loss: 167.6826"
          ]
        },
        {
          "output_type": "stream",
          "name": "stderr",
          "text": [
            "WARNING:absl:Found untraced functions such as _jit_compiled_convolution_op while saving (showing 1 of 1). These functions will not be directly callable after loading.\n"
          ]
        },
        {
          "output_type": "stream",
          "name": "stdout",
          "text": [
            "\b\b\b\b\b\b\b\b\b\b\b\b\b\b\b\b\b\b\b\b\b\b\b\b\b\b\b\b\b\b\b\b\b\b\b\b\b\b\b\b\b\b\b\b\b\b\b\b\b\b\b\b\b\b\b\b\b\b\b\b\b\b\b\b\b\r18/18 [==============================] - 1s 36ms/step - loss: 178.9352 - val_loss: 999.2738\n",
            "Epoch 7/100\n",
            "18/18 [==============================] - 0s 6ms/step - loss: 177.7513 - val_loss: 1014.3784\n",
            "Epoch 8/100\n",
            "18/18 [==============================] - 0s 5ms/step - loss: 175.0372 - val_loss: 1030.3815\n",
            "Epoch 9/100\n",
            "18/18 [==============================] - 0s 5ms/step - loss: 172.6550 - val_loss: 1031.8378\n",
            "Epoch 10/100\n",
            " 1/18 [>.............................] - ETA: 0s - loss: 183.1079"
          ]
        },
        {
          "output_type": "stream",
          "name": "stderr",
          "text": [
            "WARNING:absl:Found untraced functions such as _jit_compiled_convolution_op while saving (showing 1 of 1). These functions will not be directly callable after loading.\n"
          ]
        },
        {
          "output_type": "stream",
          "name": "stdout",
          "text": [
            "\b\b\b\b\b\b\b\b\b\b\b\b\b\b\b\b\b\b\b\b\b\b\b\b\b\b\b\b\b\b\b\b\b\b\b\b\b\b\b\b\b\b\b\b\b\b\b\b\b\b\b\b\b\b\b\b\b\b\b\b\b\b\b\b\b\r18/18 [==============================] - 1s 35ms/step - loss: 171.2732 - val_loss: 981.2731\n",
            "Epoch 11/100\n",
            " 1/18 [>.............................] - ETA: 0s - loss: 177.6694"
          ]
        },
        {
          "output_type": "stream",
          "name": "stderr",
          "text": [
            "WARNING:absl:Found untraced functions such as _jit_compiled_convolution_op while saving (showing 1 of 1). These functions will not be directly callable after loading.\n"
          ]
        },
        {
          "output_type": "stream",
          "name": "stdout",
          "text": [
            "\b\b\b\b\b\b\b\b\b\b\b\b\b\b\b\b\b\b\b\b\b\b\b\b\b\b\b\b\b\b\b\b\b\b\b\b\b\b\b\b\b\b\b\b\b\b\b\b\b\b\b\b\b\b\b\b\b\b\b\b\b\b\b\b\b\r18/18 [==============================] - 1s 34ms/step - loss: 170.9696 - val_loss: 940.0818\n",
            "Epoch 12/100\n",
            "18/18 [==============================] - 0s 4ms/step - loss: 167.0302 - val_loss: 948.3654\n",
            "Epoch 13/100\n",
            "18/18 [==============================] - 0s 5ms/step - loss: 164.8428 - val_loss: 981.2242\n",
            "Epoch 14/100\n",
            "18/18 [==============================] - 0s 4ms/step - loss: 161.3029 - val_loss: 947.8026\n",
            "Epoch 15/100\n",
            " 1/18 [>.............................] - ETA: 0s - loss: 163.7229"
          ]
        },
        {
          "output_type": "stream",
          "name": "stderr",
          "text": [
            "WARNING:absl:Found untraced functions such as _jit_compiled_convolution_op while saving (showing 1 of 1). These functions will not be directly callable after loading.\n"
          ]
        },
        {
          "output_type": "stream",
          "name": "stdout",
          "text": [
            "\b\b\b\b\b\b\b\b\b\b\b\b\b\b\b\b\b\b\b\b\b\b\b\b\b\b\b\b\b\b\b\b\b\b\b\b\b\b\b\b\b\b\b\b\b\b\b\b\b\b\b\b\b\b\b\b\b\b\b\b\b\b\b\b\b\r18/18 [==============================] - 1s 35ms/step - loss: 159.8014 - val_loss: 889.0036\n",
            "Epoch 16/100\n",
            "18/18 [==============================] - 0s 4ms/step - loss: 158.6838 - val_loss: 891.8866\n",
            "Epoch 17/100\n",
            " 1/18 [>.............................] - ETA: 0s - loss: 113.6621"
          ]
        },
        {
          "output_type": "stream",
          "name": "stderr",
          "text": [
            "WARNING:absl:Found untraced functions such as _jit_compiled_convolution_op while saving (showing 1 of 1). These functions will not be directly callable after loading.\n"
          ]
        },
        {
          "output_type": "stream",
          "name": "stdout",
          "text": [
            "\b\b\b\b\b\b\b\b\b\b\b\b\b\b\b\b\b\b\b\b\b\b\b\b\b\b\b\b\b\b\b\b\b\b\b\b\b\b\b\b\b\b\b\b\b\b\b\b\b\b\b\b\b\b\b\b\b\b\b\b\b\b\b\b\b\r18/18 [==============================] - 1s 35ms/step - loss: 154.5005 - val_loss: 862.3442\n",
            "Epoch 18/100\n",
            "18/18 [==============================] - 0s 5ms/step - loss: 155.8322 - val_loss: 908.5937\n",
            "Epoch 19/100\n",
            " 1/18 [>.............................] - ETA: 0s - loss: 157.3739"
          ]
        },
        {
          "output_type": "stream",
          "name": "stderr",
          "text": [
            "WARNING:absl:Found untraced functions such as _jit_compiled_convolution_op while saving (showing 1 of 1). These functions will not be directly callable after loading.\n"
          ]
        },
        {
          "output_type": "stream",
          "name": "stdout",
          "text": [
            "\b\b\b\b\b\b\b\b\b\b\b\b\b\b\b\b\b\b\b\b\b\b\b\b\b\b\b\b\b\b\b\b\b\b\b\b\b\b\b\b\b\b\b\b\b\b\b\b\b\b\b\b\b\b\b\b\b\b\b\b\b\b\b\b\b\r18/18 [==============================] - 1s 34ms/step - loss: 150.9702 - val_loss: 854.7197\n",
            "Epoch 20/100\n",
            "16/18 [=========================>....] - ETA: 0s - loss: 150.6538"
          ]
        },
        {
          "output_type": "stream",
          "name": "stderr",
          "text": [
            "WARNING:absl:Found untraced functions such as _jit_compiled_convolution_op while saving (showing 1 of 1). These functions will not be directly callable after loading.\n"
          ]
        },
        {
          "output_type": "stream",
          "name": "stdout",
          "text": [
            "\b\b\b\b\b\b\b\b\b\b\b\b\b\b\b\b\b\b\b\b\b\b\b\b\b\b\b\b\b\b\b\b\b\b\b\b\b\b\b\b\b\b\b\b\b\b\b\b\b\b\b\b\b\b\b\b\b\b\b\b\b\b\b\b\b\r18/18 [==============================] - 1s 36ms/step - loss: 148.8913 - val_loss: 835.4121\n",
            "Epoch 21/100\n",
            "17/18 [===========================>..] - ETA: 0s - loss: 146.8653"
          ]
        },
        {
          "output_type": "stream",
          "name": "stderr",
          "text": [
            "WARNING:absl:Found untraced functions such as _jit_compiled_convolution_op while saving (showing 1 of 1). These functions will not be directly callable after loading.\n"
          ]
        },
        {
          "output_type": "stream",
          "name": "stdout",
          "text": [
            "\b\b\b\b\b\b\b\b\b\b\b\b\b\b\b\b\b\b\b\b\b\b\b\b\b\b\b\b\b\b\b\b\b\b\b\b\b\b\b\b\b\b\b\b\b\b\b\b\b\b\b\b\b\b\b\b\b\b\b\b\b\b\b\b\b\r18/18 [==============================] - 1s 35ms/step - loss: 146.0799 - val_loss: 817.7830\n",
            "Epoch 22/100\n",
            "18/18 [==============================] - 0s 5ms/step - loss: 144.8034 - val_loss: 839.4532\n",
            "Epoch 23/100\n",
            "18/18 [==============================] - ETA: 0s - loss: 144.0222"
          ]
        },
        {
          "output_type": "stream",
          "name": "stderr",
          "text": [
            "WARNING:absl:Found untraced functions such as _jit_compiled_convolution_op while saving (showing 1 of 1). These functions will not be directly callable after loading.\n"
          ]
        },
        {
          "output_type": "stream",
          "name": "stdout",
          "text": [
            "\b\b\b\b\b\b\b\b\b\b\b\b\b\b\b\b\b\b\b\b\b\b\b\b\b\b\b\b\b\b\b\b\b\b\b\b\b\b\b\b\b\b\b\b\b\b\b\b\b\b\b\b\b\b\b\b\b\b\b\b\b\b\b\b\b\r18/18 [==============================] - 1s 36ms/step - loss: 144.0222 - val_loss: 804.3682\n",
            "Epoch 24/100\n",
            "18/18 [==============================] - 0s 5ms/step - loss: 140.7303 - val_loss: 864.7546\n",
            "Epoch 25/100\n",
            " 1/18 [>.............................] - ETA: 0s - loss: 184.3213"
          ]
        },
        {
          "output_type": "stream",
          "name": "stderr",
          "text": [
            "WARNING:absl:Found untraced functions such as _jit_compiled_convolution_op while saving (showing 1 of 1). These functions will not be directly callable after loading.\n"
          ]
        },
        {
          "output_type": "stream",
          "name": "stdout",
          "text": [
            "\b\b\b\b\b\b\b\b\b\b\b\b\b\b\b\b\b\b\b\b\b\b\b\b\b\b\b\b\b\b\b\b\b\b\b\b\b\b\b\b\b\b\b\b\b\b\b\b\b\b\b\b\b\b\b\b\b\b\b\b\b\b\b\b\b\r18/18 [==============================] - 1s 50ms/step - loss: 143.5492 - val_loss: 769.6600\n",
            "Epoch 26/100\n",
            "18/18 [==============================] - 0s 4ms/step - loss: 138.8716 - val_loss: 775.2209\n",
            "Epoch 27/100\n",
            "18/18 [==============================] - 0s 5ms/step - loss: 138.5890 - val_loss: 821.2039\n",
            "Epoch 28/100\n",
            "18/18 [==============================] - 0s 4ms/step - loss: 139.0040 - val_loss: 805.5110\n",
            "Epoch 29/100\n",
            " 1/18 [>.............................] - ETA: 0s - loss: 135.1740"
          ]
        },
        {
          "output_type": "stream",
          "name": "stderr",
          "text": [
            "WARNING:absl:Found untraced functions such as _jit_compiled_convolution_op while saving (showing 1 of 1). These functions will not be directly callable after loading.\n"
          ]
        },
        {
          "output_type": "stream",
          "name": "stdout",
          "text": [
            "\b\b\b\b\b\b\b\b\b\b\b\b\b\b\b\b\b\b\b\b\b\b\b\b\b\b\b\b\b\b\b\b\b\b\b\b\b\b\b\b\b\b\b\b\b\b\b\b\b\b\b\b\b\b\b\b\b\b\b\b\b\b\b\b\b\r18/18 [==============================] - 1s 36ms/step - loss: 137.5688 - val_loss: 752.4979\n",
            "Epoch 30/100\n",
            "18/18 [==============================] - ETA: 0s - loss: 132.0010"
          ]
        },
        {
          "output_type": "stream",
          "name": "stderr",
          "text": [
            "WARNING:absl:Found untraced functions such as _jit_compiled_convolution_op while saving (showing 1 of 1). These functions will not be directly callable after loading.\n"
          ]
        },
        {
          "output_type": "stream",
          "name": "stdout",
          "text": [
            "\b\b\b\b\b\b\b\b\b\b\b\b\b\b\b\b\b\b\b\b\b\b\b\b\b\b\b\b\b\b\b\b\b\b\b\b\b\b\b\b\b\b\b\b\b\b\b\b\b\b\b\b\b\b\b\b\b\b\b\b\b\b\b\b\b\r18/18 [==============================] - 1s 35ms/step - loss: 132.0010 - val_loss: 733.4736\n",
            "Epoch 31/100\n",
            " 1/18 [>.............................] - ETA: 0s - loss: 171.9415"
          ]
        },
        {
          "output_type": "stream",
          "name": "stderr",
          "text": [
            "WARNING:absl:Found untraced functions such as _jit_compiled_convolution_op while saving (showing 1 of 1). These functions will not be directly callable after loading.\n"
          ]
        },
        {
          "output_type": "stream",
          "name": "stdout",
          "text": [
            "\b\b\b\b\b\b\b\b\b\b\b\b\b\b\b\b\b\b\b\b\b\b\b\b\b\b\b\b\b\b\b\b\b\b\b\b\b\b\b\b\b\b\b\b\b\b\b\b\b\b\b\b\b\b\b\b\b\b\b\b\b\b\b\b\b\r18/18 [==============================] - 1s 35ms/step - loss: 132.1982 - val_loss: 720.7664\n",
            "Epoch 32/100\n",
            "18/18 [==============================] - 0s 5ms/step - loss: 136.5804 - val_loss: 834.8616\n",
            "Epoch 33/100\n",
            " 1/18 [>.............................] - ETA: 0s - loss: 138.5121"
          ]
        },
        {
          "output_type": "stream",
          "name": "stderr",
          "text": [
            "WARNING:absl:Found untraced functions such as _jit_compiled_convolution_op while saving (showing 1 of 1). These functions will not be directly callable after loading.\n"
          ]
        },
        {
          "output_type": "stream",
          "name": "stdout",
          "text": [
            "\b\b\b\b\b\b\b\b\b\b\b\b\b\b\b\b\b\b\b\b\b\b\b\b\b\b\b\b\b\b\b\b\b\b\b\b\b\b\b\b\b\b\b\b\b\b\b\b\b\b\b\b\b\b\b\b\b\b\b\b\b\b\b\b\b\r18/18 [==============================] - 1s 35ms/step - loss: 133.3819 - val_loss: 707.3161\n",
            "Epoch 34/100\n",
            " 1/18 [>.............................] - ETA: 0s - loss: 118.4177"
          ]
        },
        {
          "output_type": "stream",
          "name": "stderr",
          "text": [
            "WARNING:absl:Found untraced functions such as _jit_compiled_convolution_op while saving (showing 1 of 1). These functions will not be directly callable after loading.\n"
          ]
        },
        {
          "output_type": "stream",
          "name": "stdout",
          "text": [
            "\b\b\b\b\b\b\b\b\b\b\b\b\b\b\b\b\b\b\b\b\b\b\b\b\b\b\b\b\b\b\b\b\b\b\b\b\b\b\b\b\b\b\b\b\b\b\b\b\b\b\b\b\b\b\b\b\b\b\b\b\b\b\b\b\b\r18/18 [==============================] - 1s 34ms/step - loss: 130.5436 - val_loss: 703.2680\n",
            "Epoch 35/100\n",
            "16/18 [=========================>....] - ETA: 0s - loss: 134.1160"
          ]
        },
        {
          "output_type": "stream",
          "name": "stderr",
          "text": [
            "WARNING:absl:Found untraced functions such as _jit_compiled_convolution_op while saving (showing 1 of 1). These functions will not be directly callable after loading.\n"
          ]
        },
        {
          "output_type": "stream",
          "name": "stdout",
          "text": [
            "\b\b\b\b\b\b\b\b\b\b\b\b\b\b\b\b\b\b\b\b\b\b\b\b\b\b\b\b\b\b\b\b\b\b\b\b\b\b\b\b\b\b\b\b\b\b\b\b\b\b\b\b\b\b\b\b\b\b\b\b\b\b\b\b\b\r18/18 [==============================] - 1s 36ms/step - loss: 133.5234 - val_loss: 700.1602\n",
            "Epoch 36/100\n",
            "18/18 [==============================] - 0s 5ms/step - loss: 130.8267 - val_loss: 714.1470\n",
            "Epoch 37/100\n",
            "18/18 [==============================] - ETA: 0s - loss: 125.5101"
          ]
        },
        {
          "output_type": "stream",
          "name": "stderr",
          "text": [
            "WARNING:absl:Found untraced functions such as _jit_compiled_convolution_op while saving (showing 1 of 1). These functions will not be directly callable after loading.\n"
          ]
        },
        {
          "output_type": "stream",
          "name": "stdout",
          "text": [
            "\b\b\b\b\b\b\b\b\b\b\b\b\b\b\b\b\b\b\b\b\b\b\b\b\b\b\b\b\b\b\b\b\b\b\b\b\b\b\b\b\b\b\b\b\b\b\b\b\b\b\b\b\b\b\b\b\b\b\b\b\b\b\b\b\b\r18/18 [==============================] - 1s 36ms/step - loss: 125.5101 - val_loss: 693.4266\n",
            "Epoch 38/100\n",
            "18/18 [==============================] - 0s 6ms/step - loss: 126.5870 - val_loss: 716.5154\n",
            "Epoch 39/100\n",
            " 1/18 [>.............................] - ETA: 0s - loss: 116.1880"
          ]
        },
        {
          "output_type": "stream",
          "name": "stderr",
          "text": [
            "WARNING:absl:Found untraced functions such as _jit_compiled_convolution_op while saving (showing 1 of 1). These functions will not be directly callable after loading.\n"
          ]
        },
        {
          "output_type": "stream",
          "name": "stdout",
          "text": [
            "\b\b\b\b\b\b\b\b\b\b\b\b\b\b\b\b\b\b\b\b\b\b\b\b\b\b\b\b\b\b\b\b\b\b\b\b\b\b\b\b\b\b\b\b\b\b\b\b\b\b\b\b\b\b\b\b\b\b\b\b\b\b\b\b\b\r18/18 [==============================] - 1s 34ms/step - loss: 124.1582 - val_loss: 675.3204\n",
            "Epoch 40/100\n",
            "13/18 [====================>.........] - ETA: 0s - loss: 120.3793"
          ]
        },
        {
          "output_type": "stream",
          "name": "stderr",
          "text": [
            "WARNING:absl:Found untraced functions such as _jit_compiled_convolution_op while saving (showing 1 of 1). These functions will not be directly callable after loading.\n"
          ]
        },
        {
          "output_type": "stream",
          "name": "stdout",
          "text": [
            "\b\b\b\b\b\b\b\b\b\b\b\b\b\b\b\b\b\b\b\b\b\b\b\b\b\b\b\b\b\b\b\b\b\b\b\b\b\b\b\b\b\b\b\b\b\b\b\b\b\b\b\b\b\b\b\b\b\b\b\b\b\b\b\b\b\r18/18 [==============================] - 1s 36ms/step - loss: 123.5204 - val_loss: 674.8033\n",
            "Epoch 41/100\n",
            "17/18 [===========================>..] - ETA: 0s - loss: 121.9795"
          ]
        },
        {
          "output_type": "stream",
          "name": "stderr",
          "text": [
            "WARNING:absl:Found untraced functions such as _jit_compiled_convolution_op while saving (showing 1 of 1). These functions will not be directly callable after loading.\n"
          ]
        },
        {
          "output_type": "stream",
          "name": "stdout",
          "text": [
            "\b\b\b\b\b\b\b\b\b\b\b\b\b\b\b\b\b\b\b\b\b\b\b\b\b\b\b\b\b\b\b\b\b\b\b\b\b\b\b\b\b\b\b\b\b\b\b\b\b\b\b\b\b\b\b\b\b\b\b\b\b\b\b\b\b\r18/18 [==============================] - 1s 35ms/step - loss: 121.8683 - val_loss: 663.0812\n",
            "Epoch 42/100\n",
            "18/18 [==============================] - 0s 5ms/step - loss: 123.5209 - val_loss: 693.7076\n",
            "Epoch 43/100\n",
            " 1/18 [>.............................] - ETA: 0s - loss: 124.7629"
          ]
        },
        {
          "output_type": "stream",
          "name": "stderr",
          "text": [
            "WARNING:absl:Found untraced functions such as _jit_compiled_convolution_op while saving (showing 1 of 1). These functions will not be directly callable after loading.\n"
          ]
        },
        {
          "output_type": "stream",
          "name": "stdout",
          "text": [
            "\b\b\b\b\b\b\b\b\b\b\b\b\b\b\b\b\b\b\b\b\b\b\b\b\b\b\b\b\b\b\b\b\b\b\b\b\b\b\b\b\b\b\b\b\b\b\b\b\b\b\b\b\b\b\b\b\b\b\b\b\b\b\b\b\b\r18/18 [==============================] - 1s 34ms/step - loss: 127.6027 - val_loss: 654.8680\n",
            "Epoch 44/100\n",
            "18/18 [==============================] - 0s 4ms/step - loss: 121.7135 - val_loss: 666.3636\n",
            "Epoch 45/100\n",
            "18/18 [==============================] - 0s 5ms/step - loss: 119.6918 - val_loss: 658.4150\n",
            "Epoch 46/100\n",
            "17/18 [===========================>..] - ETA: 0s - loss: 119.5377"
          ]
        },
        {
          "output_type": "stream",
          "name": "stderr",
          "text": [
            "WARNING:absl:Found untraced functions such as _jit_compiled_convolution_op while saving (showing 1 of 1). These functions will not be directly callable after loading.\n"
          ]
        },
        {
          "output_type": "stream",
          "name": "stdout",
          "text": [
            "\b\b\b\b\b\b\b\b\b\b\b\b\b\b\b\b\b\b\b\b\b\b\b\b\b\b\b\b\b\b\b\b\b\b\b\b\b\b\b\b\b\b\b\b\b\b\b\b\b\b\b\b\b\b\b\b\b\b\b\b\b\b\b\b\b\r18/18 [==============================] - 1s 50ms/step - loss: 119.1336 - val_loss: 646.1046\n",
            "Epoch 47/100\n",
            " 1/18 [>.............................] - ETA: 0s - loss: 112.7014"
          ]
        },
        {
          "output_type": "stream",
          "name": "stderr",
          "text": [
            "WARNING:absl:Found untraced functions such as _jit_compiled_convolution_op while saving (showing 1 of 1). These functions will not be directly callable after loading.\n"
          ]
        },
        {
          "output_type": "stream",
          "name": "stdout",
          "text": [
            "\b\b\b\b\b\b\b\b\b\b\b\b\b\b\b\b\b\b\b\b\b\b\b\b\b\b\b\b\b\b\b\b\b\b\b\b\b\b\b\b\b\b\b\b\b\b\b\b\b\b\b\b\b\b\b\b\b\b\b\b\b\b\b\b\b\r18/18 [==============================] - 1s 35ms/step - loss: 119.8993 - val_loss: 644.7499\n",
            "Epoch 48/100\n",
            "18/18 [==============================] - 0s 5ms/step - loss: 119.4201 - val_loss: 671.9128\n",
            "Epoch 49/100\n",
            "18/18 [==============================] - 0s 4ms/step - loss: 118.0655 - val_loss: 649.9350\n",
            "Epoch 50/100\n",
            " 1/18 [>.............................] - ETA: 0s - loss: 142.9895"
          ]
        },
        {
          "output_type": "stream",
          "name": "stderr",
          "text": [
            "WARNING:absl:Found untraced functions such as _jit_compiled_convolution_op while saving (showing 1 of 1). These functions will not be directly callable after loading.\n"
          ]
        },
        {
          "output_type": "stream",
          "name": "stdout",
          "text": [
            "\b\b\b\b\b\b\b\b\b\b\b\b\b\b\b\b\b\b\b\b\b\b\b\b\b\b\b\b\b\b\b\b\b\b\b\b\b\b\b\b\b\b\b\b\b\b\b\b\b\b\b\b\b\b\b\b\b\b\b\b\b\b\b\b\b\r18/18 [==============================] - 1s 35ms/step - loss: 118.2910 - val_loss: 634.7089\n",
            "Epoch 51/100\n",
            "17/18 [===========================>..] - ETA: 0s - loss: 117.1040"
          ]
        },
        {
          "output_type": "stream",
          "name": "stderr",
          "text": [
            "WARNING:absl:Found untraced functions such as _jit_compiled_convolution_op while saving (showing 1 of 1). These functions will not be directly callable after loading.\n"
          ]
        },
        {
          "output_type": "stream",
          "name": "stdout",
          "text": [
            "\b\b\b\b\b\b\b\b\b\b\b\b\b\b\b\b\b\b\b\b\b\b\b\b\b\b\b\b\b\b\b\b\b\b\b\b\b\b\b\b\b\b\b\b\b\b\b\b\b\b\b\b\b\b\b\b\b\b\b\b\b\b\b\b\b\r18/18 [==============================] - 1s 37ms/step - loss: 117.4927 - val_loss: 632.0626\n",
            "Epoch 52/100\n",
            "17/18 [===========================>..] - ETA: 0s - loss: 118.1714"
          ]
        },
        {
          "output_type": "stream",
          "name": "stderr",
          "text": [
            "WARNING:absl:Found untraced functions such as _jit_compiled_convolution_op while saving (showing 1 of 1). These functions will not be directly callable after loading.\n"
          ]
        },
        {
          "output_type": "stream",
          "name": "stdout",
          "text": [
            "\b\b\b\b\b\b\b\b\b\b\b\b\b\b\b\b\b\b\b\b\b\b\b\b\b\b\b\b\b\b\b\b\b\b\b\b\b\b\b\b\b\b\b\b\b\b\b\b\b\b\b\b\b\b\b\b\b\b\b\b\b\b\b\b\b\r18/18 [==============================] - 1s 38ms/step - loss: 117.6822 - val_loss: 629.4890\n",
            "Epoch 53/100\n",
            "18/18 [==============================] - 0s 4ms/step - loss: 117.6335 - val_loss: 662.7065\n",
            "Epoch 54/100\n",
            " 1/18 [>.............................] - ETA: 0s - loss: 102.3893"
          ]
        },
        {
          "output_type": "stream",
          "name": "stderr",
          "text": [
            "WARNING:absl:Found untraced functions such as _jit_compiled_convolution_op while saving (showing 1 of 1). These functions will not be directly callable after loading.\n"
          ]
        },
        {
          "output_type": "stream",
          "name": "stdout",
          "text": [
            "\b\b\b\b\b\b\b\b\b\b\b\b\b\b\b\b\b\b\b\b\b\b\b\b\b\b\b\b\b\b\b\b\b\b\b\b\b\b\b\b\b\b\b\b\b\b\b\b\b\b\b\b\b\b\b\b\b\b\b\b\b\b\b\b\b\r18/18 [==============================] - 1s 35ms/step - loss: 118.1498 - val_loss: 627.6295\n",
            "Epoch 55/100\n",
            "18/18 [==============================] - 0s 6ms/step - loss: 126.2511 - val_loss: 658.5740\n",
            "Epoch 56/100\n",
            "18/18 [==============================] - 0s 5ms/step - loss: 119.6079 - val_loss: 677.7244\n",
            "Epoch 57/100\n",
            "18/18 [==============================] - 0s 6ms/step - loss: 125.1788 - val_loss: 631.4202\n",
            "Epoch 58/100\n",
            "18/18 [==============================] - 0s 5ms/step - loss: 120.5032 - val_loss: 638.8694\n",
            "Epoch 59/100\n",
            "18/18 [==============================] - 0s 6ms/step - loss: 119.7588 - val_loss: 687.8818\n",
            "Epoch 60/100\n",
            "18/18 [==============================] - ETA: 0s - loss: 132.2919"
          ]
        },
        {
          "output_type": "stream",
          "name": "stderr",
          "text": [
            "WARNING:absl:Found untraced functions such as _jit_compiled_convolution_op while saving (showing 1 of 1). These functions will not be directly callable after loading.\n"
          ]
        },
        {
          "output_type": "stream",
          "name": "stdout",
          "text": [
            "\b\b\b\b\b\b\b\b\b\b\b\b\b\b\b\b\b\b\b\b\b\b\b\b\b\b\b\b\b\b\b\b\b\b\b\b\b\b\b\b\b\b\b\b\b\b\b\b\b\b\b\b\b\b\b\b\b\b\b\b\b\b\b\b\b\r18/18 [==============================] - 1s 35ms/step - loss: 132.2919 - val_loss: 616.7173\n",
            "Epoch 61/100\n",
            "18/18 [==============================] - 0s 5ms/step - loss: 116.3776 - val_loss: 631.8174\n",
            "Epoch 62/100\n",
            "18/18 [==============================] - 0s 5ms/step - loss: 122.1038 - val_loss: 638.3699\n",
            "Epoch 63/100\n",
            " 1/18 [>.............................] - ETA: 0s - loss: 139.4801"
          ]
        },
        {
          "output_type": "stream",
          "name": "stderr",
          "text": [
            "WARNING:absl:Found untraced functions such as _jit_compiled_convolution_op while saving (showing 1 of 1). These functions will not be directly callable after loading.\n"
          ]
        },
        {
          "output_type": "stream",
          "name": "stdout",
          "text": [
            "\b\b\b\b\b\b\b\b\b\b\b\b\b\b\b\b\b\b\b\b\b\b\b\b\b\b\b\b\b\b\b\b\b\b\b\b\b\b\b\b\b\b\b\b\b\b\b\b\b\b\b\b\b\b\b\b\b\b\b\b\b\b\b\b\b\r18/18 [==============================] - 1s 35ms/step - loss: 130.7249 - val_loss: 613.4323\n",
            "Epoch 64/100\n",
            "17/18 [===========================>..] - ETA: 0s - loss: 122.0332"
          ]
        },
        {
          "output_type": "stream",
          "name": "stderr",
          "text": [
            "WARNING:absl:Found untraced functions such as _jit_compiled_convolution_op while saving (showing 1 of 1). These functions will not be directly callable after loading.\n"
          ]
        },
        {
          "output_type": "stream",
          "name": "stdout",
          "text": [
            "\b\b\b\b\b\b\b\b\b\b\b\b\b\b\b\b\b\b\b\b\b\b\b\b\b\b\b\b\b\b\b\b\b\b\b\b\b\b\b\b\b\b\b\b\b\b\b\b\b\b\b\b\b\b\b\b\b\b\b\b\b\b\b\b\b\r18/18 [==============================] - 1s 35ms/step - loss: 121.6359 - val_loss: 612.1183\n",
            "Epoch 65/100\n",
            " 1/18 [>.............................] - ETA: 0s - loss: 125.3499"
          ]
        },
        {
          "output_type": "stream",
          "name": "stderr",
          "text": [
            "WARNING:absl:Found untraced functions such as _jit_compiled_convolution_op while saving (showing 1 of 1). These functions will not be directly callable after loading.\n"
          ]
        },
        {
          "output_type": "stream",
          "name": "stdout",
          "text": [
            "\b\b\b\b\b\b\b\b\b\b\b\b\b\b\b\b\b\b\b\b\b\b\b\b\b\b\b\b\b\b\b\b\b\b\b\b\b\b\b\b\b\b\b\b\b\b\b\b\b\b\b\b\b\b\b\b\b\b\b\b\b\b\b\b\b\r18/18 [==============================] - 1s 35ms/step - loss: 117.2829 - val_loss: 611.5749\n",
            "Epoch 66/100\n",
            "18/18 [==============================] - 0s 5ms/step - loss: 114.8394 - val_loss: 640.2515\n",
            "Epoch 67/100\n",
            "18/18 [==============================] - 0s 5ms/step - loss: 117.1895 - val_loss: 649.0399\n",
            "Epoch 68/100\n",
            "18/18 [==============================] - 0s 5ms/step - loss: 120.2012 - val_loss: 613.8553\n",
            "Epoch 69/100\n",
            "18/18 [==============================] - 0s 5ms/step - loss: 113.1679 - val_loss: 611.7507\n",
            "Epoch 70/100\n",
            "18/18 [==============================] - 0s 5ms/step - loss: 113.7113 - val_loss: 615.7573\n",
            "Epoch 71/100\n",
            "18/18 [==============================] - ETA: 0s - loss: 113.2432"
          ]
        },
        {
          "output_type": "stream",
          "name": "stderr",
          "text": [
            "WARNING:absl:Found untraced functions such as _jit_compiled_convolution_op while saving (showing 1 of 1). These functions will not be directly callable after loading.\n"
          ]
        },
        {
          "output_type": "stream",
          "name": "stdout",
          "text": [
            "\b\b\b\b\b\b\b\b\b\b\b\b\b\b\b\b\b\b\b\b\b\b\b\b\b\b\b\b\b\b\b\b\b\b\b\b\b\b\b\b\b\b\b\b\b\b\b\b\b\b\b\b\b\b\b\b\b\b\b\b\b\b\b\b\b\r18/18 [==============================] - 1s 37ms/step - loss: 113.2432 - val_loss: 611.2285\n",
            "Epoch 72/100\n",
            " 1/18 [>.............................] - ETA: 0s - loss: 122.5976"
          ]
        },
        {
          "output_type": "stream",
          "name": "stderr",
          "text": [
            "WARNING:absl:Found untraced functions such as _jit_compiled_convolution_op while saving (showing 1 of 1). These functions will not be directly callable after loading.\n"
          ]
        },
        {
          "output_type": "stream",
          "name": "stdout",
          "text": [
            "\b\b\b\b\b\b\b\b\b\b\b\b\b\b\b\b\b\b\b\b\b\b\b\b\b\b\b\b\b\b\b\b\b\b\b\b\b\b\b\b\b\b\b\b\b\b\b\b\b\b\b\b\b\b\b\b\b\b\b\b\b\b\b\b\b\r18/18 [==============================] - 1s 50ms/step - loss: 113.3125 - val_loss: 606.2512\n",
            "Epoch 73/100\n",
            "18/18 [==============================] - ETA: 0s - loss: 114.4031"
          ]
        },
        {
          "output_type": "stream",
          "name": "stderr",
          "text": [
            "WARNING:absl:Found untraced functions such as _jit_compiled_convolution_op while saving (showing 1 of 1). These functions will not be directly callable after loading.\n"
          ]
        },
        {
          "output_type": "stream",
          "name": "stdout",
          "text": [
            "\b\b\b\b\b\b\b\b\b\b\b\b\b\b\b\b\b\b\b\b\b\b\b\b\b\b\b\b\b\b\b\b\b\b\b\b\b\b\b\b\b\b\b\b\b\b\b\b\b\b\b\b\b\b\b\b\b\b\b\b\b\b\b\b\b\r18/18 [==============================] - 1s 35ms/step - loss: 114.4031 - val_loss: 604.6870\n",
            "Epoch 74/100\n",
            "18/18 [==============================] - 0s 5ms/step - loss: 116.4610 - val_loss: 616.1496\n",
            "Epoch 75/100\n",
            "18/18 [==============================] - 0s 5ms/step - loss: 113.8068 - val_loss: 610.4359\n",
            "Epoch 76/100\n",
            "18/18 [==============================] - 0s 5ms/step - loss: 116.1937 - val_loss: 657.7992\n",
            "Epoch 77/100\n",
            " 1/18 [>.............................] - ETA: 0s - loss: 112.8006"
          ]
        },
        {
          "output_type": "stream",
          "name": "stderr",
          "text": [
            "WARNING:absl:Found untraced functions such as _jit_compiled_convolution_op while saving (showing 1 of 1). These functions will not be directly callable after loading.\n"
          ]
        },
        {
          "output_type": "stream",
          "name": "stdout",
          "text": [
            "\b\b\b\b\b\b\b\b\b\b\b\b\b\b\b\b\b\b\b\b\b\b\b\b\b\b\b\b\b\b\b\b\b\b\b\b\b\b\b\b\b\b\b\b\b\b\b\b\b\b\b\b\b\b\b\b\b\b\b\b\b\b\b\b\b\r18/18 [==============================] - 1s 35ms/step - loss: 112.7430 - val_loss: 598.3829\n",
            "Epoch 78/100\n",
            "18/18 [==============================] - 0s 4ms/step - loss: 112.5819 - val_loss: 602.1983\n",
            "Epoch 79/100\n",
            "18/18 [==============================] - 0s 5ms/step - loss: 112.8787 - val_loss: 625.7456\n",
            "Epoch 80/100\n",
            "18/18 [==============================] - 0s 5ms/step - loss: 116.6093 - val_loss: 707.6960\n",
            "Epoch 81/100\n",
            "18/18 [==============================] - 0s 6ms/step - loss: 117.9514 - val_loss: 600.6691\n",
            "Epoch 82/100\n",
            "18/18 [==============================] - 0s 5ms/step - loss: 114.6357 - val_loss: 609.5295\n",
            "Epoch 83/100\n",
            "18/18 [==============================] - 0s 5ms/step - loss: 112.3328 - val_loss: 672.1104\n",
            "Epoch 84/100\n",
            "18/18 [==============================] - 0s 5ms/step - loss: 116.7128 - val_loss: 658.1931\n",
            "Epoch 85/100\n",
            "18/18 [==============================] - 0s 5ms/step - loss: 114.4379 - val_loss: 651.0137\n",
            "Epoch 86/100\n",
            "18/18 [==============================] - 0s 5ms/step - loss: 112.8355 - val_loss: 615.4177\n",
            "Epoch 87/100\n",
            "15/18 [========================>.....] - ETA: 0s - loss: 107.5295"
          ]
        },
        {
          "output_type": "stream",
          "name": "stderr",
          "text": [
            "WARNING:absl:Found untraced functions such as _jit_compiled_convolution_op while saving (showing 1 of 1). These functions will not be directly callable after loading.\n"
          ]
        },
        {
          "output_type": "stream",
          "name": "stdout",
          "text": [
            "\b\b\b\b\b\b\b\b\b\b\b\b\b\b\b\b\b\b\b\b\b\b\b\b\b\b\b\b\b\b\b\b\b\b\b\b\b\b\b\b\b\b\b\b\b\b\b\b\b\b\b\b\b\b\b\b\b\b\b\b\b\b\b\b\b\r18/18 [==============================] - 1s 37ms/step - loss: 111.2276 - val_loss: 589.0822\n",
            "Epoch 88/100\n",
            "18/18 [==============================] - 0s 5ms/step - loss: 110.7983 - val_loss: 599.5411\n",
            "Epoch 89/100\n",
            "18/18 [==============================] - 0s 5ms/step - loss: 110.1021 - val_loss: 602.8287\n",
            "Epoch 90/100\n",
            "18/18 [==============================] - 0s 4ms/step - loss: 112.6246 - val_loss: 592.6718\n",
            "Epoch 91/100\n",
            "18/18 [==============================] - 0s 4ms/step - loss: 114.1010 - val_loss: 613.6353\n",
            "Epoch 92/100\n",
            "18/18 [==============================] - 0s 5ms/step - loss: 111.7300 - val_loss: 597.2857\n",
            "Epoch 93/100\n",
            "18/18 [==============================] - 0s 4ms/step - loss: 111.2663 - val_loss: 605.0421\n",
            "Epoch 94/100\n",
            "18/18 [==============================] - 0s 5ms/step - loss: 112.3729 - val_loss: 639.9246\n",
            "Epoch 95/100\n",
            "18/18 [==============================] - 0s 4ms/step - loss: 122.0078 - val_loss: 597.8623\n",
            "Epoch 96/100\n",
            "18/18 [==============================] - 0s 6ms/step - loss: 114.5483 - val_loss: 596.7239\n",
            "Epoch 97/100\n",
            "18/18 [==============================] - 0s 5ms/step - loss: 112.2556 - val_loss: 627.8806\n",
            "Epoch 98/100\n",
            "18/18 [==============================] - 0s 5ms/step - loss: 110.4785 - val_loss: 634.2906\n",
            "Epoch 99/100\n",
            "17/18 [===========================>..] - ETA: 0s - loss: 111.6585"
          ]
        },
        {
          "output_type": "stream",
          "name": "stderr",
          "text": [
            "WARNING:absl:Found untraced functions such as _jit_compiled_convolution_op while saving (showing 1 of 1). These functions will not be directly callable after loading.\n"
          ]
        },
        {
          "output_type": "stream",
          "name": "stdout",
          "text": [
            "\b\b\b\b\b\b\b\b\b\b\b\b\b\b\b\b\b\b\b\b\b\b\b\b\b\b\b\b\b\b\b\b\b\b\b\b\b\b\b\b\b\b\b\b\b\b\b\b\b\b\b\b\b\b\b\b\b\b\b\b\b\b\b\b\b\r18/18 [==============================] - 1s 37ms/step - loss: 111.8579 - val_loss: 587.2560\n",
            "Epoch 100/100\n",
            "18/18 [==============================] - 0s 5ms/step - loss: 112.0070 - val_loss: 664.4155\n"
          ]
        },
        {
          "output_type": "execute_result",
          "data": {
            "text/plain": [
              "<keras.callbacks.History at 0x7f293208fd60>"
            ]
          },
          "metadata": {},
          "execution_count": 53
        }
      ]
    },
    {
      "cell_type": "code",
      "source": [
        "model_4.summary()"
      ],
      "metadata": {
        "colab": {
          "base_uri": "https://localhost:8080/"
        },
        "id": "CyfiGntbcgc3",
        "outputId": "e04a1624-e33a-4677-e590-1d9bc50044ca"
      },
      "execution_count": null,
      "outputs": [
        {
          "output_type": "stream",
          "name": "stdout",
          "text": [
            "Model: \"model_4_conv1D\"\n",
            "_________________________________________________________________\n",
            " Layer (type)                Output Shape              Param #   \n",
            "=================================================================\n",
            " lambda_1 (Lambda)           (None, 1, 7)              0         \n",
            "                                                                 \n",
            " conv1d (Conv1D)             (None, 1, 128)            6400      \n",
            "                                                                 \n",
            " dense_6 (Dense)             (None, 1, 1)              129       \n",
            "                                                                 \n",
            "=================================================================\n",
            "Total params: 6,529\n",
            "Trainable params: 6,529\n",
            "Non-trainable params: 0\n",
            "_________________________________________________________________\n"
          ]
        }
      ]
    },
    {
      "cell_type": "code",
      "source": [
        "model_4.evaluate(test_windows, test_labels)\n",
        "\n",
        "model_4=tf.keras.models.load_model('/content/model_experiments/model_4_conv1D')\n",
        "model_4.evaluate(test_windows, test_labels)\n",
        "\n",
        "model_4_preds= make_preds(model_4,\n",
        "                         input_data=test_windows)\n",
        "model_4_preds= np.float64(model_4_preds)\n",
        "\n",
        "model_4_results= evaluate_preds(y_true=tf.squeeze(test_labels),\n",
        "                                y_pred=model_4_preds)"
      ],
      "metadata": {
        "colab": {
          "base_uri": "https://localhost:8080/"
        },
        "id": "CGa93eNdc_2n",
        "outputId": "3d4d9e34-f5e8-4003-f0b5-ff3cfe404a5d"
      },
      "execution_count": null,
      "outputs": [
        {
          "output_type": "stream",
          "name": "stdout",
          "text": [
            "18/18 [==============================] - 0s 3ms/step - loss: 664.4156\n",
            "18/18 [==============================] - 0s 2ms/step - loss: 587.2560\n",
            "18/18 [==============================] - 0s 2ms/step\n"
          ]
        }
      ]
    },
    {
      "cell_type": "code",
      "source": [
        "model_4_results"
      ],
      "metadata": {
        "colab": {
          "base_uri": "https://localhost:8080/"
        },
        "id": "gpq9y2KUddXK",
        "outputId": "0840c2bd-e4ed-4901-82b0-8319040419cd"
      },
      "execution_count": null,
      "outputs": [
        {
          "output_type": "execute_result",
          "data": {
            "text/plain": [
              "{'mae': 587.2559641206745,\n",
              " 'mse': 1219873.3523202473,\n",
              " 'rmse': 1104.478769519925,\n",
              " 'mape': 2.6232087577421113,\n",
              " 'mase': 1.024967010658607}"
            ]
          },
          "metadata": {},
          "execution_count": 56
        }
      ]
    },
    {
      "cell_type": "code",
      "source": [
        "offset= 300\n",
        "plt.figure(figsize=(10,7))\n",
        "plot_time_series(timesteps= X_test[-len(test_windows):], values=test_labels[:,0], start=offset, label='Test Data')\n",
        "\n",
        "plot_time_series(timesteps=X_test[-len(test_windows):],\n",
        "                 values=model_4_preds,\n",
        "                 start=offset,\n",
        "                 format='-',\n",
        "                 label=\"model_4_preds\")"
      ],
      "metadata": {
        "colab": {
          "base_uri": "https://localhost:8080/",
          "height": 442
        },
        "id": "M8dtm47zdTAe",
        "outputId": "003941bb-d358-4102-9f6c-4ca9358c295c"
      },
      "execution_count": null,
      "outputs": [
        {
          "output_type": "display_data",
          "data": {
            "text/plain": [
              "<Figure size 720x504 with 1 Axes>"
            ],
            "image/png": "[encoded data removed]"
          },
          "metadata": {
            "needs_background": "light"
          }
        }
      ]
    },
    {
      "cell_type": "markdown",
      "source": [
        "##LSTM"
      ],
      "metadata": {
        "id": "OKDnT7EBocXr"
      }
    },
    {
      "cell_type": "code",
      "source": [
        "inputs= layers.Input(shape=(WINDOW_SIZE))\n",
        "x=layers.Lambda(lambda x:tf.expand_dims(x,axis=1))(inputs)\n",
        "#x=layers.LSTM(128, return_sequences=True)(x)\n",
        "x=layers.LSTM(128, activation='relu')(x)\n",
        "#x=layers.Dense(32, activation='tanh')(x)\n",
        "\n",
        "output=layers.Dense(HORIZON)(x)\n",
        "\n",
        "model_5=tf.keras.Model(inputs= inputs, outputs=output, name='model_5_LSTM')\n",
        "\n",
        "model_5.compile(loss='mae',\n",
        "                optimizer= tf.keras.optimizers.Adam())\n",
        "\n",
        "model_5.fit(train_windows,\n",
        "            train_labels,\n",
        "            epochs=100,\n",
        "            batch_size=128,\n",
        "            verbose=1,\n",
        "            validation_data=(test_windows, test_labels),\n",
        "            callbacks=[create_model_checkpoint(model_name=model_5.name)])"
      ],
      "metadata": {
        "colab": {
          "base_uri": "https://localhost:8080/"
        },
        "id": "tx-ChPf9of-S",
        "outputId": "11fc7fbc-92df-4c64-c78b-6a2443ca659e"
      },
      "execution_count": null,
      "outputs": [
        {
          "output_type": "stream",
          "name": "stderr",
          "text": [
            "WARNING:tensorflow:Layer lstm will not use cuDNN kernels since it doesn't meet the criteria. It will use a generic GPU kernel as fallback when running on GPU.\n"
          ]
        },
        {
          "output_type": "stream",
          "name": "stdout",
          "text": [
            "Epoch 1/100\n",
            "18/18 [==============================] - 3s 103ms/step - loss: 1741.7318 - val_loss: 2566.7739\n",
            "Epoch 2/100\n",
            "18/18 [==============================] - 2s 111ms/step - loss: 274.3179 - val_loss: 1110.7738\n",
            "Epoch 3/100\n",
            "18/18 [==============================] - 2s 95ms/step - loss: 192.8030 - val_loss: 1003.7775\n",
            "Epoch 4/100\n",
            "18/18 [==============================] - 2s 94ms/step - loss: 177.3789 - val_loss: 972.0564\n",
            "Epoch 5/100\n",
            "18/18 [==============================] - 2s 92ms/step - loss: 157.1252 - val_loss: 916.8762\n",
            "Epoch 6/100\n",
            "18/18 [==============================] - 0s 7ms/step - loss: 167.8733 - val_loss: 960.9933\n",
            "Epoch 7/100\n",
            "18/18 [==============================] - 2s 113ms/step - loss: 151.7340 - val_loss: 905.3946\n",
            "Epoch 8/100\n",
            "18/18 [==============================] - 2s 94ms/step - loss: 153.5887 - val_loss: 886.2776\n",
            "Epoch 9/100\n",
            "18/18 [==============================] - 0s 7ms/step - loss: 151.3945 - val_loss: 904.4757\n",
            "Epoch 10/100\n",
            "18/18 [==============================] - 0s 6ms/step - loss: 161.6199 - val_loss: 997.4207\n",
            "Epoch 11/100\n",
            "18/18 [==============================] - 0s 6ms/step - loss: 179.9208 - val_loss: 1010.9383\n",
            "Epoch 12/100\n",
            "18/18 [==============================] - 0s 6ms/step - loss: 179.4751 - val_loss: 998.1439\n",
            "Epoch 13/100\n",
            "18/18 [==============================] - 0s 7ms/step - loss: 175.6027 - val_loss: 991.1900\n",
            "Epoch 14/100\n",
            "18/18 [==============================] - 0s 6ms/step - loss: 175.0035 - val_loss: 993.1538\n",
            "Epoch 15/100\n",
            "18/18 [==============================] - 2s 92ms/step - loss: 168.2758 - val_loss: 864.1179\n",
            "Epoch 16/100\n",
            "18/18 [==============================] - 2s 95ms/step - loss: 145.7251 - val_loss: 841.5785\n",
            "Epoch 17/100\n",
            "18/18 [==============================] - 0s 6ms/step - loss: 143.2486 - val_loss: 866.0454\n",
            "Epoch 18/100\n",
            "18/18 [==============================] - 0s 7ms/step - loss: 154.2509 - val_loss: 889.4661\n",
            "Epoch 19/100\n",
            "18/18 [==============================] - 0s 6ms/step - loss: 152.7886 - val_loss: 917.6277\n",
            "Epoch 20/100\n",
            "18/18 [==============================] - 0s 6ms/step - loss: 164.6876 - val_loss: 929.1868\n",
            "Epoch 21/100\n",
            "18/18 [==============================] - 2s 116ms/step - loss: 158.6268 - val_loss: 828.0197\n",
            "Epoch 22/100\n",
            "18/18 [==============================] - 0s 7ms/step - loss: 138.0548 - val_loss: 862.6865\n",
            "Epoch 23/100\n",
            "18/18 [==============================] - 2s 96ms/step - loss: 144.6159 - val_loss: 776.8526\n",
            "Epoch 24/100\n",
            "18/18 [==============================] - 0s 7ms/step - loss: 144.1810 - val_loss: 889.1459\n",
            "Epoch 25/100\n",
            "18/18 [==============================] - 0s 6ms/step - loss: 149.7138 - val_loss: 799.5911\n",
            "Epoch 26/100\n",
            "18/18 [==============================] - 2s 94ms/step - loss: 143.2491 - val_loss: 755.2679\n",
            "Epoch 27/100\n",
            "18/18 [==============================] - 0s 6ms/step - loss: 140.8052 - val_loss: 803.1948\n",
            "Epoch 28/100\n",
            "18/18 [==============================] - 0s 8ms/step - loss: 142.8107 - val_loss: 1019.3343\n",
            "Epoch 29/100\n",
            "18/18 [==============================] - 0s 6ms/step - loss: 154.6295 - val_loss: 872.3391\n",
            "Epoch 30/100\n",
            "18/18 [==============================] - 0s 6ms/step - loss: 151.8892 - val_loss: 900.6693\n",
            "Epoch 31/100\n",
            "18/18 [==============================] - 0s 6ms/step - loss: 149.6623 - val_loss: 855.8648\n",
            "Epoch 32/100\n",
            "18/18 [==============================] - 0s 6ms/step - loss: 149.7122 - val_loss: 821.6324\n",
            "Epoch 33/100\n",
            "18/18 [==============================] - 0s 6ms/step - loss: 148.0832 - val_loss: 885.5767\n",
            "Epoch 34/100\n",
            "18/18 [==============================] - 0s 6ms/step - loss: 145.4704 - val_loss: 800.8742\n",
            "Epoch 35/100\n",
            "18/18 [==============================] - 0s 7ms/step - loss: 142.4602 - val_loss: 816.2972\n",
            "Epoch 36/100\n",
            "18/18 [==============================] - 0s 6ms/step - loss: 140.6606 - val_loss: 785.0980\n",
            "Epoch 37/100\n",
            "18/18 [==============================] - 0s 7ms/step - loss: 138.2253 - val_loss: 768.0017\n",
            "Epoch 38/100\n",
            "18/18 [==============================] - 0s 7ms/step - loss: 137.1952 - val_loss: 782.4800\n",
            "Epoch 39/100\n",
            "18/18 [==============================] - 0s 6ms/step - loss: 135.5386 - val_loss: 766.0790\n",
            "Epoch 40/100\n",
            "18/18 [==============================] - 2s 93ms/step - loss: 135.7403 - val_loss: 742.6602\n",
            "Epoch 41/100\n",
            "18/18 [==============================] - 2s 112ms/step - loss: 134.1445 - val_loss: 734.7241\n",
            "Epoch 42/100\n",
            "18/18 [==============================] - 0s 7ms/step - loss: 131.8133 - val_loss: 735.5271\n",
            "Epoch 43/100\n",
            "18/18 [==============================] - 2s 94ms/step - loss: 131.3457 - val_loss: 723.1309\n",
            "Epoch 44/100\n",
            "18/18 [==============================] - 0s 7ms/step - loss: 130.6552 - val_loss: 762.0544\n",
            "Epoch 45/100\n",
            "18/18 [==============================] - 0s 7ms/step - loss: 127.6163 - val_loss: 776.3059\n",
            "Epoch 46/100\n",
            "18/18 [==============================] - 2s 90ms/step - loss: 128.2814 - val_loss: 698.2862\n",
            "Epoch 47/100\n",
            "18/18 [==============================] - 2s 100ms/step - loss: 128.5504 - val_loss: 693.1721\n",
            "Epoch 48/100\n",
            "18/18 [==============================] - 0s 12ms/step - loss: 126.0625 - val_loss: 807.4344\n",
            "Epoch 49/100\n",
            "18/18 [==============================] - 2s 140ms/step - loss: 127.8739 - val_loss: 681.7539\n",
            "Epoch 50/100\n",
            "18/18 [==============================] - 0s 7ms/step - loss: 124.9586 - val_loss: 713.4984\n",
            "Epoch 51/100\n",
            "18/18 [==============================] - 0s 6ms/step - loss: 129.5331 - val_loss: 686.4498\n",
            "Epoch 52/100\n",
            "18/18 [==============================] - 0s 6ms/step - loss: 126.1672 - val_loss: 767.9214\n",
            "Epoch 53/100\n",
            "18/18 [==============================] - 2s 94ms/step - loss: 129.6673 - val_loss: 673.0308\n",
            "Epoch 54/100\n",
            "18/18 [==============================] - 0s 7ms/step - loss: 125.0414 - val_loss: 717.6152\n",
            "Epoch 55/100\n",
            "18/18 [==============================] - 0s 7ms/step - loss: 127.2780 - val_loss: 696.4904\n",
            "Epoch 56/100\n",
            "18/18 [==============================] - 0s 7ms/step - loss: 120.2241 - val_loss: 694.3812\n",
            "Epoch 57/100\n",
            "18/18 [==============================] - 2s 95ms/step - loss: 122.9241 - val_loss: 647.4214\n",
            "Epoch 58/100\n",
            "18/18 [==============================] - 0s 6ms/step - loss: 117.8761 - val_loss: 648.5211\n",
            "Epoch 59/100\n",
            "18/18 [==============================] - 2s 93ms/step - loss: 119.1389 - val_loss: 643.8705\n",
            "Epoch 60/100\n",
            "18/18 [==============================] - 2s 111ms/step - loss: 119.1609 - val_loss: 636.1704\n",
            "Epoch 61/100\n",
            "18/18 [==============================] - 2s 96ms/step - loss: 118.8793 - val_loss: 632.9700\n",
            "Epoch 62/100\n",
            "18/18 [==============================] - 0s 7ms/step - loss: 118.2817 - val_loss: 633.0811\n",
            "Epoch 63/100\n",
            "18/18 [==============================] - 2s 93ms/step - loss: 116.9424 - val_loss: 628.6571\n",
            "Epoch 64/100\n",
            "18/18 [==============================] - 0s 6ms/step - loss: 117.8737 - val_loss: 648.0092\n",
            "Epoch 65/100\n",
            "18/18 [==============================] - 2s 93ms/step - loss: 115.9420 - val_loss: 622.4007\n",
            "Epoch 66/100\n",
            "18/18 [==============================] - 0s 7ms/step - loss: 114.3247 - val_loss: 623.2820\n",
            "Epoch 67/100\n",
            "18/18 [==============================] - 2s 110ms/step - loss: 115.3964 - val_loss: 620.1757\n",
            "Epoch 68/100\n",
            "18/18 [==============================] - 0s 7ms/step - loss: 114.9061 - val_loss: 622.9038\n",
            "Epoch 69/100\n",
            "18/18 [==============================] - 0s 6ms/step - loss: 112.9727 - val_loss: 626.1169\n",
            "Epoch 70/100\n",
            "18/18 [==============================] - 0s 6ms/step - loss: 114.1153 - val_loss: 660.1521\n",
            "Epoch 71/100\n",
            "18/18 [==============================] - 0s 6ms/step - loss: 114.1371 - val_loss: 630.0562\n",
            "Epoch 72/100\n",
            "18/18 [==============================] - 2s 94ms/step - loss: 113.0608 - val_loss: 606.1379\n",
            "Epoch 73/100\n",
            "18/18 [==============================] - 0s 7ms/step - loss: 116.0176 - val_loss: 620.5823\n",
            "Epoch 74/100\n",
            "18/18 [==============================] - 0s 6ms/step - loss: 113.2697 - val_loss: 612.4598\n",
            "Epoch 75/100\n",
            "18/18 [==============================] - 2s 95ms/step - loss: 111.9814 - val_loss: 605.2472\n",
            "Epoch 76/100\n",
            "18/18 [==============================] - 0s 7ms/step - loss: 111.9604 - val_loss: 605.9266\n",
            "Epoch 77/100\n",
            "18/18 [==============================] - 0s 8ms/step - loss: 111.6802 - val_loss: 605.3074\n",
            "Epoch 78/100\n",
            "18/18 [==============================] - 2s 92ms/step - loss: 111.6188 - val_loss: 598.2493\n",
            "Epoch 79/100\n",
            "18/18 [==============================] - 0s 7ms/step - loss: 111.5902 - val_loss: 625.7751\n",
            "Epoch 80/100\n",
            "18/18 [==============================] - 0s 7ms/step - loss: 118.1120 - val_loss: 659.8559\n",
            "Epoch 81/100\n",
            "18/18 [==============================] - 0s 7ms/step - loss: 120.9223 - val_loss: 758.1999\n",
            "Epoch 82/100\n",
            "18/18 [==============================] - 0s 7ms/step - loss: 119.4105 - val_loss: 628.3826\n",
            "Epoch 83/100\n",
            "18/18 [==============================] - 0s 6ms/step - loss: 112.1004 - val_loss: 617.9631\n",
            "Epoch 84/100\n",
            "18/18 [==============================] - 0s 7ms/step - loss: 112.2551 - val_loss: 606.8863\n",
            "Epoch 85/100\n",
            "18/18 [==============================] - 0s 7ms/step - loss: 111.0576 - val_loss: 611.2512\n",
            "Epoch 86/100\n",
            "18/18 [==============================] - 0s 7ms/step - loss: 111.2012 - val_loss: 599.5023\n",
            "Epoch 87/100\n",
            "18/18 [==============================] - 2s 111ms/step - loss: 110.7437 - val_loss: 589.7720\n",
            "Epoch 88/100\n",
            "18/18 [==============================] - 0s 6ms/step - loss: 109.8743 - val_loss: 599.1214\n",
            "Epoch 89/100\n",
            "18/18 [==============================] - 0s 6ms/step - loss: 109.6780 - val_loss: 617.1144\n",
            "Epoch 90/100\n",
            "18/18 [==============================] - 0s 6ms/step - loss: 113.2519 - val_loss: 590.0742\n",
            "Epoch 91/100\n",
            "18/18 [==============================] - 2s 94ms/step - loss: 112.1782 - val_loss: 588.0525\n",
            "Epoch 92/100\n",
            "18/18 [==============================] - 2s 94ms/step - loss: 109.4162 - val_loss: 586.7989\n",
            "Epoch 93/100\n",
            "18/18 [==============================] - 0s 7ms/step - loss: 110.3277 - val_loss: 616.6445\n",
            "Epoch 94/100\n",
            "18/18 [==============================] - 0s 7ms/step - loss: 111.2665 - val_loss: 611.8871\n",
            "Epoch 95/100\n",
            "18/18 [==============================] - 2s 94ms/step - loss: 114.5209 - val_loss: 586.4907\n",
            "Epoch 96/100\n",
            "18/18 [==============================] - 0s 6ms/step - loss: 111.0359 - val_loss: 587.5869\n",
            "Epoch 97/100\n",
            "18/18 [==============================] - 0s 7ms/step - loss: 109.3322 - val_loss: 595.3424\n",
            "Epoch 98/100\n",
            "18/18 [==============================] - 0s 7ms/step - loss: 109.6258 - val_loss: 649.1066\n",
            "Epoch 99/100\n",
            "18/18 [==============================] - 0s 7ms/step - loss: 111.1407 - val_loss: 597.3041\n",
            "Epoch 100/100\n",
            "18/18 [==============================] - 0s 7ms/step - loss: 110.1939 - val_loss: 665.5405\n"
          ]
        },
        {
          "output_type": "execute_result",
          "data": {
            "text/plain": [
              "<keras.callbacks.History at 0x7f2917cfe970>"
            ]
          },
          "metadata": {},
          "execution_count": 58
        }
      ]
    },
    {
      "cell_type": "code",
      "source": [
        "model_5.evaluate(test_windows, test_labels)\n",
        "\n",
        "model_5=tf.keras.models.load_model('/content/model_experiments/model_5_LSTM')\n",
        "model_5.evaluate(test_windows, test_labels)\n",
        "\n",
        "model_5_preds= make_preds(model_5,\n",
        "                         input_data=test_windows)\n",
        "model_5_preds= np.float64(model_5_preds)\n",
        "\n",
        "model_5_results= evaluate_preds(y_true=tf.squeeze(test_labels),\n",
        "                                y_pred=model_5_preds)"
      ],
      "metadata": {
        "colab": {
          "base_uri": "https://localhost:8080/"
        },
        "id": "2IkyFq93pW4b",
        "outputId": "6f14ebec-9dc6-4bef-9c5c-f3657cdf97a3"
      },
      "execution_count": null,
      "outputs": [
        {
          "output_type": "stream",
          "name": "stdout",
          "text": [
            "18/18 [==============================] - 0s 2ms/step - loss: 665.5404\n"
          ]
        },
        {
          "output_type": "stream",
          "name": "stderr",
          "text": [
            "WARNING:tensorflow:Layer lstm will not use cuDNN kernels since it doesn't meet the criteria. It will use a generic GPU kernel as fallback when running on GPU.\n"
          ]
        },
        {
          "output_type": "stream",
          "name": "stdout",
          "text": [
            "18/18 [==============================] - 0s 2ms/step - loss: 586.4907\n",
            "18/18 [==============================] - 0s 2ms/step\n"
          ]
        }
      ]
    },
    {
      "cell_type": "code",
      "source": [
        "model_5_results"
      ],
      "metadata": {
        "colab": {
          "base_uri": "https://localhost:8080/"
        },
        "id": "EoQZpjYPsXBt",
        "outputId": "11d4940a-e808-4e31-b540-8212185f9423"
      },
      "execution_count": null,
      "outputs": [
        {
          "output_type": "execute_result",
          "data": {
            "text/plain": [
              "{'mae': 586.4906909441672,\n",
              " 'mse': 1229099.6709926226,\n",
              " 'rmse': 1108.647676673082,\n",
              " 'mape': 2.633929896434117,\n",
              " 'mase': 1.023631341362789}"
            ]
          },
          "metadata": {},
          "execution_count": 60
        }
      ]
    },
    {
      "cell_type": "code",
      "source": [
        "model_1_results"
      ],
      "metadata": {
        "colab": {
          "base_uri": "https://localhost:8080/"
        },
        "id": "6OzkOX_usb3M",
        "outputId": "06d19936-5cbb-4e66-d93f-72ef2715c165"
      },
      "execution_count": null,
      "outputs": [
        {
          "output_type": "execute_result",
          "data": {
            "text/plain": [
              "{'mae': 570.3397368514985,\n",
              " 'mse': 1180294.7576910225,\n",
              " 'rmse': 1086.4137138728609,\n",
              " 'mape': 2.539222681957394,\n",
              " 'mase': 0.9954422787613826}"
            ]
          },
          "metadata": {},
          "execution_count": 61
        }
      ]
    },
    {
      "cell_type": "code",
      "source": [
        "block_reward_1=50\n",
        "block_reward_2=25\n",
        "block_reward_3=12.5\n",
        "block_reward_4=6.25\n",
        "\n",
        "block_reward_2_datetime=np.datetime64(\"2012-11-28\")\n",
        "block_reward_3_datetime=np.datetime64(\"2016-07-09\")\n",
        "block_reward_4_datetime=np.datetime64(\"2020-05-18\")\n"
      ],
      "metadata": {
        "id": "p3TdGysyyBAM"
      },
      "execution_count": null,
      "outputs": []
    },
    {
      "cell_type": "code",
      "source": [
        "bitcoin_prices"
      ],
      "metadata": {
        "colab": {
          "base_uri": "https://localhost:8080/",
          "height": 455
        },
        "id": "fPPzlNky4lkR",
        "outputId": "602a9d26-f6ac-4871-f912-d87b849e4cc5"
      },
      "execution_count": null,
      "outputs": [
        {
          "output_type": "execute_result",
          "data": {
            "text/plain": [
              "                   Price\n",
              "Date                    \n",
              "2013-10-01    123.654990\n",
              "2013-10-02    125.455000\n",
              "2013-10-03    108.584830\n",
              "2013-10-04    118.674660\n",
              "2013-10-05    121.338660\n",
              "...                  ...\n",
              "2021-05-14  49764.132082\n",
              "2021-05-15  50032.693137\n",
              "2021-05-16  47885.625255\n",
              "2021-05-17  45604.615754\n",
              "2021-05-18  43144.471291\n",
              "\n",
              "[2787 rows x 1 columns]"
            ],
            "text/html": [
              "\n",
              "  <div id=\"df-82f4f66a-6d4c-4fd6-bdb7-257aaa35ff68\">\n",
              "    <div class=\"colab-df-container\">\n",
              "      <div>\n",
              "<style scoped>\n",
              "    .dataframe tbody tr th:only-of-type {\n",
              "        vertical-align: middle;\n",
              "    }\n",
              "\n",
              "    .dataframe tbody tr th {\n",
              "        vertical-align: top;\n",
              "    }\n",
              "\n",
              "    .dataframe thead th {\n",
              "        text-align: right;\n",
              "    }\n",
              "</style>\n",
              "<table border=\"1\" class=\"dataframe\">\n",
              "  <thead>\n",
              "    <tr style=\"text-align: right;\">\n",
              "      <th></th>\n",
              "      <th>Price</th>\n",
              "    </tr>\n",
              "    <tr>\n",
              "      <th>Date</th>\n",
              "      <th></th>\n",
              "    </tr>\n",
              "  </thead>\n",
              "  <tbody>\n",
              "    <tr>\n",
              "      <th>2013-10-01</th>\n",
              "      <td>123.654990</td>\n",
              "    </tr>\n",
              "    <tr>\n",
              "      <th>2013-10-02</th>\n",
              "      <td>125.455000</td>\n",
              "    </tr>\n",
              "    <tr>\n",
              "      <th>2013-10-03</th>\n",
              "      <td>108.584830</td>\n",
              "    </tr>\n",
              "    <tr>\n",
              "      <th>2013-10-04</th>\n",
              "      <td>118.674660</td>\n",
              "    </tr>\n",
              "    <tr>\n",
              "      <th>2013-10-05</th>\n",
              "      <td>121.338660</td>\n",
              "    </tr>\n",
              "    <tr>\n",
              "      <th>...</th>\n",
              "      <td>...</td>\n",
              "    </tr>\n",
              "    <tr>\n",
              "      <th>2021-05-14</th>\n",
              "      <td>49764.132082</td>\n",
              "    </tr>\n",
              "    <tr>\n",
              "      <th>2021-05-15</th>\n",
              "      <td>50032.693137</td>\n",
              "    </tr>\n",
              "    <tr>\n",
              "      <th>2021-05-16</th>\n",
              "      <td>47885.625255</td>\n",
              "    </tr>\n",
              "    <tr>\n",
              "      <th>2021-05-17</th>\n",
              "      <td>45604.615754</td>\n",
              "    </tr>\n",
              "    <tr>\n",
              "      <th>2021-05-18</th>\n",
              "      <td>43144.471291</td>\n",
              "    </tr>\n",
              "  </tbody>\n",
              "</table>\n",
              "<p>2787 rows × 1 columns</p>\n",
              "</div>\n",
              "      <button class=\"colab-df-convert\" onclick=\"convertToInteractive('df-82f4f66a-6d4c-4fd6-bdb7-257aaa35ff68')\"\n",
              "              title=\"Convert this dataframe to an interactive table.\"\n",
              "              style=\"display:none;\">\n",
              "        \n",
              "  <svg xmlns=\"http://www.w3.org/2000/svg\" height=\"24px\"viewBox=\"0 0 24 24\"\n",
              "       width=\"24px\">\n",
              "    <path d=\"M0 0h24v24H0V0z\" fill=\"none\"/>\n",
              "    <path d=\"M18.56 5.44l.94 2.06.94-2.06 2.06-.94-2.06-.94-.94-2.06-.94 2.06-2.06.94zm-11 1L8.5 8.5l.94-2.06 2.06-.94-2.06-.94L8.5 2.5l-.94 2.06-2.06.94zm10 10l.94 2.06.94-2.06 2.06-.94-2.06-.94-.94-2.06-.94 2.06-2.06.94z\"/><path d=\"M17.41 7.96l-1.37-1.37c-.4-.4-.92-.59-1.43-.59-.52 0-1.04.2-1.43.59L10.3 9.45l-7.72 7.72c-.78.78-.78 2.05 0 2.83L4 21.41c.39.39.9.59 1.41.59.51 0 1.02-.2 1.41-.59l7.78-7.78 2.81-2.81c.8-.78.8-2.07 0-2.86zM5.41 20L4 18.59l7.72-7.72 1.47 1.35L5.41 20z\"/>\n",
              "  </svg>\n",
              "      </button>\n",
              "      \n",
              "  <style>\n",
              "    .colab-df-container {\n",
              "      display:flex;\n",
              "      flex-wrap:wrap;\n",
              "      gap: 12px;\n",
              "    }\n",
              "\n",
              "    .colab-df-convert {\n",
              "      background-color: #E8F0FE;\n",
              "      border: none;\n",
              "      border-radius: 50%;\n",
              "      cursor: pointer;\n",
              "      display: none;\n",
              "      fill: #1967D2;\n",
              "      height: 32px;\n",
              "      padding: 0 0 0 0;\n",
              "      width: 32px;\n",
              "    }\n",
              "\n",
              "    .colab-df-convert:hover {\n",
              "      background-color: #E2EBFA;\n",
              "      box-shadow: 0px 1px 2px rgba(60, 64, 67, 0.3), 0px 1px 3px 1px rgba(60, 64, 67, 0.15);\n",
              "      fill: #174EA6;\n",
              "    }\n",
              "\n",
              "    [theme=dark] .colab-df-convert {\n",
              "      background-color: #3B4455;\n",
              "      fill: #D2E3FC;\n",
              "    }\n",
              "\n",
              "    [theme=dark] .colab-df-convert:hover {\n",
              "      background-color: #434B5C;\n",
              "      box-shadow: 0px 1px 3px 1px rgba(0, 0, 0, 0.15);\n",
              "      filter: drop-shadow(0px 1px 2px rgba(0, 0, 0, 0.3));\n",
              "      fill: #FFFFFF;\n",
              "    }\n",
              "  </style>\n",
              "\n",
              "      <script>\n",
              "        const buttonEl =\n",
              "          document.querySelector('#df-82f4f66a-6d4c-4fd6-bdb7-257aaa35ff68 button.colab-df-convert');\n",
              "        buttonEl.style.display =\n",
              "          google.colab.kernel.accessAllowed ? 'block' : 'none';\n",
              "\n",
              "        async function convertToInteractive(key) {\n",
              "          const element = document.querySelector('#df-82f4f66a-6d4c-4fd6-bdb7-257aaa35ff68');\n",
              "          const dataTable =\n",
              "            await google.colab.kernel.invokeFunction('convertToInteractive',\n",
              "                                                     [key], {});\n",
              "          if (!dataTable) return;\n",
              "\n",
              "          const docLinkHtml = 'Like what you see? Visit the ' +\n",
              "            '<a target=\"_blank\" href=https://colab.research.google.com/notebooks/data_table.ipynb>data table notebook</a>'\n",
              "            + ' to learn more about interactive tables.';\n",
              "          element.innerHTML = '';\n",
              "          dataTable['output_type'] = 'display_data';\n",
              "          await google.colab.output.renderOutput(dataTable, element);\n",
              "          const docLink = document.createElement('div');\n",
              "          docLink.innerHTML = docLinkHtml;\n",
              "          element.appendChild(docLink);\n",
              "        }\n",
              "      </script>\n",
              "    </div>\n",
              "  </div>\n",
              "  "
            ]
          },
          "metadata": {},
          "execution_count": 63
        }
      ]
    },
    {
      "cell_type": "code",
      "source": [
        "block_reward_2_days= (block_reward_3_datetime - bitcoin_prices.index[0]).days\n",
        "block_reward_2_days"
      ],
      "metadata": {
        "colab": {
          "base_uri": "https://localhost:8080/"
        },
        "id": "5ezxNu8m4Pkk",
        "outputId": "9b749a93-a8c5-4527-9511-fe6351ae9936"
      },
      "execution_count": null,
      "outputs": [
        {
          "output_type": "execute_result",
          "data": {
            "text/plain": [
              "1012"
            ]
          },
          "metadata": {},
          "execution_count": 64
        }
      ]
    },
    {
      "cell_type": "code",
      "source": [
        "block_reward_3_days= (block_reward_4_datetime - bitcoin_prices.index[0]).days\n",
        "block_reward_3_days"
      ],
      "metadata": {
        "colab": {
          "base_uri": "https://localhost:8080/"
        },
        "id": "Q1EhCalJ4yM2",
        "outputId": "40ac38fc-d8c7-4ea8-c64b-b4df02395264"
      },
      "execution_count": null,
      "outputs": [
        {
          "output_type": "execute_result",
          "data": {
            "text/plain": [
              "2421"
            ]
          },
          "metadata": {},
          "execution_count": 65
        }
      ]
    },
    {
      "cell_type": "code",
      "source": [
        "bitcoin_prices_block=bitcoin_prices.copy()\n",
        "bitcoin_prices_block[\"block_reward\"]=None\n",
        "bitcoin_prices_block.head()"
      ],
      "metadata": {
        "colab": {
          "base_uri": "https://localhost:8080/",
          "height": 237
        },
        "id": "MhZhueBh5H3R",
        "outputId": "d183596c-7c8e-4cb6-e14a-e0114a565f6f"
      },
      "execution_count": null,
      "outputs": [
        {
          "output_type": "execute_result",
          "data": {
            "text/plain": [
              "                Price block_reward\n",
              "Date                              \n",
              "2013-10-01  123.65499         None\n",
              "2013-10-02  125.45500         None\n",
              "2013-10-03  108.58483         None\n",
              "2013-10-04  118.67466         None\n",
              "2013-10-05  121.33866         None"
            ],
            "text/html": [
              "\n",
              "  <div id=\"df-838678c3-4f9b-4d5a-8e90-e141b66ecccc\">\n",
              "    <div class=\"colab-df-container\">\n",
              "      <div>\n",
              "<style scoped>\n",
              "    .dataframe tbody tr th:only-of-type {\n",
              "        vertical-align: middle;\n",
              "    }\n",
              "\n",
              "    .dataframe tbody tr th {\n",
              "        vertical-align: top;\n",
              "    }\n",
              "\n",
              "    .dataframe thead th {\n",
              "        text-align: right;\n",
              "    }\n",
              "</style>\n",
              "<table border=\"1\" class=\"dataframe\">\n",
              "  <thead>\n",
              "    <tr style=\"text-align: right;\">\n",
              "      <th></th>\n",
              "      <th>Price</th>\n",
              "      <th>block_reward</th>\n",
              "    </tr>\n",
              "    <tr>\n",
              "      <th>Date</th>\n",
              "      <th></th>\n",
              "      <th></th>\n",
              "    </tr>\n",
              "  </thead>\n",
              "  <tbody>\n",
              "    <tr>\n",
              "      <th>2013-10-01</th>\n",
              "      <td>123.65499</td>\n",
              "      <td>None</td>\n",
              "    </tr>\n",
              "    <tr>\n",
              "      <th>2013-10-02</th>\n",
              "      <td>125.45500</td>\n",
              "      <td>None</td>\n",
              "    </tr>\n",
              "    <tr>\n",
              "      <th>2013-10-03</th>\n",
              "      <td>108.58483</td>\n",
              "      <td>None</td>\n",
              "    </tr>\n",
              "    <tr>\n",
              "      <th>2013-10-04</th>\n",
              "      <td>118.67466</td>\n",
              "      <td>None</td>\n",
              "    </tr>\n",
              "    <tr>\n",
              "      <th>2013-10-05</th>\n",
              "      <td>121.33866</td>\n",
              "      <td>None</td>\n",
              "    </tr>\n",
              "  </tbody>\n",
              "</table>\n",
              "</div>\n",
              "      <button class=\"colab-df-convert\" onclick=\"convertToInteractive('df-838678c3-4f9b-4d5a-8e90-e141b66ecccc')\"\n",
              "              title=\"Convert this dataframe to an interactive table.\"\n",
              "              style=\"display:none;\">\n",
              "        \n",
              "  <svg xmlns=\"http://www.w3.org/2000/svg\" height=\"24px\"viewBox=\"0 0 24 24\"\n",
              "       width=\"24px\">\n",
              "    <path d=\"M0 0h24v24H0V0z\" fill=\"none\"/>\n",
              "    <path d=\"M18.56 5.44l.94 2.06.94-2.06 2.06-.94-2.06-.94-.94-2.06-.94 2.06-2.06.94zm-11 1L8.5 8.5l.94-2.06 2.06-.94-2.06-.94L8.5 2.5l-.94 2.06-2.06.94zm10 10l.94 2.06.94-2.06 2.06-.94-2.06-.94-.94-2.06-.94 2.06-2.06.94z\"/><path d=\"M17.41 7.96l-1.37-1.37c-.4-.4-.92-.59-1.43-.59-.52 0-1.04.2-1.43.59L10.3 9.45l-7.72 7.72c-.78.78-.78 2.05 0 2.83L4 21.41c.39.39.9.59 1.41.59.51 0 1.02-.2 1.41-.59l7.78-7.78 2.81-2.81c.8-.78.8-2.07 0-2.86zM5.41 20L4 18.59l7.72-7.72 1.47 1.35L5.41 20z\"/>\n",
              "  </svg>\n",
              "      </button>\n",
              "      \n",
              "  <style>\n",
              "    .colab-df-container {\n",
              "      display:flex;\n",
              "      flex-wrap:wrap;\n",
              "      gap: 12px;\n",
              "    }\n",
              "\n",
              "    .colab-df-convert {\n",
              "      background-color: #E8F0FE;\n",
              "      border: none;\n",
              "      border-radius: 50%;\n",
              "      cursor: pointer;\n",
              "      display: none;\n",
              "      fill: #1967D2;\n",
              "      height: 32px;\n",
              "      padding: 0 0 0 0;\n",
              "      width: 32px;\n",
              "    }\n",
              "\n",
              "    .colab-df-convert:hover {\n",
              "      background-color: #E2EBFA;\n",
              "      box-shadow: 0px 1px 2px rgba(60, 64, 67, 0.3), 0px 1px 3px 1px rgba(60, 64, 67, 0.15);\n",
              "      fill: #174EA6;\n",
              "    }\n",
              "\n",
              "    [theme=dark] .colab-df-convert {\n",
              "      background-color: #3B4455;\n",
              "      fill: #D2E3FC;\n",
              "    }\n",
              "\n",
              "    [theme=dark] .colab-df-convert:hover {\n",
              "      background-color: #434B5C;\n",
              "      box-shadow: 0px 1px 3px 1px rgba(0, 0, 0, 0.15);\n",
              "      filter: drop-shadow(0px 1px 2px rgba(0, 0, 0, 0.3));\n",
              "      fill: #FFFFFF;\n",
              "    }\n",
              "  </style>\n",
              "\n",
              "      <script>\n",
              "        const buttonEl =\n",
              "          document.querySelector('#df-838678c3-4f9b-4d5a-8e90-e141b66ecccc button.colab-df-convert');\n",
              "        buttonEl.style.display =\n",
              "          google.colab.kernel.accessAllowed ? 'block' : 'none';\n",
              "\n",
              "        async function convertToInteractive(key) {\n",
              "          const element = document.querySelector('#df-838678c3-4f9b-4d5a-8e90-e141b66ecccc');\n",
              "          const dataTable =\n",
              "            await google.colab.kernel.invokeFunction('convertToInteractive',\n",
              "                                                     [key], {});\n",
              "          if (!dataTable) return;\n",
              "\n",
              "          const docLinkHtml = 'Like what you see? Visit the ' +\n",
              "            '<a target=\"_blank\" href=https://colab.research.google.com/notebooks/data_table.ipynb>data table notebook</a>'\n",
              "            + ' to learn more about interactive tables.';\n",
              "          element.innerHTML = '';\n",
              "          dataTable['output_type'] = 'display_data';\n",
              "          await google.colab.output.renderOutput(dataTable, element);\n",
              "          const docLink = document.createElement('div');\n",
              "          docLink.innerHTML = docLinkHtml;\n",
              "          element.appendChild(docLink);\n",
              "        }\n",
              "      </script>\n",
              "    </div>\n",
              "  </div>\n",
              "  "
            ]
          },
          "metadata": {},
          "execution_count": 66
        }
      ]
    },
    {
      "cell_type": "code",
      "source": [
        "bitcoin_prices_block.iloc[:block_reward_2_days,-1]=block_reward_2\n",
        "bitcoin_prices_block.iloc[block_reward_2_days:block_reward_3_days,-1]=block_reward_3\n",
        "bitcoin_prices_block.iloc[block_reward_3_days:,-1]=block_reward_4"
      ],
      "metadata": {
        "id": "F6DmVidW5hlF"
      },
      "execution_count": null,
      "outputs": []
    },
    {
      "cell_type": "code",
      "source": [
        "bitcoin_prices_block.tail()"
      ],
      "metadata": {
        "colab": {
          "base_uri": "https://localhost:8080/",
          "height": 237
        },
        "id": "3nkUA9U96J1i",
        "outputId": "c79c2122-0b2d-41a7-ac86-5537fc0f897b"
      },
      "execution_count": null,
      "outputs": [
        {
          "output_type": "execute_result",
          "data": {
            "text/plain": [
              "                   Price block_reward\n",
              "Date                                 \n",
              "2021-05-14  49764.132082         6.25\n",
              "2021-05-15  50032.693137         6.25\n",
              "2021-05-16  47885.625255         6.25\n",
              "2021-05-17  45604.615754         6.25\n",
              "2021-05-18  43144.471291         6.25"
            ],
            "text/html": [
              "\n",
              "  <div id=\"df-c850be12-ac51-4939-bece-9d9d37179f3f\">\n",
              "    <div class=\"colab-df-container\">\n",
              "      <div>\n",
              "<style scoped>\n",
              "    .dataframe tbody tr th:only-of-type {\n",
              "        vertical-align: middle;\n",
              "    }\n",
              "\n",
              "    .dataframe tbody tr th {\n",
              "        vertical-align: top;\n",
              "    }\n",
              "\n",
              "    .dataframe thead th {\n",
              "        text-align: right;\n",
              "    }\n",
              "</style>\n",
              "<table border=\"1\" class=\"dataframe\">\n",
              "  <thead>\n",
              "    <tr style=\"text-align: right;\">\n",
              "      <th></th>\n",
              "      <th>Price</th>\n",
              "      <th>block_reward</th>\n",
              "    </tr>\n",
              "    <tr>\n",
              "      <th>Date</th>\n",
              "      <th></th>\n",
              "      <th></th>\n",
              "    </tr>\n",
              "  </thead>\n",
              "  <tbody>\n",
              "    <tr>\n",
              "      <th>2021-05-14</th>\n",
              "      <td>49764.132082</td>\n",
              "      <td>6.25</td>\n",
              "    </tr>\n",
              "    <tr>\n",
              "      <th>2021-05-15</th>\n",
              "      <td>50032.693137</td>\n",
              "      <td>6.25</td>\n",
              "    </tr>\n",
              "    <tr>\n",
              "      <th>2021-05-16</th>\n",
              "      <td>47885.625255</td>\n",
              "      <td>6.25</td>\n",
              "    </tr>\n",
              "    <tr>\n",
              "      <th>2021-05-17</th>\n",
              "      <td>45604.615754</td>\n",
              "      <td>6.25</td>\n",
              "    </tr>\n",
              "    <tr>\n",
              "      <th>2021-05-18</th>\n",
              "      <td>43144.471291</td>\n",
              "      <td>6.25</td>\n",
              "    </tr>\n",
              "  </tbody>\n",
              "</table>\n",
              "</div>\n",
              "      <button class=\"colab-df-convert\" onclick=\"convertToInteractive('df-c850be12-ac51-4939-bece-9d9d37179f3f')\"\n",
              "              title=\"Convert this dataframe to an interactive table.\"\n",
              "              style=\"display:none;\">\n",
              "        \n",
              "  <svg xmlns=\"http://www.w3.org/2000/svg\" height=\"24px\"viewBox=\"0 0 24 24\"\n",
              "       width=\"24px\">\n",
              "    <path d=\"M0 0h24v24H0V0z\" fill=\"none\"/>\n",
              "    <path d=\"M18.56 5.44l.94 2.06.94-2.06 2.06-.94-2.06-.94-.94-2.06-.94 2.06-2.06.94zm-11 1L8.5 8.5l.94-2.06 2.06-.94-2.06-.94L8.5 2.5l-.94 2.06-2.06.94zm10 10l.94 2.06.94-2.06 2.06-.94-2.06-.94-.94-2.06-.94 2.06-2.06.94z\"/><path d=\"M17.41 7.96l-1.37-1.37c-.4-.4-.92-.59-1.43-.59-.52 0-1.04.2-1.43.59L10.3 9.45l-7.72 7.72c-.78.78-.78 2.05 0 2.83L4 21.41c.39.39.9.59 1.41.59.51 0 1.02-.2 1.41-.59l7.78-7.78 2.81-2.81c.8-.78.8-2.07 0-2.86zM5.41 20L4 18.59l7.72-7.72 1.47 1.35L5.41 20z\"/>\n",
              "  </svg>\n",
              "      </button>\n",
              "      \n",
              "  <style>\n",
              "    .colab-df-container {\n",
              "      display:flex;\n",
              "      flex-wrap:wrap;\n",
              "      gap: 12px;\n",
              "    }\n",
              "\n",
              "    .colab-df-convert {\n",
              "      background-color: #E8F0FE;\n",
              "      border: none;\n",
              "      border-radius: 50%;\n",
              "      cursor: pointer;\n",
              "      display: none;\n",
              "      fill: #1967D2;\n",
              "      height: 32px;\n",
              "      padding: 0 0 0 0;\n",
              "      width: 32px;\n",
              "    }\n",
              "\n",
              "    .colab-df-convert:hover {\n",
              "      background-color: #E2EBFA;\n",
              "      box-shadow: 0px 1px 2px rgba(60, 64, 67, 0.3), 0px 1px 3px 1px rgba(60, 64, 67, 0.15);\n",
              "      fill: #174EA6;\n",
              "    }\n",
              "\n",
              "    [theme=dark] .colab-df-convert {\n",
              "      background-color: #3B4455;\n",
              "      fill: #D2E3FC;\n",
              "    }\n",
              "\n",
              "    [theme=dark] .colab-df-convert:hover {\n",
              "      background-color: #434B5C;\n",
              "      box-shadow: 0px 1px 3px 1px rgba(0, 0, 0, 0.15);\n",
              "      filter: drop-shadow(0px 1px 2px rgba(0, 0, 0, 0.3));\n",
              "      fill: #FFFFFF;\n",
              "    }\n",
              "  </style>\n",
              "\n",
              "      <script>\n",
              "        const buttonEl =\n",
              "          document.querySelector('#df-c850be12-ac51-4939-bece-9d9d37179f3f button.colab-df-convert');\n",
              "        buttonEl.style.display =\n",
              "          google.colab.kernel.accessAllowed ? 'block' : 'none';\n",
              "\n",
              "        async function convertToInteractive(key) {\n",
              "          const element = document.querySelector('#df-c850be12-ac51-4939-bece-9d9d37179f3f');\n",
              "          const dataTable =\n",
              "            await google.colab.kernel.invokeFunction('convertToInteractive',\n",
              "                                                     [key], {});\n",
              "          if (!dataTable) return;\n",
              "\n",
              "          const docLinkHtml = 'Like what you see? Visit the ' +\n",
              "            '<a target=\"_blank\" href=https://colab.research.google.com/notebooks/data_table.ipynb>data table notebook</a>'\n",
              "            + ' to learn more about interactive tables.';\n",
              "          element.innerHTML = '';\n",
              "          dataTable['output_type'] = 'display_data';\n",
              "          await google.colab.output.renderOutput(dataTable, element);\n",
              "          const docLink = document.createElement('div');\n",
              "          docLink.innerHTML = docLinkHtml;\n",
              "          element.appendChild(docLink);\n",
              "        }\n",
              "      </script>\n",
              "    </div>\n",
              "  </div>\n",
              "  "
            ]
          },
          "metadata": {},
          "execution_count": 68
        }
      ]
    },
    {
      "cell_type": "code",
      "source": [
        "from sklearn.preprocessing import minmax_scale\n",
        "scaled_price_block_df=pd.DataFrame(minmax_scale(bitcoin_prices_block[['Price','block_reward']]),\n",
        "                                   columns=bitcoin_prices_block.columns,\n",
        "                                   index=bitcoin_prices_block.index)\n",
        "\n",
        "scaled_price_block_df.plot(figsize=(10,7))"
      ],
      "metadata": {
        "colab": {
          "base_uri": "https://localhost:8080/",
          "height": 459
        },
        "id": "DdmIUltJ6Ubp",
        "outputId": "1e385c54-0e37-427f-e544-3516581adc5e"
      },
      "execution_count": null,
      "outputs": [
        {
          "output_type": "execute_result",
          "data": {
            "text/plain": [
              "<matplotlib.axes._subplots.AxesSubplot at 0x7f2916356430>"
            ]
          },
          "metadata": {},
          "execution_count": 69
        },
        {
          "output_type": "display_data",
          "data": {
            "text/plain": [
              "<Figure size 720x504 with 1 Axes>"
            ],
            "image/png": "[encoded data removed]"
          },
          "metadata": {
            "needs_background": "light"
          }
        }
      ]
    },
    {
      "cell_type": "code",
      "source": [
        "WINDOW_SIZE=7 \n",
        "HORIZON=1\n",
        "\n",
        "bitcoin_prices_windowed=bitcoin_prices_block.copy()\n",
        "for i in range(WINDOW_SIZE):\n",
        "  bitcoin_prices_windowed[f'Price+{i+1}']=bitcoin_prices_windowed[\"Price\"].shift(periods=i+1)\n",
        "bitcoin_prices_windowed.tail()"
      ],
      "metadata": {
        "colab": {
          "base_uri": "https://localhost:8080/",
          "height": 388
        },
        "id": "ehOA1UV38fSO",
        "outputId": "f20dea8e-d2ac-46ec-a873-0ff441ed444e"
      },
      "execution_count": null,
      "outputs": [
        {
          "output_type": "execute_result",
          "data": {
            "text/plain": [
              "                   Price block_reward       Price+1       Price+2  \\\n",
              "Date                                                                \n",
              "2021-05-14  49764.132082         6.25  52147.821187  56573.555472   \n",
              "2021-05-15  50032.693137         6.25  49764.132082  52147.821187   \n",
              "2021-05-16  47885.625255         6.25  50032.693137  49764.132082   \n",
              "2021-05-17  45604.615754         6.25  47885.625255  50032.693137   \n",
              "2021-05-18  43144.471291         6.25  45604.615754  47885.625255   \n",
              "\n",
              "                 Price+3       Price+4       Price+5       Price+6  \\\n",
              "Date                                                                 \n",
              "2021-05-14  55715.546651  58102.191426  58788.209679  57107.120672   \n",
              "2021-05-15  56573.555472  55715.546651  58102.191426  58788.209679   \n",
              "2021-05-16  52147.821187  56573.555472  55715.546651  58102.191426   \n",
              "2021-05-17  49764.132082  52147.821187  56573.555472  55715.546651   \n",
              "2021-05-18  50032.693137  49764.132082  52147.821187  56573.555472   \n",
              "\n",
              "                 Price+7  \n",
              "Date                      \n",
              "2021-05-14  56583.849879  \n",
              "2021-05-15  57107.120672  \n",
              "2021-05-16  58788.209679  \n",
              "2021-05-17  58102.191426  \n",
              "2021-05-18  55715.546651  "
            ],
            "text/html": [
              "\n",
              "  <div id=\"df-f7cae1fa-ebd0-4663-aa25-616045a20ef9\">\n",
              "    <div class=\"colab-df-container\">\n",
              "      <div>\n",
              "<style scoped>\n",
              "    .dataframe tbody tr th:only-of-type {\n",
              "        vertical-align: middle;\n",
              "    }\n",
              "\n",
              "    .dataframe tbody tr th {\n",
              "        vertical-align: top;\n",
              "    }\n",
              "\n",
              "    .dataframe thead th {\n",
              "        text-align: right;\n",
              "    }\n",
              "</style>\n",
              "<table border=\"1\" class=\"dataframe\">\n",
              "  <thead>\n",
              "    <tr style=\"text-align: right;\">\n",
              "      <th></th>\n",
              "      <th>Price</th>\n",
              "      <th>block_reward</th>\n",
              "      <th>Price+1</th>\n",
              "      <th>Price+2</th>\n",
              "      <th>Price+3</th>\n",
              "      <th>Price+4</th>\n",
              "      <th>Price+5</th>\n",
              "      <th>Price+6</th>\n",
              "      <th>Price+7</th>\n",
              "    </tr>\n",
              "    <tr>\n",
              "      <th>Date</th>\n",
              "      <th></th>\n",
              "      <th></th>\n",
              "      <th></th>\n",
              "      <th></th>\n",
              "      <th></th>\n",
              "      <th></th>\n",
              "      <th></th>\n",
              "      <th></th>\n",
              "      <th></th>\n",
              "    </tr>\n",
              "  </thead>\n",
              "  <tbody>\n",
              "    <tr>\n",
              "      <th>2021-05-14</th>\n",
              "      <td>49764.132082</td>\n",
              "      <td>6.25</td>\n",
              "      <td>52147.821187</td>\n",
              "      <td>56573.555472</td>\n",
              "      <td>55715.546651</td>\n",
              "      <td>58102.191426</td>\n",
              "      <td>58788.209679</td>\n",
              "      <td>57107.120672</td>\n",
              "      <td>56583.849879</td>\n",
              "    </tr>\n",
              "    <tr>\n",
              "      <th>2021-05-15</th>\n",
              "      <td>50032.693137</td>\n",
              "      <td>6.25</td>\n",
              "      <td>49764.132082</td>\n",
              "      <td>52147.821187</td>\n",
              "      <td>56573.555472</td>\n",
              "      <td>55715.546651</td>\n",
              "      <td>58102.191426</td>\n",
              "      <td>58788.209679</td>\n",
              "      <td>57107.120672</td>\n",
              "    </tr>\n",
              "    <tr>\n",
              "      <th>2021-05-16</th>\n",
              "      <td>47885.625255</td>\n",
              "      <td>6.25</td>\n",
              "      <td>50032.693137</td>\n",
              "      <td>49764.132082</td>\n",
              "      <td>52147.821187</td>\n",
              "      <td>56573.555472</td>\n",
              "      <td>55715.546651</td>\n",
              "      <td>58102.191426</td>\n",
              "      <td>58788.209679</td>\n",
              "    </tr>\n",
              "    <tr>\n",
              "      <th>2021-05-17</th>\n",
              "      <td>45604.615754</td>\n",
              "      <td>6.25</td>\n",
              "      <td>47885.625255</td>\n",
              "      <td>50032.693137</td>\n",
              "      <td>49764.132082</td>\n",
              "      <td>52147.821187</td>\n",
              "      <td>56573.555472</td>\n",
              "      <td>55715.546651</td>\n",
              "      <td>58102.191426</td>\n",
              "    </tr>\n",
              "    <tr>\n",
              "      <th>2021-05-18</th>\n",
              "      <td>43144.471291</td>\n",
              "      <td>6.25</td>\n",
              "      <td>45604.615754</td>\n",
              "      <td>47885.625255</td>\n",
              "      <td>50032.693137</td>\n",
              "      <td>49764.132082</td>\n",
              "      <td>52147.821187</td>\n",
              "      <td>56573.555472</td>\n",
              "      <td>55715.546651</td>\n",
              "    </tr>\n",
              "  </tbody>\n",
              "</table>\n",
              "</div>\n",
              "      <button class=\"colab-df-convert\" onclick=\"convertToInteractive('df-f7cae1fa-ebd0-4663-aa25-616045a20ef9')\"\n",
              "              title=\"Convert this dataframe to an interactive table.\"\n",
              "              style=\"display:none;\">\n",
              "        \n",
              "  <svg xmlns=\"http://www.w3.org/2000/svg\" height=\"24px\"viewBox=\"0 0 24 24\"\n",
              "       width=\"24px\">\n",
              "    <path d=\"M0 0h24v24H0V0z\" fill=\"none\"/>\n",
              "    <path d=\"M18.56 5.44l.94 2.06.94-2.06 2.06-.94-2.06-.94-.94-2.06-.94 2.06-2.06.94zm-11 1L8.5 8.5l.94-2.06 2.06-.94-2.06-.94L8.5 2.5l-.94 2.06-2.06.94zm10 10l.94 2.06.94-2.06 2.06-.94-2.06-.94-.94-2.06-.94 2.06-2.06.94z\"/><path d=\"M17.41 7.96l-1.37-1.37c-.4-.4-.92-.59-1.43-.59-.52 0-1.04.2-1.43.59L10.3 9.45l-7.72 7.72c-.78.78-.78 2.05 0 2.83L4 21.41c.39.39.9.59 1.41.59.51 0 1.02-.2 1.41-.59l7.78-7.78 2.81-2.81c.8-.78.8-2.07 0-2.86zM5.41 20L4 18.59l7.72-7.72 1.47 1.35L5.41 20z\"/>\n",
              "  </svg>\n",
              "      </button>\n",
              "      \n",
              "  <style>\n",
              "    .colab-df-container {\n",
              "      display:flex;\n",
              "      flex-wrap:wrap;\n",
              "      gap: 12px;\n",
              "    }\n",
              "\n",
              "    .colab-df-convert {\n",
              "      background-color: #E8F0FE;\n",
              "      border: none;\n",
              "      border-radius: 50%;\n",
              "      cursor: pointer;\n",
              "      display: none;\n",
              "      fill: #1967D2;\n",
              "      height: 32px;\n",
              "      padding: 0 0 0 0;\n",
              "      width: 32px;\n",
              "    }\n",
              "\n",
              "    .colab-df-convert:hover {\n",
              "      background-color: #E2EBFA;\n",
              "      box-shadow: 0px 1px 2px rgba(60, 64, 67, 0.3), 0px 1px 3px 1px rgba(60, 64, 67, 0.15);\n",
              "      fill: #174EA6;\n",
              "    }\n",
              "\n",
              "    [theme=dark] .colab-df-convert {\n",
              "      background-color: #3B4455;\n",
              "      fill: #D2E3FC;\n",
              "    }\n",
              "\n",
              "    [theme=dark] .colab-df-convert:hover {\n",
              "      background-color: #434B5C;\n",
              "      box-shadow: 0px 1px 3px 1px rgba(0, 0, 0, 0.15);\n",
              "      filter: drop-shadow(0px 1px 2px rgba(0, 0, 0, 0.3));\n",
              "      fill: #FFFFFF;\n",
              "    }\n",
              "  </style>\n",
              "\n",
              "      <script>\n",
              "        const buttonEl =\n",
              "          document.querySelector('#df-f7cae1fa-ebd0-4663-aa25-616045a20ef9 button.colab-df-convert');\n",
              "        buttonEl.style.display =\n",
              "          google.colab.kernel.accessAllowed ? 'block' : 'none';\n",
              "\n",
              "        async function convertToInteractive(key) {\n",
              "          const element = document.querySelector('#df-f7cae1fa-ebd0-4663-aa25-616045a20ef9');\n",
              "          const dataTable =\n",
              "            await google.colab.kernel.invokeFunction('convertToInteractive',\n",
              "                                                     [key], {});\n",
              "          if (!dataTable) return;\n",
              "\n",
              "          const docLinkHtml = 'Like what you see? Visit the ' +\n",
              "            '<a target=\"_blank\" href=https://colab.research.google.com/notebooks/data_table.ipynb>data table notebook</a>'\n",
              "            + ' to learn more about interactive tables.';\n",
              "          element.innerHTML = '';\n",
              "          dataTable['output_type'] = 'display_data';\n",
              "          await google.colab.output.renderOutput(dataTable, element);\n",
              "          const docLink = document.createElement('div');\n",
              "          docLink.innerHTML = docLinkHtml;\n",
              "          element.appendChild(docLink);\n",
              "        }\n",
              "      </script>\n",
              "    </div>\n",
              "  </div>\n",
              "  "
            ]
          },
          "metadata": {},
          "execution_count": 70
        }
      ]
    },
    {
      "cell_type": "code",
      "source": [
        "X=bitcoin_prices_windowed.dropna().drop(\"Price\",axis=1).astype(np.float32)\n",
        "y=bitcoin_prices_windowed.dropna()[\"Price\"].astype(np.float32)"
      ],
      "metadata": {
        "id": "og2NRwvkjsJ9"
      },
      "execution_count": null,
      "outputs": []
    },
    {
      "cell_type": "code",
      "source": [
        "# Create train and test splits the right way for time series data\n",
        "split_size = int(0.8 * len(X)) # 80% train, 20% test\n",
        "\n",
        "# Create train data splits (everything before the split)\n",
        "X_train, y_train = X[:split_size], y[:split_size]\n",
        "\n",
        "# Create test data splits (everything after the split)\n",
        "X_test, y_test = X[split_size:], y[split_size:]\n",
        "\n",
        "len(X_train), len(X_test), len(y_train), len(y_test)"
      ],
      "metadata": {
        "colab": {
          "base_uri": "https://localhost:8080/"
        },
        "id": "aSiNRKopkdMk",
        "outputId": "b88921f4-a5b8-41c4-9157-864c91fb0b70"
      },
      "execution_count": null,
      "outputs": [
        {
          "output_type": "execute_result",
          "data": {
            "text/plain": [
              "(2224, 556, 2224, 556)"
            ]
          },
          "metadata": {},
          "execution_count": 72
        }
      ]
    },
    {
      "cell_type": "code",
      "source": [
        "model_6=tf.keras.Sequential([\n",
        "    layers.Dense(128,activation='relu'),\n",
        "    layers.Dense(128,activation='relu'),\n",
        "    layers.Dense(HORIZON)\n",
        "    \n",
        "    ], name='model_6')\n",
        "\n",
        "model_6.compile(loss='mae',\n",
        "                optimizer= tf.keras.optimizers.Adam())\n",
        "\n",
        "model_6.fit(X_train,y_train,\n",
        "            epochs=100,\n",
        "            batch_size=128,\n",
        "            verbose=1,\n",
        "            validation_data=(X_test, y_test),\n",
        "            callbacks=[create_model_checkpoint(model_name=model_6.name)])"
      ],
      "metadata": {
        "colab": {
          "base_uri": "https://localhost:8080/"
        },
        "id": "HtOO6NPql1HG",
        "outputId": "6c2aabef-cce2-4a81-ce26-e18b50ee21eb"
      },
      "execution_count": null,
      "outputs": [
        {
          "output_type": "stream",
          "name": "stdout",
          "text": [
            "Epoch 1/100\n",
            "18/18 [==============================] - 2s 78ms/step - loss: 1168.5255 - val_loss: 1033.3315\n",
            "Epoch 2/100\n",
            "18/18 [==============================] - 1s 76ms/step - loss: 277.9497 - val_loss: 997.6810\n",
            "Epoch 3/100\n",
            "18/18 [==============================] - 0s 8ms/step - loss: 202.5635 - val_loss: 1376.8085\n",
            "Epoch 4/100\n",
            "18/18 [==============================] - 1s 70ms/step - loss: 175.3446 - val_loss: 899.2476\n",
            "Epoch 5/100\n",
            "18/18 [==============================] - 0s 13ms/step - loss: 159.0210 - val_loss: 912.1906\n",
            "Epoch 6/100\n",
            "18/18 [==============================] - 1s 77ms/step - loss: 148.4855 - val_loss: 777.6479\n",
            "Epoch 7/100\n",
            "18/18 [==============================] - 0s 8ms/step - loss: 136.0612 - val_loss: 813.5339\n",
            "Epoch 8/100\n",
            "18/18 [==============================] - 1s 68ms/step - loss: 130.4203 - val_loss: 677.3164\n",
            "Epoch 9/100\n",
            "18/18 [==============================] - 1s 74ms/step - loss: 130.2741 - val_loss: 676.1065\n",
            "Epoch 10/100\n",
            "18/18 [==============================] - 1s 67ms/step - loss: 136.9440 - val_loss: 654.2038\n",
            "Epoch 11/100\n",
            "18/18 [==============================] - 0s 9ms/step - loss: 120.4844 - val_loss: 765.3333\n",
            "Epoch 12/100\n",
            "18/18 [==============================] - 1s 64ms/step - loss: 125.0543 - val_loss: 629.4912\n",
            "Epoch 13/100\n",
            "18/18 [==============================] - 0s 8ms/step - loss: 126.1264 - val_loss: 829.3407\n",
            "Epoch 14/100\n",
            "18/18 [==============================] - 0s 10ms/step - loss: 126.1964 - val_loss: 718.9633\n",
            "Epoch 15/100\n",
            "18/18 [==============================] - 0s 7ms/step - loss: 125.5385 - val_loss: 762.4327\n",
            "Epoch 16/100\n",
            "18/18 [==============================] - 1s 55ms/step - loss: 118.0043 - val_loss: 604.2769\n",
            "Epoch 17/100\n",
            "18/18 [==============================] - 1s 30ms/step - loss: 113.6163 - val_loss: 590.2735\n",
            "Epoch 18/100\n",
            "18/18 [==============================] - 0s 5ms/step - loss: 115.4881 - val_loss: 597.0465\n",
            "Epoch 19/100\n",
            "18/18 [==============================] - 1s 30ms/step - loss: 112.2695 - val_loss: 587.8546\n",
            "Epoch 20/100\n",
            "18/18 [==============================] - 0s 4ms/step - loss: 110.3421 - val_loss: 629.9858\n",
            "Epoch 21/100\n",
            "18/18 [==============================] - 0s 4ms/step - loss: 111.6428 - val_loss: 653.5634\n",
            "Epoch 22/100\n",
            "18/18 [==============================] - 0s 4ms/step - loss: 112.0198 - val_loss: 624.1168\n",
            "Epoch 23/100\n",
            "18/18 [==============================] - 0s 5ms/step - loss: 110.6578 - val_loss: 587.9502\n",
            "Epoch 24/100\n",
            "18/18 [==============================] - 0s 5ms/step - loss: 111.5508 - val_loss: 643.5252\n",
            "Epoch 25/100\n",
            "18/18 [==============================] - 0s 4ms/step - loss: 111.3081 - val_loss: 598.6261\n",
            "Epoch 26/100\n",
            "18/18 [==============================] - 0s 4ms/step - loss: 112.3083 - val_loss: 622.5945\n",
            "Epoch 27/100\n",
            "18/18 [==============================] - 1s 30ms/step - loss: 109.0118 - val_loss: 575.1537\n",
            "Epoch 28/100\n",
            "18/18 [==============================] - 0s 4ms/step - loss: 107.7227 - val_loss: 640.0413\n",
            "Epoch 29/100\n",
            "18/18 [==============================] - 0s 29ms/step - loss: 110.3145 - val_loss: 574.3697\n",
            "Epoch 30/100\n",
            "18/18 [==============================] - 0s 4ms/step - loss: 121.9791 - val_loss: 604.3371\n",
            "Epoch 31/100\n",
            "18/18 [==============================] - 0s 4ms/step - loss: 107.0515 - val_loss: 602.5977\n",
            "Epoch 32/100\n",
            "18/18 [==============================] - 0s 5ms/step - loss: 110.2690 - val_loss: 581.2170\n",
            "Epoch 33/100\n",
            "18/18 [==============================] - 1s 29ms/step - loss: 110.6798 - val_loss: 572.3876\n",
            "Epoch 34/100\n",
            "18/18 [==============================] - 0s 4ms/step - loss: 108.2166 - val_loss: 652.8702\n",
            "Epoch 35/100\n",
            "18/18 [==============================] - 0s 4ms/step - loss: 112.0063 - val_loss: 638.9291\n",
            "Epoch 36/100\n",
            "18/18 [==============================] - 1s 30ms/step - loss: 112.3590 - val_loss: 571.3486\n",
            "Epoch 37/100\n",
            "18/18 [==============================] - 0s 4ms/step - loss: 111.0379 - val_loss: 575.6213\n",
            "Epoch 38/100\n",
            "18/18 [==============================] - 0s 5ms/step - loss: 108.4010 - val_loss: 616.2643\n",
            "Epoch 39/100\n",
            "18/18 [==============================] - 0s 5ms/step - loss: 112.7075 - val_loss: 618.7617\n",
            "Epoch 40/100\n",
            "18/18 [==============================] - 0s 4ms/step - loss: 109.7962 - val_loss: 571.7963\n",
            "Epoch 41/100\n",
            "18/18 [==============================] - 0s 4ms/step - loss: 106.2742 - val_loss: 584.4375\n",
            "Epoch 42/100\n",
            "18/18 [==============================] - 0s 5ms/step - loss: 111.6019 - val_loss: 651.9890\n",
            "Epoch 43/100\n",
            "18/18 [==============================] - 0s 5ms/step - loss: 116.3947 - val_loss: 604.9065\n",
            "Epoch 44/100\n",
            "18/18 [==============================] - 0s 5ms/step - loss: 105.8532 - val_loss: 572.1955\n",
            "Epoch 45/100\n",
            "18/18 [==============================] - 0s 5ms/step - loss: 106.6106 - val_loss: 607.3093\n",
            "Epoch 46/100\n",
            "18/18 [==============================] - 0s 5ms/step - loss: 110.1306 - val_loss: 825.9885\n",
            "Epoch 47/100\n",
            "18/18 [==============================] - 0s 4ms/step - loss: 123.0949 - val_loss: 591.3347\n",
            "Epoch 48/100\n",
            "18/18 [==============================] - 0s 4ms/step - loss: 112.8715 - val_loss: 697.1026\n",
            "Epoch 49/100\n",
            "18/18 [==============================] - 0s 4ms/step - loss: 120.6366 - val_loss: 619.6798\n",
            "Epoch 50/100\n",
            "18/18 [==============================] - 0s 4ms/step - loss: 117.1990 - val_loss: 749.2777\n",
            "Epoch 51/100\n",
            "18/18 [==============================] - 0s 6ms/step - loss: 121.3627 - val_loss: 718.6232\n",
            "Epoch 52/100\n",
            "18/18 [==============================] - 0s 4ms/step - loss: 120.6215 - val_loss: 599.8347\n",
            "Epoch 53/100\n",
            "18/18 [==============================] - 0s 5ms/step - loss: 108.1806 - val_loss: 645.5572\n",
            "Epoch 54/100\n",
            "18/18 [==============================] - 1s 31ms/step - loss: 109.1571 - val_loss: 569.4561\n",
            "Epoch 55/100\n",
            "18/18 [==============================] - 0s 4ms/step - loss: 115.4695 - val_loss: 624.4011\n",
            "Epoch 56/100\n",
            "18/18 [==============================] - 0s 5ms/step - loss: 118.8519 - val_loss: 782.9013\n",
            "Epoch 57/100\n",
            "18/18 [==============================] - 0s 5ms/step - loss: 121.4885 - val_loss: 621.8560\n",
            "Epoch 58/100\n",
            "18/18 [==============================] - 1s 29ms/step - loss: 108.5929 - val_loss: 568.4547\n",
            "Epoch 59/100\n",
            "18/18 [==============================] - 0s 5ms/step - loss: 104.5735 - val_loss: 577.0032\n",
            "Epoch 60/100\n",
            "18/18 [==============================] - 0s 4ms/step - loss: 107.3001 - val_loss: 568.9863\n",
            "Epoch 61/100\n",
            "18/18 [==============================] - 1s 30ms/step - loss: 109.3048 - val_loss: 567.3555\n",
            "Epoch 62/100\n",
            "18/18 [==============================] - 0s 4ms/step - loss: 105.9852 - val_loss: 570.7845\n",
            "Epoch 63/100\n",
            "18/18 [==============================] - 0s 4ms/step - loss: 106.7235 - val_loss: 569.7485\n",
            "Epoch 64/100\n",
            "18/18 [==============================] - 0s 4ms/step - loss: 106.5878 - val_loss: 592.5980\n",
            "Epoch 65/100\n",
            "18/18 [==============================] - 0s 4ms/step - loss: 106.6723 - val_loss: 598.1844\n",
            "Epoch 66/100\n",
            "18/18 [==============================] - 0s 5ms/step - loss: 106.9218 - val_loss: 569.7209\n",
            "Epoch 67/100\n",
            "18/18 [==============================] - 0s 4ms/step - loss: 106.7206 - val_loss: 675.4124\n",
            "Epoch 68/100\n",
            "18/18 [==============================] - 1s 29ms/step - loss: 107.0966 - val_loss: 567.2492\n",
            "Epoch 69/100\n",
            "18/18 [==============================] - 0s 4ms/step - loss: 109.9909 - val_loss: 697.3376\n",
            "Epoch 70/100\n",
            "18/18 [==============================] - 0s 5ms/step - loss: 130.2991 - val_loss: 615.2141\n",
            "Epoch 71/100\n",
            "18/18 [==============================] - 0s 5ms/step - loss: 107.3895 - val_loss: 599.5453\n",
            "Epoch 72/100\n",
            "18/18 [==============================] - 0s 5ms/step - loss: 111.7134 - val_loss: 610.8062\n",
            "Epoch 73/100\n",
            "18/18 [==============================] - 0s 5ms/step - loss: 109.9832 - val_loss: 650.9681\n",
            "Epoch 74/100\n",
            "18/18 [==============================] - 0s 4ms/step - loss: 109.0358 - val_loss: 594.6263\n",
            "Epoch 75/100\n",
            "18/18 [==============================] - 0s 4ms/step - loss: 117.9029 - val_loss: 569.5714\n",
            "Epoch 76/100\n",
            "18/18 [==============================] - 0s 4ms/step - loss: 115.3537 - val_loss: 580.1597\n",
            "Epoch 77/100\n",
            "18/18 [==============================] - 0s 4ms/step - loss: 105.6772 - val_loss: 570.6004\n",
            "Epoch 78/100\n",
            "18/18 [==============================] - 0s 4ms/step - loss: 107.0701 - val_loss: 582.2274\n",
            "Epoch 79/100\n",
            "18/18 [==============================] - 0s 4ms/step - loss: 106.9655 - val_loss: 627.4580\n",
            "Epoch 80/100\n",
            "18/18 [==============================] - 0s 4ms/step - loss: 112.1379 - val_loss: 617.4010\n",
            "Epoch 81/100\n",
            "18/18 [==============================] - 0s 5ms/step - loss: 107.0292 - val_loss: 625.4753\n",
            "Epoch 82/100\n",
            "18/18 [==============================] - 0s 5ms/step - loss: 118.8735 - val_loss: 779.7688\n",
            "Epoch 83/100\n",
            "18/18 [==============================] - 0s 4ms/step - loss: 135.2980 - val_loss: 630.2994\n",
            "Epoch 84/100\n",
            "18/18 [==============================] - 0s 4ms/step - loss: 118.1380 - val_loss: 583.2604\n",
            "Epoch 85/100\n",
            "18/18 [==============================] - 1s 30ms/step - loss: 108.7096 - val_loss: 566.4636\n",
            "Epoch 86/100\n",
            "18/18 [==============================] - 0s 4ms/step - loss: 105.2011 - val_loss: 587.1785\n",
            "Epoch 87/100\n",
            "18/18 [==============================] - 0s 5ms/step - loss: 106.5491 - val_loss: 605.8956\n",
            "Epoch 88/100\n",
            "18/18 [==============================] - 0s 4ms/step - loss: 111.3809 - val_loss: 573.3452\n",
            "Epoch 89/100\n",
            "18/18 [==============================] - 0s 4ms/step - loss: 108.3451 - val_loss: 616.0719\n",
            "Epoch 90/100\n",
            "18/18 [==============================] - 0s 4ms/step - loss: 106.7224 - val_loss: 569.2968\n",
            "Epoch 91/100\n",
            "18/18 [==============================] - 0s 4ms/step - loss: 109.4834 - val_loss: 628.1913\n",
            "Epoch 92/100\n",
            "18/18 [==============================] - 0s 5ms/step - loss: 116.9967 - val_loss: 735.9726\n",
            "Epoch 93/100\n",
            "18/18 [==============================] - 0s 4ms/step - loss: 123.3257 - val_loss: 602.7568\n",
            "Epoch 94/100\n",
            "18/18 [==============================] - 0s 4ms/step - loss: 118.3483 - val_loss: 572.5283\n",
            "Epoch 95/100\n",
            "18/18 [==============================] - 0s 5ms/step - loss: 107.2044 - val_loss: 569.6852\n",
            "Epoch 96/100\n",
            "18/18 [==============================] - 0s 4ms/step - loss: 107.8325 - val_loss: 571.3224\n",
            "Epoch 97/100\n",
            "18/18 [==============================] - 0s 4ms/step - loss: 104.9956 - val_loss: 567.3917\n",
            "Epoch 98/100\n",
            "18/18 [==============================] - 0s 4ms/step - loss: 104.8801 - val_loss: 568.0944\n",
            "Epoch 99/100\n",
            "18/18 [==============================] - 0s 4ms/step - loss: 111.0829 - val_loss: 576.0101\n",
            "Epoch 100/100\n",
            "18/18 [==============================] - 0s 4ms/step - loss: 115.3151 - val_loss: 590.1282\n"
          ]
        },
        {
          "output_type": "execute_result",
          "data": {
            "text/plain": [
              "<keras.callbacks.History at 0x7f290475f400>"
            ]
          },
          "metadata": {},
          "execution_count": 73
        }
      ]
    },
    {
      "cell_type": "code",
      "source": [
        "model_6.evaluate(X_test,y_test)"
      ],
      "metadata": {
        "colab": {
          "base_uri": "https://localhost:8080/"
        },
        "id": "G5PIHHv4nG_N",
        "outputId": "733f389e-7e70-44e8-9838-931b67df31c2"
      },
      "execution_count": null,
      "outputs": [
        {
          "output_type": "stream",
          "name": "stdout",
          "text": [
            "18/18 [==============================] - 0s 2ms/step - loss: 590.1281\n"
          ]
        },
        {
          "output_type": "execute_result",
          "data": {
            "text/plain": [
              "590.1281127929688"
            ]
          },
          "metadata": {},
          "execution_count": 74
        }
      ]
    },
    {
      "cell_type": "code",
      "source": [
        "model_6=tf.keras.models.load_model('/content/model_experiments/model_6')\n",
        "model_6.evaluate(X_test, y_test)\n",
        "\n",
        "model_6_preds = tf.squeeze(model_6.predict(X_test))\n",
        "model_6_results = evaluate_preds(y_true=y_test,\n",
        "                                 y_pred=model_6_preds)\n",
        "model_6_results"
      ],
      "metadata": {
        "colab": {
          "base_uri": "https://localhost:8080/"
        },
        "id": "btUGiqWcnZmr",
        "outputId": "0feeac81-8847-4d8d-bfb8-8682c4e7c468"
      },
      "execution_count": null,
      "outputs": [
        {
          "output_type": "stream",
          "name": "stdout",
          "text": [
            "18/18 [==============================] - 0s 2ms/step - loss: 566.4636\n",
            "18/18 [==============================] - 0s 1ms/step\n"
          ]
        },
        {
          "output_type": "execute_result",
          "data": {
            "text/plain": [
              "{'mae': 566.4636,\n",
              " 'mse': 1154917.5,\n",
              " 'rmse': 1074.6709,\n",
              " 'mape': 2.5367773,\n",
              " 'mase': nan}"
            ]
          },
          "metadata": {},
          "execution_count": 75
        }
      ]
    },
    {
      "cell_type": "code",
      "source": [
        "model_1_results\n"
      ],
      "metadata": {
        "colab": {
          "base_uri": "https://localhost:8080/"
        },
        "id": "pDXgXgl3oVPI",
        "outputId": "93b492df-029a-4373-cbfb-bf46b8b0b9e1"
      },
      "execution_count": null,
      "outputs": [
        {
          "output_type": "execute_result",
          "data": {
            "text/plain": [
              "{'mae': 570.3397368514985,\n",
              " 'mse': 1180294.7576910225,\n",
              " 'rmse': 1086.4137138728609,\n",
              " 'mape': 2.539222681957394,\n",
              " 'mase': 0.9954422787613826}"
            ]
          },
          "metadata": {},
          "execution_count": 76
        }
      ]
    },
    {
      "cell_type": "code",
      "source": [
        "class NBeatsBlock(tf.keras.layers.Layer):\n",
        "  def __init__(self, # the constructor takes all the hyperparameters for the layer\n",
        "               input_size: int,\n",
        "               theta_size: int,\n",
        "               horizon: int,\n",
        "               n_neurons: int,\n",
        "               n_layers: int,\n",
        "               **kwargs): # the **kwargs argument takes care of all of the arguments for the parent class (input_shape, trainable, name)\n",
        "    super().__init__(**kwargs)\n",
        "    self.input_size = input_size\n",
        "    self.theta_size = theta_size\n",
        "    self.horizon = horizon\n",
        "    self.n_neurons = n_neurons\n",
        "    self.n_layers = n_layers\n",
        "\n",
        "    # Block contains stack of 4 fully connected layers each has ReLU activation\n",
        "    self.hidden = [tf.keras.layers.Dense(n_neurons, activation=\"relu\") for _ in range(n_layers)]\n",
        "    # Output of block is a theta layer with linear activation\n",
        "    self.theta_layer = tf.keras.layers.Dense(theta_size, activation=\"linear\", name=\"theta\")\n",
        "\n",
        "  def call(self, inputs): # the call method is what runs when the layer is called \n",
        "    x = inputs \n",
        "    for layer in self.hidden: # pass inputs through each hidden layer \n",
        "      x = layer(x)\n",
        "    theta = self.theta_layer(x) \n",
        "    # Output the backcast and forecast from theta\n",
        "    backcast, forecast = theta[:, :self.input_size], theta[:, -self.horizon:]\n",
        "    return backcast, forecast"
      ],
      "metadata": {
        "id": "RB5Puqh1PaFX"
      },
      "execution_count": null,
      "outputs": []
    },
    {
      "cell_type": "code",
      "source": [
        "dummy_nbeats_block_layer = NBeatsBlock(input_size=WINDOW_SIZE, \n",
        "                                       theta_size=WINDOW_SIZE+HORIZON, # backcast + forecast \n",
        "                                       horizon=HORIZON,\n",
        "                                       n_neurons=128,\n",
        "                                       n_layers=4)"
      ],
      "metadata": {
        "id": "qo0P5Ou5W3xq"
      },
      "execution_count": null,
      "outputs": []
    },
    {
      "cell_type": "code",
      "source": [
        "dummy_inputs = tf.expand_dims(tf.range(WINDOW_SIZE) + 1, axis=0) # input shape to the model has to reflect Dense layer input requirements (ndim=2)\n",
        "dummy_inputs\n",
        "     "
      ],
      "metadata": {
        "colab": {
          "base_uri": "https://localhost:8080/"
        },
        "id": "uf4uAnfiP8ye",
        "outputId": "d911d2e7-4fcd-4efb-b5e2-8cbe7927e1a4"
      },
      "execution_count": null,
      "outputs": [
        {
          "output_type": "execute_result",
          "data": {
            "text/plain": [
              "<tf.Tensor: shape=(1, 7), dtype=int32, numpy=array([[1, 2, 3, 4, 5, 6, 7]], dtype=int32)>"
            ]
          },
          "metadata": {},
          "execution_count": 79
        }
      ]
    },
    {
      "cell_type": "code",
      "source": [
        "backcast, forecast = dummy_nbeats_block_layer(dummy_inputs)\n",
        "print(f\"Backcast: {tf.squeeze(backcast.numpy())}\")\n",
        "print(f\"Forecast: {tf.squeeze(forecast.numpy())}\")"
      ],
      "metadata": {
        "colab": {
          "base_uri": "https://localhost:8080/"
        },
        "id": "jytrv4U9Qizz",
        "outputId": "57491b20-ad0e-4a37-9473-854d81a8cdd4"
      },
      "execution_count": null,
      "outputs": [
        {
          "output_type": "stream",
          "name": "stdout",
          "text": [
            "Backcast: [-0.37671557  0.15741983  0.3968565  -0.4563736   0.6328689   0.4064658\n",
            "  0.26629943]\n",
            "Forecast: 0.45730680227279663\n"
          ]
        }
      ]
    },
    {
      "cell_type": "code",
      "source": [
        "HORIZON=1\n",
        "WINDOW_SIZE=7\n",
        "\n",
        "bitcoin_prices.head()"
      ],
      "metadata": {
        "colab": {
          "base_uri": "https://localhost:8080/",
          "height": 237
        },
        "id": "74KNt7vPLtx1",
        "outputId": "2e629ae0-843a-40a2-ff0a-a82cd2c7d05e"
      },
      "execution_count": null,
      "outputs": [
        {
          "output_type": "execute_result",
          "data": {
            "text/plain": [
              "                Price\n",
              "Date                 \n",
              "2013-10-01  123.65499\n",
              "2013-10-02  125.45500\n",
              "2013-10-03  108.58483\n",
              "2013-10-04  118.67466\n",
              "2013-10-05  121.33866"
            ],
            "text/html": [
              "\n",
              "  <div id=\"df-0f26fa0c-ac82-4611-9d71-5a6eab16a7ed\">\n",
              "    <div class=\"colab-df-container\">\n",
              "      <div>\n",
              "<style scoped>\n",
              "    .dataframe tbody tr th:only-of-type {\n",
              "        vertical-align: middle;\n",
              "    }\n",
              "\n",
              "    .dataframe tbody tr th {\n",
              "        vertical-align: top;\n",
              "    }\n",
              "\n",
              "    .dataframe thead th {\n",
              "        text-align: right;\n",
              "    }\n",
              "</style>\n",
              "<table border=\"1\" class=\"dataframe\">\n",
              "  <thead>\n",
              "    <tr style=\"text-align: right;\">\n",
              "      <th></th>\n",
              "      <th>Price</th>\n",
              "    </tr>\n",
              "    <tr>\n",
              "      <th>Date</th>\n",
              "      <th></th>\n",
              "    </tr>\n",
              "  </thead>\n",
              "  <tbody>\n",
              "    <tr>\n",
              "      <th>2013-10-01</th>\n",
              "      <td>123.65499</td>\n",
              "    </tr>\n",
              "    <tr>\n",
              "      <th>2013-10-02</th>\n",
              "      <td>125.45500</td>\n",
              "    </tr>\n",
              "    <tr>\n",
              "      <th>2013-10-03</th>\n",
              "      <td>108.58483</td>\n",
              "    </tr>\n",
              "    <tr>\n",
              "      <th>2013-10-04</th>\n",
              "      <td>118.67466</td>\n",
              "    </tr>\n",
              "    <tr>\n",
              "      <th>2013-10-05</th>\n",
              "      <td>121.33866</td>\n",
              "    </tr>\n",
              "  </tbody>\n",
              "</table>\n",
              "</div>\n",
              "      <button class=\"colab-df-convert\" onclick=\"convertToInteractive('df-0f26fa0c-ac82-4611-9d71-5a6eab16a7ed')\"\n",
              "              title=\"Convert this dataframe to an interactive table.\"\n",
              "              style=\"display:none;\">\n",
              "        \n",
              "  <svg xmlns=\"http://www.w3.org/2000/svg\" height=\"24px\"viewBox=\"0 0 24 24\"\n",
              "       width=\"24px\">\n",
              "    <path d=\"M0 0h24v24H0V0z\" fill=\"none\"/>\n",
              "    <path d=\"M18.56 5.44l.94 2.06.94-2.06 2.06-.94-2.06-.94-.94-2.06-.94 2.06-2.06.94zm-11 1L8.5 8.5l.94-2.06 2.06-.94-2.06-.94L8.5 2.5l-.94 2.06-2.06.94zm10 10l.94 2.06.94-2.06 2.06-.94-2.06-.94-.94-2.06-.94 2.06-2.06.94z\"/><path d=\"M17.41 7.96l-1.37-1.37c-.4-.4-.92-.59-1.43-.59-.52 0-1.04.2-1.43.59L10.3 9.45l-7.72 7.72c-.78.78-.78 2.05 0 2.83L4 21.41c.39.39.9.59 1.41.59.51 0 1.02-.2 1.41-.59l7.78-7.78 2.81-2.81c.8-.78.8-2.07 0-2.86zM5.41 20L4 18.59l7.72-7.72 1.47 1.35L5.41 20z\"/>\n",
              "  </svg>\n",
              "      </button>\n",
              "      \n",
              "  <style>\n",
              "    .colab-df-container {\n",
              "      display:flex;\n",
              "      flex-wrap:wrap;\n",
              "      gap: 12px;\n",
              "    }\n",
              "\n",
              "    .colab-df-convert {\n",
              "      background-color: #E8F0FE;\n",
              "      border: none;\n",
              "      border-radius: 50%;\n",
              "      cursor: pointer;\n",
              "      display: none;\n",
              "      fill: #1967D2;\n",
              "      height: 32px;\n",
              "      padding: 0 0 0 0;\n",
              "      width: 32px;\n",
              "    }\n",
              "\n",
              "    .colab-df-convert:hover {\n",
              "      background-color: #E2EBFA;\n",
              "      box-shadow: 0px 1px 2px rgba(60, 64, 67, 0.3), 0px 1px 3px 1px rgba(60, 64, 67, 0.15);\n",
              "      fill: #174EA6;\n",
              "    }\n",
              "\n",
              "    [theme=dark] .colab-df-convert {\n",
              "      background-color: #3B4455;\n",
              "      fill: #D2E3FC;\n",
              "    }\n",
              "\n",
              "    [theme=dark] .colab-df-convert:hover {\n",
              "      background-color: #434B5C;\n",
              "      box-shadow: 0px 1px 3px 1px rgba(0, 0, 0, 0.15);\n",
              "      filter: drop-shadow(0px 1px 2px rgba(0, 0, 0, 0.3));\n",
              "      fill: #FFFFFF;\n",
              "    }\n",
              "  </style>\n",
              "\n",
              "      <script>\n",
              "        const buttonEl =\n",
              "          document.querySelector('#df-0f26fa0c-ac82-4611-9d71-5a6eab16a7ed button.colab-df-convert');\n",
              "        buttonEl.style.display =\n",
              "          google.colab.kernel.accessAllowed ? 'block' : 'none';\n",
              "\n",
              "        async function convertToInteractive(key) {\n",
              "          const element = document.querySelector('#df-0f26fa0c-ac82-4611-9d71-5a6eab16a7ed');\n",
              "          const dataTable =\n",
              "            await google.colab.kernel.invokeFunction('convertToInteractive',\n",
              "                                                     [key], {});\n",
              "          if (!dataTable) return;\n",
              "\n",
              "          const docLinkHtml = 'Like what you see? Visit the ' +\n",
              "            '<a target=\"_blank\" href=https://colab.research.google.com/notebooks/data_table.ipynb>data table notebook</a>'\n",
              "            + ' to learn more about interactive tables.';\n",
              "          element.innerHTML = '';\n",
              "          dataTable['output_type'] = 'display_data';\n",
              "          await google.colab.output.renderOutput(dataTable, element);\n",
              "          const docLink = document.createElement('div');\n",
              "          docLink.innerHTML = docLinkHtml;\n",
              "          element.appendChild(docLink);\n",
              "        }\n",
              "      </script>\n",
              "    </div>\n",
              "  </div>\n",
              "  "
            ]
          },
          "metadata": {},
          "execution_count": 81
        }
      ]
    },
    {
      "cell_type": "code",
      "source": [
        "bitcoin_prices_nbeats= bitcoin_prices.copy()\n",
        "for i in range(WINDOW_SIZE):\n",
        "  bitcoin_prices_nbeats[f\"Price+{i+1}\"] = bitcoin_prices_nbeats[\"Price\"].shift(periods=i+1)\n",
        "bitcoin_prices_nbeats.head()"
      ],
      "metadata": {
        "colab": {
          "base_uri": "https://localhost:8080/",
          "height": 281
        },
        "id": "MfbJrDcfNsty",
        "outputId": "c4f1e21d-6fbf-4506-bbe3-3b82126a71eb"
      },
      "execution_count": null,
      "outputs": [
        {
          "output_type": "execute_result",
          "data": {
            "text/plain": [
              "                Price    Price+1    Price+2    Price+3    Price+4  Price+5  \\\n",
              "Date                                                                         \n",
              "2013-10-01  123.65499        NaN        NaN        NaN        NaN      NaN   \n",
              "2013-10-02  125.45500  123.65499        NaN        NaN        NaN      NaN   \n",
              "2013-10-03  108.58483  125.45500  123.65499        NaN        NaN      NaN   \n",
              "2013-10-04  118.67466  108.58483  125.45500  123.65499        NaN      NaN   \n",
              "2013-10-05  121.33866  118.67466  108.58483  125.45500  123.65499      NaN   \n",
              "\n",
              "            Price+6  Price+7  \n",
              "Date                          \n",
              "2013-10-01      NaN      NaN  \n",
              "2013-10-02      NaN      NaN  \n",
              "2013-10-03      NaN      NaN  \n",
              "2013-10-04      NaN      NaN  \n",
              "2013-10-05      NaN      NaN  "
            ],
            "text/html": [
              "\n",
              "  <div id=\"df-240d7e70-5ffe-41f9-8f19-fc94da549464\">\n",
              "    <div class=\"colab-df-container\">\n",
              "      <div>\n",
              "<style scoped>\n",
              "    .dataframe tbody tr th:only-of-type {\n",
              "        vertical-align: middle;\n",
              "    }\n",
              "\n",
              "    .dataframe tbody tr th {\n",
              "        vertical-align: top;\n",
              "    }\n",
              "\n",
              "    .dataframe thead th {\n",
              "        text-align: right;\n",
              "    }\n",
              "</style>\n",
              "<table border=\"1\" class=\"dataframe\">\n",
              "  <thead>\n",
              "    <tr style=\"text-align: right;\">\n",
              "      <th></th>\n",
              "      <th>Price</th>\n",
              "      <th>Price+1</th>\n",
              "      <th>Price+2</th>\n",
              "      <th>Price+3</th>\n",
              "      <th>Price+4</th>\n",
              "      <th>Price+5</th>\n",
              "      <th>Price+6</th>\n",
              "      <th>Price+7</th>\n",
              "    </tr>\n",
              "    <tr>\n",
              "      <th>Date</th>\n",
              "      <th></th>\n",
              "      <th></th>\n",
              "      <th></th>\n",
              "      <th></th>\n",
              "      <th></th>\n",
              "      <th></th>\n",
              "      <th></th>\n",
              "      <th></th>\n",
              "    </tr>\n",
              "  </thead>\n",
              "  <tbody>\n",
              "    <tr>\n",
              "      <th>2013-10-01</th>\n",
              "      <td>123.65499</td>\n",
              "      <td>NaN</td>\n",
              "      <td>NaN</td>\n",
              "      <td>NaN</td>\n",
              "      <td>NaN</td>\n",
              "      <td>NaN</td>\n",
              "      <td>NaN</td>\n",
              "      <td>NaN</td>\n",
              "    </tr>\n",
              "    <tr>\n",
              "      <th>2013-10-02</th>\n",
              "      <td>125.45500</td>\n",
              "      <td>123.65499</td>\n",
              "      <td>NaN</td>\n",
              "      <td>NaN</td>\n",
              "      <td>NaN</td>\n",
              "      <td>NaN</td>\n",
              "      <td>NaN</td>\n",
              "      <td>NaN</td>\n",
              "    </tr>\n",
              "    <tr>\n",
              "      <th>2013-10-03</th>\n",
              "      <td>108.58483</td>\n",
              "      <td>125.45500</td>\n",
              "      <td>123.65499</td>\n",
              "      <td>NaN</td>\n",
              "      <td>NaN</td>\n",
              "      <td>NaN</td>\n",
              "      <td>NaN</td>\n",
              "      <td>NaN</td>\n",
              "    </tr>\n",
              "    <tr>\n",
              "      <th>2013-10-04</th>\n",
              "      <td>118.67466</td>\n",
              "      <td>108.58483</td>\n",
              "      <td>125.45500</td>\n",
              "      <td>123.65499</td>\n",
              "      <td>NaN</td>\n",
              "      <td>NaN</td>\n",
              "      <td>NaN</td>\n",
              "      <td>NaN</td>\n",
              "    </tr>\n",
              "    <tr>\n",
              "      <th>2013-10-05</th>\n",
              "      <td>121.33866</td>\n",
              "      <td>118.67466</td>\n",
              "      <td>108.58483</td>\n",
              "      <td>125.45500</td>\n",
              "      <td>123.65499</td>\n",
              "      <td>NaN</td>\n",
              "      <td>NaN</td>\n",
              "      <td>NaN</td>\n",
              "    </tr>\n",
              "  </tbody>\n",
              "</table>\n",
              "</div>\n",
              "      <button class=\"colab-df-convert\" onclick=\"convertToInteractive('df-240d7e70-5ffe-41f9-8f19-fc94da549464')\"\n",
              "              title=\"Convert this dataframe to an interactive table.\"\n",
              "              style=\"display:none;\">\n",
              "        \n",
              "  <svg xmlns=\"http://www.w3.org/2000/svg\" height=\"24px\"viewBox=\"0 0 24 24\"\n",
              "       width=\"24px\">\n",
              "    <path d=\"M0 0h24v24H0V0z\" fill=\"none\"/>\n",
              "    <path d=\"M18.56 5.44l.94 2.06.94-2.06 2.06-.94-2.06-.94-.94-2.06-.94 2.06-2.06.94zm-11 1L8.5 8.5l.94-2.06 2.06-.94-2.06-.94L8.5 2.5l-.94 2.06-2.06.94zm10 10l.94 2.06.94-2.06 2.06-.94-2.06-.94-.94-2.06-.94 2.06-2.06.94z\"/><path d=\"M17.41 7.96l-1.37-1.37c-.4-.4-.92-.59-1.43-.59-.52 0-1.04.2-1.43.59L10.3 9.45l-7.72 7.72c-.78.78-.78 2.05 0 2.83L4 21.41c.39.39.9.59 1.41.59.51 0 1.02-.2 1.41-.59l7.78-7.78 2.81-2.81c.8-.78.8-2.07 0-2.86zM5.41 20L4 18.59l7.72-7.72 1.47 1.35L5.41 20z\"/>\n",
              "  </svg>\n",
              "      </button>\n",
              "      \n",
              "  <style>\n",
              "    .colab-df-container {\n",
              "      display:flex;\n",
              "      flex-wrap:wrap;\n",
              "      gap: 12px;\n",
              "    }\n",
              "\n",
              "    .colab-df-convert {\n",
              "      background-color: #E8F0FE;\n",
              "      border: none;\n",
              "      border-radius: 50%;\n",
              "      cursor: pointer;\n",
              "      display: none;\n",
              "      fill: #1967D2;\n",
              "      height: 32px;\n",
              "      padding: 0 0 0 0;\n",
              "      width: 32px;\n",
              "    }\n",
              "\n",
              "    .colab-df-convert:hover {\n",
              "      background-color: #E2EBFA;\n",
              "      box-shadow: 0px 1px 2px rgba(60, 64, 67, 0.3), 0px 1px 3px 1px rgba(60, 64, 67, 0.15);\n",
              "      fill: #174EA6;\n",
              "    }\n",
              "\n",
              "    [theme=dark] .colab-df-convert {\n",
              "      background-color: #3B4455;\n",
              "      fill: #D2E3FC;\n",
              "    }\n",
              "\n",
              "    [theme=dark] .colab-df-convert:hover {\n",
              "      background-color: #434B5C;\n",
              "      box-shadow: 0px 1px 3px 1px rgba(0, 0, 0, 0.15);\n",
              "      filter: drop-shadow(0px 1px 2px rgba(0, 0, 0, 0.3));\n",
              "      fill: #FFFFFF;\n",
              "    }\n",
              "  </style>\n",
              "\n",
              "      <script>\n",
              "        const buttonEl =\n",
              "          document.querySelector('#df-240d7e70-5ffe-41f9-8f19-fc94da549464 button.colab-df-convert');\n",
              "        buttonEl.style.display =\n",
              "          google.colab.kernel.accessAllowed ? 'block' : 'none';\n",
              "\n",
              "        async function convertToInteractive(key) {\n",
              "          const element = document.querySelector('#df-240d7e70-5ffe-41f9-8f19-fc94da549464');\n",
              "          const dataTable =\n",
              "            await google.colab.kernel.invokeFunction('convertToInteractive',\n",
              "                                                     [key], {});\n",
              "          if (!dataTable) return;\n",
              "\n",
              "          const docLinkHtml = 'Like what you see? Visit the ' +\n",
              "            '<a target=\"_blank\" href=https://colab.research.google.com/notebooks/data_table.ipynb>data table notebook</a>'\n",
              "            + ' to learn more about interactive tables.';\n",
              "          element.innerHTML = '';\n",
              "          dataTable['output_type'] = 'display_data';\n",
              "          await google.colab.output.renderOutput(dataTable, element);\n",
              "          const docLink = document.createElement('div');\n",
              "          docLink.innerHTML = docLinkHtml;\n",
              "          element.appendChild(docLink);\n",
              "        }\n",
              "      </script>\n",
              "    </div>\n",
              "  </div>\n",
              "  "
            ]
          },
          "metadata": {},
          "execution_count": 82
        }
      ]
    },
    {
      "cell_type": "code",
      "source": [
        "X= bitcoin_prices_nbeats.dropna().drop(\"Price\", axis=1)\n",
        "y= bitcoin_prices_nbeats.dropna()[\"Price\"]\n",
        "\n",
        "split_size= int(len(X)*0.8)\n",
        "X_train,y_train=X[:split_size], y[:split_size]\n",
        "X_test, y_test = X[split_size:], y[split_size:]\n"
      ],
      "metadata": {
        "id": "gC0vImB3WDhD"
      },
      "execution_count": null,
      "outputs": []
    },
    {
      "cell_type": "code",
      "source": [
        "train_features_dataset= tf.data.Dataset.from_tensor_slices(X_train)\n",
        "train_labels_dataset= tf.data.Dataset.from_tensor_slices(y_train)\n",
        "\n",
        "test_features_dataset= tf.data.Dataset.from_tensor_slices(X_test)\n",
        "test_labels_dataset= tf.data.Dataset.from_tensor_slices(y_test)\n",
        "\n",
        "train_dataset= tf.data.Dataset.zip((train_features_dataset,train_labels_dataset))\n",
        "test_dataset= tf.data.Dataset.zip((test_features_dataset,test_labels_dataset))\n",
        "\n",
        "BATCH_SIZE=1024\n",
        "\n",
        "train_dataset=train_dataset.batch(BATCH_SIZE).prefetch(tf.data.AUTOTUNE)\n",
        "test_dataset=test_dataset.batch(BATCH_SIZE).prefetch(tf.data.AUTOTUNE)\n",
        "\n",
        "train_dataset,test_dataset"
      ],
      "metadata": {
        "colab": {
          "base_uri": "https://localhost:8080/"
        },
        "id": "AWrjEOImXahB",
        "outputId": "f703b148-fa4a-4449-850f-babbbc2e364c"
      },
      "execution_count": null,
      "outputs": [
        {
          "output_type": "execute_result",
          "data": {
            "text/plain": [
              "(<PrefetchDataset element_spec=(TensorSpec(shape=(None, 7), dtype=tf.float64, name=None), TensorSpec(shape=(None,), dtype=tf.float64, name=None))>,\n",
              " <PrefetchDataset element_spec=(TensorSpec(shape=(None, 7), dtype=tf.float64, name=None), TensorSpec(shape=(None,), dtype=tf.float64, name=None))>)"
            ]
          },
          "metadata": {},
          "execution_count": 84
        }
      ]
    },
    {
      "cell_type": "code",
      "source": [
        "N_EPOCHS= 5000\n",
        "N_NEURONS=512\n",
        "N_LAYERS=4\n",
        "N_STACKS=30\n",
        "\n",
        "INPUT_SIZE= WINDOW_SIZE*HORIZON\n",
        "THETA_SIZE= INPUT_SIZE+HORIZON\n",
        "\n",
        "INPUT_SIZE,THETA_SIZE"
      ],
      "metadata": {
        "colab": {
          "base_uri": "https://localhost:8080/"
        },
        "id": "GK5LufWCn2xP",
        "outputId": "674b28c5-c43b-41a4-f678-829c621cf1b1"
      },
      "execution_count": null,
      "outputs": [
        {
          "output_type": "execute_result",
          "data": {
            "text/plain": [
              "(7, 8)"
            ]
          },
          "metadata": {},
          "execution_count": 85
        }
      ]
    },
    {
      "cell_type": "code",
      "source": [
        "tensor_1= tf.range(10)+10\n",
        "tensor_2= tf.range(10)"
      ],
      "metadata": {
        "id": "MLK70XBLmMV5"
      },
      "execution_count": null,
      "outputs": []
    },
    {
      "cell_type": "code",
      "source": [
        "tensor_1,tensor_2"
      ],
      "metadata": {
        "colab": {
          "base_uri": "https://localhost:8080/"
        },
        "id": "LG2nr3Inm7hs",
        "outputId": "b45673af-2b66-4db5-f23c-d7de67810888"
      },
      "execution_count": null,
      "outputs": [
        {
          "output_type": "execute_result",
          "data": {
            "text/plain": [
              "(<tf.Tensor: shape=(10,), dtype=int32, numpy=array([10, 11, 12, 13, 14, 15, 16, 17, 18, 19], dtype=int32)>,\n",
              " <tf.Tensor: shape=(10,), dtype=int32, numpy=array([0, 1, 2, 3, 4, 5, 6, 7, 8, 9], dtype=int32)>)"
            ]
          },
          "metadata": {},
          "execution_count": 87
        }
      ]
    },
    {
      "cell_type": "code",
      "source": [
        "%%time\n",
        "\n",
        "tf.random.set_seed(42)\n",
        "\n",
        "nbeats_block_layer=NBeatsBlock(input_size=INPUT_SIZE,\n",
        "                               theta_size=THETA_SIZE,\n",
        "                               horizon=HORIZON,\n",
        "                               n_neurons=N_NEURONS,\n",
        "                               n_layers=N_LAYERS,\n",
        "                               name='InitialBlock')\n",
        "\n",
        "stack_input=layers.Input(shape=(INPUT_SIZE),name=\"stack_input\")\n",
        "\n",
        "residuals, forecast= nbeats_block_layer(stack_input)\n",
        "\n",
        "for i, _ in enumerate(range(N_STACKS-1)):\n",
        "  backast,block_forecast=NBeatsBlock(\n",
        "    input_size=INPUT_SIZE,\n",
        "    theta_size=THETA_SIZE,\n",
        "    horizon=HORIZON,\n",
        "    n_neurons=N_NEURONS,\n",
        "    n_layers=N_LAYERS,\n",
        "    name=f'NBeatsBlock_{i}'\n",
        "  )(residuals)\n",
        "\n",
        "  residuals=layers.subtract([residuals,backcast], name=f\"subtract_{i}\")\n",
        "  forecast = layers.add([forecast, block_forecast], name=f\"add_{i}\")\n",
        "\n",
        "model_7= tf.keras.Model(inputs=stack_input, outputs=forecast, name=\"model_7_NBEATS\")\n",
        "\n",
        "model_7.compile(loss=\"mae\",\n",
        "                optimizer=tf.keras.optimizers.Adam(0.001),\n",
        "                metrics=[\"mae\", \"mse\"])\n",
        "\n",
        "model_7.fit(train_dataset,\n",
        "            epochs=N_EPOCHS,\n",
        "            validation_data=test_dataset,\n",
        "            verbose=0, # prevent large amounts of training outputs\n",
        "            # callbacks=[create_model_checkpoint(model_name=stack_model.name)] # saving model every epoch consumes far too much time\n",
        "            callbacks=[tf.keras.callbacks.EarlyStopping(monitor=\"val_loss\", patience=200, restore_best_weights=True),\n",
        "                      tf.keras.callbacks.ReduceLROnPlateau(monitor=\"val_loss\", patience=100, verbose=1)])\n",
        " "
      ],
      "metadata": {
        "colab": {
          "base_uri": "https://localhost:8080/"
        },
        "id": "G5-n13rhsYXB",
        "outputId": "86b3811c-8403-4b23-9701-9c1a31286792"
      },
      "execution_count": null,
      "outputs": [
        {
          "output_type": "stream",
          "name": "stdout",
          "text": [
            "\n",
            "Epoch 597: ReduceLROnPlateau reducing learning rate to 0.00010000000474974513.\n",
            "\n",
            "Epoch 959: ReduceLROnPlateau reducing learning rate to 1.0000000474974514e-05.\n",
            "\n",
            "Epoch 1059: ReduceLROnPlateau reducing learning rate to 1.0000000656873453e-06.\n",
            "CPU times: user 3min 5s, sys: 6.2 s, total: 3min 12s\n",
            "Wall time: 3min 32s\n"
          ]
        },
        {
          "output_type": "execute_result",
          "data": {
            "text/plain": [
              "<keras.callbacks.History at 0x7f291ad8d8b0>"
            ]
          },
          "metadata": {},
          "execution_count": 88
        }
      ]
    },
    {
      "cell_type": "code",
      "source": [
        "model_7.evaluate(test_dataset)\n",
        "\n",
        "model_7_preds = make_preds(model_7, test_dataset)\n",
        "model_7_preds[:10]\n",
        "model_7_preds= np.float64(model_7_preds)\n",
        "model_7_results = evaluate_preds(y_true=y_test,\n",
        "                                 y_pred=model_7_preds)\n",
        "model_7_results"
      ],
      "metadata": {
        "colab": {
          "base_uri": "https://localhost:8080/"
        },
        "id": "6HrHTNVaywif",
        "outputId": "dd0d0396-5041-4b4a-c377-ee49fd9739d6"
      },
      "execution_count": null,
      "outputs": [
        {
          "output_type": "stream",
          "name": "stdout",
          "text": [
            "1/1 [==============================] - 0s 39ms/step - loss: 569.2932 - mae: 569.2932 - mse: 1153430.6250\n",
            "1/1 [==============================] - 0s 21ms/step\n"
          ]
        },
        {
          "output_type": "execute_result",
          "data": {
            "text/plain": [
              "{'mae': 569.293225820123,\n",
              " 'mse': 1153430.7154340276,\n",
              " 'rmse': 1073.978917592905,\n",
              " 'mape': 2.5652383468258786,\n",
              " 'mase': nan}"
            ]
          },
          "metadata": {},
          "execution_count": 91
        }
      ]
    },
    {
      "cell_type": "code",
      "source": [
        "naive_results"
      ],
      "metadata": {
        "colab": {
          "base_uri": "https://localhost:8080/"
        },
        "id": "9BVIgfbKy1Pf",
        "outputId": "976c669a-a3f8-4745-bdc7-77759a3df464"
      },
      "execution_count": null,
      "outputs": [
        {
          "output_type": "execute_result",
          "data": {
            "text/plain": [
              "{'mae': 567.9802273457541,\n",
              " 'mse': 1147547.1250238959,\n",
              " 'rmse': 1071.2362601330744,\n",
              " 'mape': 2.516524929982267,\n",
              " 'mase': 0.9995699939182624}"
            ]
          },
          "metadata": {},
          "execution_count": 92
        }
      ]
    }
  ]
}